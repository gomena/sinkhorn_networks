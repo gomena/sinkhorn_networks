{
 "cells": [
  {
   "cell_type": "code",
   "execution_count": 1,
   "metadata": {},
   "outputs": [],
   "source": [
    "from tensorflow.examples.tutorials.mnist import input_data\n",
    "import tensorflow as tf\n",
    "import numpy as np\n",
    "import optimizer\n",
    "import sinkhorn_ops\n",
    "import matplotlib.pyplot as plt\n",
    "from scipy.misc import imresize\n",
    "from scipy.optimize import linear_sum_assignment\n",
    "\n",
    "%matplotlib inline"
   ]
  },
  {
   "cell_type": "code",
   "execution_count": 2,
   "metadata": {},
   "outputs": [],
   "source": [
    "#Define some ad-hoc merging, splitting and mixing functions\n",
    "\n",
    "\n",
    "def batch_split(batch, n_squares_side, n_channels=1):\n",
    "    \n",
    "    side = int(np.sqrt(batch.shape[1]))\n",
    "    batch_size = batch.shape[0]\n",
    "    n_squares = n_squares_side ** 2\n",
    "    \n",
    "    batch = np.reshape(batch, [-1, side, side, n_channels])\n",
    "    batch = np.reshape(batch, [batch_size, n_squares_side, side/n_squares_side, side, n_channels])\n",
    "    batch = np.transpose(batch, [0, 2, 1, 3, 4])\n",
    "    batch = np.reshape(batch, [batch_size, side/n_squares_side, n_squares, side/n_squares_side, n_channels])\n",
    "    batch = np.transpose(batch, [0, 2, 1, 3, 4])\n",
    "    return batch\n",
    "\n",
    "def stack_batch_split(batch):\n",
    "    return np.reshape(batch, [batch.shape[0]*batch.shape[1], batch.shape[2], batch.shape[3], batch.shape[4]])\n",
    "\n",
    "\n",
    "def unflatten_batch(batch, n_channels=1):\n",
    "    print(np.sqrt(batch.shape[2]/n_channels))\n",
    "    side_square = int(np.sqrt(batch.shape[2]/n_channels))\n",
    "    return np.reshape(batch, [batch.shape[0], batch.shape[1], side_square, side_square, n_channels])\n",
    "\n",
    "def join_batch_split(batch):\n",
    "    batch_size = batch.shape[0]\n",
    "    n_squares = batch.shape[1]\n",
    "    side_quare = batch.shape[2]\n",
    "    n_channels = batch.shape[4]\n",
    "    n_squares_side = int(np.sqrt(n_squares))\n",
    "    batch = np.transpose(batch, [0, 1, 3, 2, 4])\n",
    "    batch = np.reshape(batch, [batch_size, n_squares_side, side_square*n_squares_side, side_square, n_channels])\n",
    "    batch = np.transpose(batch, [0,1, 3,2,4])\n",
    "    batch = np.reshape(batch, [batch_size, 1, side_square*n_squares_side, side_square*n_squares_side, n_channels])\n",
    "    batch = np.reshape(batch, [batch_size, side_square*n_squares_side, side_square*n_squares_side, n_channels])\n",
    "    return batch\n",
    "\n",
    "def resized_dims(n_squares_side):\n",
    "    if(n_squares_side==2):\n",
    "        side = 28\n",
    "        side_square = 14\n",
    "    if(n_squares_side==3):\n",
    "        side = 27\n",
    "        side_square = 9\n",
    "    if(n_squares_side==4):\n",
    "        side = 28\n",
    "        side_square = 7\n",
    "    if(n_squares_side==5):\n",
    "        side = 30\n",
    "        side_square = 6\n",
    "    return side, side_square\n",
    "\n",
    "def resize_batch(batch, side_new):\n",
    "    batch_new = np.zeros((batch.shape[0], side_new **2))\n",
    "    side = int(np.sqrt(batch.shape[1]))\n",
    "    for i in range(batch.shape[0]):\n",
    "        a = imresize(np.reshape(batch[i,:], [side,side]), [side_new, side_new])\n",
    "        a = a.flatten()\n",
    "        a = a/255.0\n",
    "        batch_new[i,:] = a.flatten()\n",
    "    return batch_new\n",
    "\n",
    "\n",
    "def soft_to_hard(soft_perm):\n",
    "    \n",
    "    a,b = linear_sum_assignment(-soft_perm)\n",
    "    ma = np.zeros((np.shape(soft_perm)))\n",
    "    for i in range(soft_perm.shape[0]):\n",
    "        ma[i, b[i]] = 1\n",
    "    return ma\n"
   ]
  },
  {
   "cell_type": "code",
   "execution_count": 3,
   "metadata": {},
   "outputs": [],
   "source": [
    "#Define model params\n",
    "batch_size = 100\n",
    "n_iter = 5000\n",
    "samples_per_num = 10\n",
    "n_iter_sinkhorn = 20\n",
    "noise_factor = 1.0\n",
    "keep_prob =1.0\n",
    "opt = 'sgd'\n",
    "n_units = 256\n",
    "temp = 1.0\n",
    "lr = 0.1\n",
    "\n",
    "#mnist data\n",
    "rfield_size = 5\n",
    "n_squares_side = 3\n",
    "n_channels = 1\n",
    "stride = 2\n",
    "n_squares = n_squares_side **2\n",
    "\n",
    "side, side_square = resized_dims(n_squares_side)\n"
   ]
  },
  {
   "cell_type": "code",
   "execution_count": 4,
   "metadata": {},
   "outputs": [],
   "source": [
    "#Main neural network definitions\n",
    "\n",
    "def create_log_alpha():\n",
    "    #create the matrix of log_alpha, that will later will converted into a soft permutation\n",
    "    #this relies on some NN processing (convolutional), see below\n",
    "    fc = tf.contrib.layers.fully_connected\n",
    "    flatten = tf.contrib.layers.flatten\n",
    "    dropout = tf.contrib.layers.dropout\n",
    "    def conv(input_image, kernel_shape, bias_shape):\n",
    "        weights = tf.get_variable(\"weights\", kernel_shape,\n",
    "                                 initializer = tf.random_normal_initializer())\n",
    "        biases = tf.get_variable(\"biases\", bias_shape, \n",
    "                                initializer=tf.constant_initializer(0.0))\n",
    "        convolutional = tf.nn.conv2d(input_image, weights, \n",
    "                                     strides = [1, 1, 1, 1],\n",
    "                                     padding=\"SAME\")\n",
    "        out_relu = tf.nn.relu(convolutional + biases)\n",
    "        out_maxpool =tf.nn.max_pool(out_relu, \n",
    "                                    ksize=[1, stride, stride, 1],\n",
    "                                   strides=[1, stride, stride, 1],\n",
    "                                   padding=\"SAME\")\n",
    "        return out_maxpool\n",
    "    def conv_and_fc(input_image):\n",
    "        with tf.variable_scope(\"conv1\"):\n",
    "            conv_output = conv(input_image, [rfield_size, rfield_size, n_channels, n_units], [n_units])\n",
    "        fully_connected_output = dropout(tf.cast(fc(flatten(conv_output), n_squares, activation_fn = None), tf.float32),\n",
    "                                        keep_prob)\n",
    "        return fully_connected_output\n",
    "    \n",
    "    with tf.variable_scope(\"model_params\"):\n",
    "        log_alpha = tf.reshape(conv_and_fc(stack_scrambled_images_split), [-1, n_squares, n_squares])\n",
    "    return log_alpha"
   ]
  },
  {
   "cell_type": "code",
   "execution_count": 5,
   "metadata": {},
   "outputs": [
    {
     "name": "stdout",
     "output_type": "stream",
     "text": [
      "WARNING:tensorflow:From /home/gomena/.local/lib/python2.7/site-packages/tensorflow/python/framework/op_def_library.py:263: colocate_with (from tensorflow.python.framework.ops) is deprecated and will be removed in a future version.\n",
      "Instructions for updating:\n",
      "Colocations handled automatically by placer.\n",
      "WARNING:tensorflow:From /home/gomena/.local/lib/python2.7/site-packages/tensorflow/contrib/layers/python/layers/layers.py:1624: flatten (from tensorflow.python.layers.core) is deprecated and will be removed in a future version.\n",
      "Instructions for updating:\n",
      "Use keras.layers.flatten instead.\n",
      "WARNING:tensorflow:From /home/gomena/.local/lib/python2.7/site-packages/tensorflow/python/keras/layers/core.py:143: calling dropout (from tensorflow.python.ops.nn_ops) with keep_prob is deprecated and will be removed in a future version.\n",
      "Instructions for updating:\n",
      "Please use `rate` instead of `keep_prob`. Rate should be set to `rate = 1 - keep_prob`.\n",
      "WARNING:tensorflow:From /home/gomena/.local/lib/python2.7/site-packages/tensorflow/python/ops/math_ops.py:3066: to_int32 (from tensorflow.python.ops.math_ops) is deprecated and will be removed in a future version.\n",
      "Instructions for updating:\n",
      "Use tf.cast instead.\n"
     ]
    }
   ],
   "source": [
    "#Now we define the main TF variables\n",
    "\n",
    "scrambled_split = tf.placeholder(tf.float32,[None, n_squares, side_square, side_square, 1])\n",
    "scrambled_split_tiled = tf.tile(scrambled_split, [samples_per_num, 1, 1, 1, 1])\n",
    "\n",
    "stack_scrambled_images_split = tf.placeholder(tf.float32,[None, side_square, side_square, 1])\n",
    "\n",
    "real_split = tf.placeholder(tf.float32,[None, n_squares, side_square, side_square, 1])\n",
    "real_split_tiled = tf.tile(real_split, [samples_per_num, 1, 1, 1, 1])\n",
    "\n",
    "\n",
    "temperature = tf.constant(temp, dtype=tf.float32)\n",
    "global_step = tf.Variable(0, trainable=False)\n",
    "fc = tf.contrib.layers.fully_connected\n",
    "\n",
    "\n",
    "\n",
    "log_alpha = create_log_alpha()\n",
    "(soft_perms_inf, log_alpha_w_noise) = sinkhorn_ops.gumbel_sinkhorn(log_alpha, temp, samples_per_num,\n",
    "                                                                   noise_factor, n_iter_sinkhorn, squeeze=False)\n",
    "\n",
    "inv_soft_perms = tf.transpose(soft_perms_inf, [0, 1, 3, 2])\n",
    "inv_soft_perms_flat = tf.reshape( tf.transpose(inv_soft_perms, [1, 0, 2, 3]), [-1, n_squares, n_squares])\n",
    "\n",
    "real_split_tiled = tf.reshape(real_split_tiled, [-1, n_squares, side_square ** 2 * n_channels])\n",
    "scrambled_split_tiled = tf.reshape(scrambled_split_tiled, [-1, n_squares, side_square ** 2* n_channels])\n",
    "ordered_inf = tf.matmul(inv_soft_perms_flat, scrambled_split_tiled)\n",
    "l2s_diff = tf.reduce_mean(tf.square(real_split_tiled - ordered_inf))\n",
    "opt = optimizer.set_optimizer(opt, lr, opt_eps=1e-8)\n",
    "train_op = tf.contrib.training.create_train_op(l2s_diff, opt, global_step=global_step)\n",
    "\n"
   ]
  },
  {
   "cell_type": "code",
   "execution_count": 6,
   "metadata": {},
   "outputs": [
    {
     "name": "stdout",
     "output_type": "stream",
     "text": [
      "WARNING:tensorflow:From <ipython-input-6-aaec4e35da18>:2: read_data_sets (from tensorflow.contrib.learn.python.learn.datasets.mnist) is deprecated and will be removed in a future version.\n",
      "Instructions for updating:\n",
      "Please use alternatives such as official/mnist/dataset.py from tensorflow/models.\n",
      "WARNING:tensorflow:From /home/gomena/.local/lib/python2.7/site-packages/tensorflow/contrib/learn/python/learn/datasets/mnist.py:260: maybe_download (from tensorflow.contrib.learn.python.learn.datasets.base) is deprecated and will be removed in a future version.\n",
      "Instructions for updating:\n",
      "Please write your own downloading logic.\n",
      "WARNING:tensorflow:From /home/gomena/.local/lib/python2.7/site-packages/tensorflow/contrib/learn/python/learn/datasets/mnist.py:262: extract_images (from tensorflow.contrib.learn.python.learn.datasets.mnist) is deprecated and will be removed in a future version.\n",
      "Instructions for updating:\n",
      "Please use tf.data to implement this functionality.\n",
      "Extracting /tmp/train-images-idx3-ubyte.gz\n",
      "WARNING:tensorflow:From /home/gomena/.local/lib/python2.7/site-packages/tensorflow/contrib/learn/python/learn/datasets/mnist.py:267: extract_labels (from tensorflow.contrib.learn.python.learn.datasets.mnist) is deprecated and will be removed in a future version.\n",
      "Instructions for updating:\n",
      "Please use tf.data to implement this functionality.\n",
      "Extracting /tmp/train-labels-idx1-ubyte.gz\n",
      "WARNING:tensorflow:From /home/gomena/.local/lib/python2.7/site-packages/tensorflow/contrib/learn/python/learn/datasets/mnist.py:110: dense_to_one_hot (from tensorflow.contrib.learn.python.learn.datasets.mnist) is deprecated and will be removed in a future version.\n",
      "Instructions for updating:\n",
      "Please use tf.one_hot on tensors.\n",
      "Extracting /tmp/t10k-images-idx3-ubyte.gz\n",
      "Extracting /tmp/t10k-labels-idx1-ubyte.gz\n",
      "WARNING:tensorflow:From /home/gomena/.local/lib/python2.7/site-packages/tensorflow/contrib/learn/python/learn/datasets/mnist.py:290: __init__ (from tensorflow.contrib.learn.python.learn.datasets.mnist) is deprecated and will be removed in a future version.\n",
      "Instructions for updating:\n",
      "Please use alternatives such as official/mnist/dataset.py from tensorflow/models.\n",
      "Extracting /tmp/train-images-idx3-ubyte.gz\n",
      "Extracting /tmp/train-labels-idx1-ubyte.gz\n",
      "Extracting /tmp/t10k-images-idx3-ubyte.gz\n",
      "Extracting /tmp/t10k-labels-idx1-ubyte.gz\n",
      "WARNING:tensorflow:From /home/gomena/.local/lib/python2.7/site-packages/tensorflow/python/util/tf_should_use.py:193: initialize_all_variables (from tensorflow.python.ops.variables) is deprecated and will be removed after 2017-03-02.\n",
      "Instructions for updating:\n",
      "Use `tf.global_variables_initializer` instead.\n"
     ]
    },
    {
     "name": "stderr",
     "output_type": "stream",
     "text": [
      "/home/gomena/.local/lib/python2.7/site-packages/ipykernel_launcher.py:58: DeprecationWarning: `imresize` is deprecated!\n",
      "`imresize` is deprecated in SciPy 1.0.0, and will be removed in 1.3.0.\n",
      "Use Pillow instead: ``numpy.array(Image.fromarray(arr).resize())``.\n"
     ]
    },
    {
     "name": "stdout",
     "output_type": "stream",
     "text": [
      "Step 1, Loss: 0.0670319\n",
      "Step 51, Loss: 0.0148525\n",
      "Step 101, Loss: 0.0103549\n",
      "Step 151, Loss: 0.0103420\n",
      "Step 201, Loss: 0.0109100\n",
      "Step 251, Loss: 0.0089638\n",
      "Step 301, Loss: 0.0102689\n",
      "Step 351, Loss: 0.0067159\n",
      "Step 401, Loss: 0.0082168\n",
      "Step 451, Loss: 0.0079941\n",
      "Step 501, Loss: 0.0069474\n",
      "Step 551, Loss: 0.0080404\n",
      "Step 601, Loss: 0.0075709\n",
      "Step 651, Loss: 0.0091671\n",
      "Step 701, Loss: 0.0064019\n",
      "Step 751, Loss: 0.0074511\n",
      "Step 801, Loss: 0.0063575\n",
      "Step 851, Loss: 0.0066268\n",
      "Step 901, Loss: 0.0091130\n",
      "Step 951, Loss: 0.0084763\n",
      "Step 1001, Loss: 0.0091790\n",
      "Step 1051, Loss: 0.0053952\n",
      "Step 1101, Loss: 0.0067059\n",
      "Step 1151, Loss: 0.0077653\n",
      "Step 1201, Loss: 0.0060088\n",
      "Step 1251, Loss: 0.0070193\n",
      "Step 1301, Loss: 0.0066228\n",
      "Step 1351, Loss: 0.0069580\n",
      "Step 1401, Loss: 0.0058140\n",
      "Step 1451, Loss: 0.0081549\n",
      "Step 1501, Loss: 0.0077230\n",
      "Step 1551, Loss: 0.0069600\n",
      "Step 1601, Loss: 0.0067553\n",
      "Step 1651, Loss: 0.0054583\n",
      "Step 1701, Loss: 0.0059950\n",
      "Step 1751, Loss: 0.0068416\n",
      "Step 1801, Loss: 0.0069800\n",
      "Step 1851, Loss: 0.0065116\n",
      "Step 1901, Loss: 0.0061828\n",
      "Step 1951, Loss: 0.0060907\n",
      "Step 2001, Loss: 0.0082628\n",
      "Step 2051, Loss: 0.0058674\n",
      "Step 2101, Loss: 0.0074935\n",
      "Step 2151, Loss: 0.0055175\n",
      "Step 2201, Loss: 0.0082707\n",
      "Step 2251, Loss: 0.0069970\n",
      "Step 2301, Loss: 0.0059114\n",
      "Step 2351, Loss: 0.0053655\n",
      "Step 2401, Loss: 0.0053678\n",
      "Step 2451, Loss: 0.0058658\n",
      "Step 2501, Loss: 0.0052646\n",
      "Step 2551, Loss: 0.0074475\n",
      "Step 2601, Loss: 0.0041634\n",
      "Step 2651, Loss: 0.0056650\n",
      "Step 2701, Loss: 0.0048059\n",
      "Step 2751, Loss: 0.0070080\n",
      "Step 2801, Loss: 0.0060233\n",
      "Step 2851, Loss: 0.0061988\n",
      "Step 2901, Loss: 0.0065541\n",
      "Step 2951, Loss: 0.0069426\n",
      "Step 3001, Loss: 0.0056423\n",
      "Step 3051, Loss: 0.0059674\n",
      "Step 3101, Loss: 0.0063517\n",
      "Step 3151, Loss: 0.0057843\n",
      "Step 3201, Loss: 0.0078744\n",
      "Step 3251, Loss: 0.0069137\n",
      "Step 3301, Loss: 0.0055667\n",
      "Step 3351, Loss: 0.0060304\n",
      "Step 3401, Loss: 0.0072977\n",
      "Step 3451, Loss: 0.0051662\n",
      "Step 3501, Loss: 0.0059740\n",
      "Step 3551, Loss: 0.0059619\n",
      "Step 3601, Loss: 0.0057621\n",
      "Step 3651, Loss: 0.0052445\n",
      "Step 3701, Loss: 0.0060819\n",
      "Step 3751, Loss: 0.0060642\n",
      "Step 3801, Loss: 0.0063110\n",
      "Step 3851, Loss: 0.0076434\n",
      "Step 3901, Loss: 0.0065169\n",
      "Step 3951, Loss: 0.0057022\n",
      "Step 4001, Loss: 0.0047510\n",
      "Step 4051, Loss: 0.0051010\n",
      "Step 4101, Loss: 0.0064046\n",
      "Step 4151, Loss: 0.0051087\n",
      "Step 4201, Loss: 0.0063645\n",
      "Step 4251, Loss: 0.0049028\n",
      "Step 4301, Loss: 0.0063307\n",
      "Step 4351, Loss: 0.0075900\n",
      "Step 4401, Loss: 0.0066586\n",
      "Step 4451, Loss: 0.0062120\n",
      "Step 4501, Loss: 0.0052487\n",
      "Step 4551, Loss: 0.0061955\n",
      "Step 4601, Loss: 0.0048886\n",
      "Step 4651, Loss: 0.0058284\n",
      "Step 4701, Loss: 0.0053173\n",
      "Step 4751, Loss: 0.0058136\n",
      "Step 4801, Loss: 0.0062769\n",
      "Step 4851, Loss: 0.0040007\n",
      "Step 4901, Loss: 0.0070926\n",
      "Step 4951, Loss: 0.0061154\n"
     ]
    }
   ],
   "source": [
    "#Lets train the model\n",
    "data_train = input_data.read_data_sets('/tmp/', one_hot=True).train \n",
    "data_test = input_data.read_data_sets('/tmp/', one_hot=True).test \n",
    "\n",
    "init_op=tf.initialize_all_variables()\n",
    "sess=tf.InteractiveSession()\n",
    "sess.run(init_op)\n",
    "\n",
    "for i in range(n_iter):\n",
    "    np_x,np_y=data_train.next_batch(batch_size)\n",
    "    np_x = resize_batch(np_x, side)\n",
    "\n",
    "    real_images_split = batch_split(np_x, n_squares_side)\n",
    "    scrambled_images_split = np.zeros(real_images_split.shape)\n",
    "    \n",
    "    for j in range(batch_size):\n",
    "        perm = np.random.permutation(n_squares)\n",
    "        scrambled_images_split[j,:, :, :] = real_images_split[j, perm, :, :]\n",
    "    stacked_scrambled_images_split = stack_batch_split(scrambled_images_split)\n",
    "    _,loss=sess.run([train_op,l2s_diff],{real_split:real_images_split,\n",
    "                                         scrambled_split:scrambled_images_split,\n",
    "                                        stack_scrambled_images_split:stacked_scrambled_images_split})\n",
    "    \n",
    "   \n",
    "    if i % 50 == 1:\n",
    "        print('Step %d, Loss: %0.7f' % (i,loss))\n"
   ]
  },
  {
   "cell_type": "code",
   "execution_count": 7,
   "metadata": {},
   "outputs": [
    {
     "name": "stdout",
     "output_type": "stream",
     "text": [
      "9.0\n"
     ]
    },
    {
     "name": "stderr",
     "output_type": "stream",
     "text": [
      "/home/gomena/.local/lib/python2.7/site-packages/ipykernel_launcher.py:58: DeprecationWarning: `imresize` is deprecated!\n",
      "`imresize` is deprecated in SciPy 1.0.0, and will be removed in 1.3.0.\n",
      "Use Pillow instead: ``numpy.array(Image.fromarray(arr).resize())``.\n"
     ]
    }
   ],
   "source": [
    "#Now let's test the model\n",
    "batch_size_test=10\n",
    "np_x,np_y=data_test.next_batch(batch_size_test)\n",
    "np_x = resize_batch(np_x, side)\n",
    "real_images_split = batch_split(np_x, n_squares_side)\n",
    "scrambled_images_split = np.zeros(real_images_split.shape)\n",
    "    \n",
    "for i in range(batch_size_test):\n",
    "    perm = np.random.permutation(n_squares)\n",
    "    scrambled_images_split[i,:, :, :] = real_images_split[i, perm, :, :]\n",
    "stacked_scrambled_images_split = stack_batch_split(scrambled_images_split)\n",
    "[unscrambled_images,loss, inv_soft_perms_np] = sess.run([ordered_inf,l2s_diff, inv_soft_perms],{real_split:real_images_split,\n",
    "                            scrambled_split:scrambled_images_split,\n",
    "                            stack_scrambled_images_split:stacked_scrambled_images_split})\n",
    "unscrambled_images = unscrambled_images[:batch_size_test,:,:]\n",
    "inv_hard_perms= np.zeros((batch_size_test, n_squares, n_squares))\n",
    "for i in range(batch_size_test):\n",
    "    inv_hard_perms[i,:,:] = soft_to_hard(inv_soft_perms_np[i,0,:,:])\n",
    "unflatten_inf = unflatten_batch(unscrambled_images)\n",
    "hard_inf = np.matmul(inv_hard_perms, np.reshape(scrambled_images_split, [batch_size_test,n_squares_side **2 ,-1]))\n",
    "unflatten_hard_inf =np.reshape(hard_inf, unflatten_inf.shape)\n",
    "joined_hard_inf =join_batch_split(unflatten_hard_inf)\n",
    "joined_inf = join_batch_split(unflatten_inf)\n",
    "joined_scrambled = join_batch_split(scrambled_images_split)\n",
    "joined_real = join_batch_split(real_images_split)"
   ]
  },
  {
   "cell_type": "code",
   "execution_count": 8,
   "metadata": {},
   "outputs": [
    {
     "data": {
      "image/png": "[encoded data removed]",
      "text/plain": [
       "<Figure size 1296x2160 with 40 Axes>"
      ]
     },
     "metadata": {
      "needs_background": "light"
     },
     "output_type": "display_data"
    }
   ],
   "source": [
    "#Compare reconstructions with real data\n",
    "fig, ax = plt.subplots(batch_size_test,4,figsize=(18,30))\n",
    "\n",
    "for i in range(batch_size_test):\n",
    "   \n",
    "    ax[i,0].imshow(joined_real[i,:,:,0],cmap='Greys')\n",
    "    ax[i,0].get_xaxis().set_visible(False)\n",
    "    ax[i,0].get_yaxis().set_visible(False)\n",
    "    \n",
    "    ax[i,1].imshow(joined_scrambled[i,:,:,0],cmap='Greys')\n",
    "    ax[i,1].get_xaxis().set_visible(False)\n",
    "    ax[i,1].get_yaxis().set_visible(False)\n",
    "    \n",
    "    ax[i,2].imshow(joined_inf[i,:,:,0],cmap='Greys')\n",
    "    ax[i,2].get_xaxis().set_visible(False)\n",
    "    ax[i,2].get_yaxis().set_visible(False)\n",
    "    \n",
    "    ax[i,2].imshow(joined_inf[i,:,:,0],cmap='Greys')\n",
    "    ax[i,2].get_xaxis().set_visible(False)\n",
    "    ax[i,2].get_yaxis().set_visible(False)\n",
    "   \n",
    "    ax[i,3].imshow(joined_hard_inf[i,:,:,0],cmap='Greys')\n",
    "    ax[i,3].get_xaxis().set_visible(False)\n",
    "    ax[i,3].get_yaxis().set_visible(False)\n",
    "   \n",
    "\n",
    "    if(i==0):\n",
    "        ax[i,0].set_title('Real',fontsize =25)\n",
    "        ax[i,1].set_title('Real Scrambled',fontsize =25)\n",
    "        ax[i,2].set_title('Soft Reconstructed',fontsize =25)\n",
    "        ax[i,3].set_title('Hard Reconstructed',fontsize =25)"
   ]
  },
  {
   "cell_type": "code",
   "execution_count": 9,
   "metadata": {},
   "outputs": [
    {
     "data": {
      "text/plain": [
       "(10, 9, 9, 9, 1)"
      ]
     },
     "execution_count": 9,
     "metadata": {},
     "output_type": "execute_result"
    }
   ],
   "source": [
    "scrambled_images_split.shape"
   ]
  },
  {
   "cell_type": "code",
   "execution_count": 10,
   "metadata": {},
   "outputs": [
    {
     "data": {
      "image/png": "[encoded data removed]",
      "text/plain": [
       "<Figure size 720x360 with 9 Axes>"
      ]
     },
     "metadata": {
      "needs_background": "light"
     },
     "output_type": "display_data"
    }
   ],
   "source": [
    "fix, ax =plt.subplots(3,3,figsize=(10,5))\n",
    "ax=ax.flatten()\n",
    "for i in range(9):\n",
    "    ax[i].imshow(scrambled_images_split[0,i,:,:,0])"
   ]
  },
  {
   "cell_type": "code",
   "execution_count": 11,
   "metadata": {},
   "outputs": [],
   "source": [
    "s=np.reshape(scrambled_images_split, [batch_size_test, n_squares, -1])"
   ]
  },
  {
   "cell_type": "code",
   "execution_count": 12,
   "metadata": {},
   "outputs": [
    {
     "data": {
      "text/plain": [
       "<matplotlib.image.AxesImage at 0x7fc684195bd0>"
      ]
     },
     "execution_count": 12,
     "metadata": {},
     "output_type": "execute_result"
    },
    {
     "data": {
      "image/png": "[encoded data removed]",
      "text/plain": [
       "<Figure size 432x288 with 1 Axes>"
      ]
     },
     "metadata": {
      "needs_background": "light"
     },
     "output_type": "display_data"
    }
   ],
   "source": [
    "plt.imshow(joined_scrambled[0,:,:,0])"
   ]
  },
  {
   "cell_type": "code",
   "execution_count": 13,
   "metadata": {},
   "outputs": [
    {
     "data": {
      "text/plain": [
       "<matplotlib.image.AxesImage at 0x7fc684116110>"
      ]
     },
     "execution_count": 13,
     "metadata": {},
     "output_type": "execute_result"
    },
    {
     "data": {
      "image/png": "[encoded data removed]",
      "text/plain": [
       "<Figure size 432x288 with 1 Axes>"
      ]
     },
     "metadata": {
      "needs_background": "light"
     },
     "output_type": "display_data"
    }
   ],
   "source": [
    "plt.imshow(np.matmul(s, np.transpose(s, [0,2,1]))[0,:,:])"
   ]
  },
  {
   "cell_type": "code",
   "execution_count": 14,
   "metadata": {},
   "outputs": [],
   "source": [
    "def ma_A(n_squares):\n",
    "    A=[]\n",
    "    for k in range(n_squares):\n",
    "        \n",
    "        i = k % int(np.sqrt(n_squares))\n",
    "        j = k / int(np.sqrt(n_squares))\n",
    "        ii = []\n",
    "        jj = []\n",
    "        if(i>0):\n",
    "            ii.append(i-1)\n",
    "        if(i<np.sqrt(n_squares)-1):\n",
    "            ii.append(i+1)\n",
    "        if(j>0):\n",
    "            jj.append(j-1)\n",
    "        if(j<np.sqrt(n_squares)-1):\n",
    "            jj.append(j+1)\n",
    "        for iii in ii:\n",
    "            a = np.zeros(n_squares)\n",
    "            a[k] = 1\n",
    "            kk = iii + int(np.sqrt(n_squares))*j\n",
    "            \n",
    "            a[kk] = -1\n",
    "            A.append(a)\n",
    "        for jjj in jj:\n",
    "            a = np.zeros(n_squares)\n",
    "            a[k] = 1\n",
    "            kk = i + int(np.sqrt(n_squares))*jjj\n",
    "            a[kk] = -1\n",
    "            A.append(a)\n",
    "    return np.array(A)"
   ]
  },
  {
   "cell_type": "code",
   "execution_count": 15,
   "metadata": {},
   "outputs": [],
   "source": [
    "def ma_A_n(n):\n",
    "    A=[]\n",
    "    for k in range(n):\n",
    "        kk=[]\n",
    "        if(k>0):\n",
    "            kk.append(k-1)\n",
    "        if(k<n-1):\n",
    "            kk.append(k+1)\n",
    "        \n",
    "        for kkk in kk:\n",
    "            \n",
    "            a = np.zeros(n)\n",
    "            a[k] = 1\n",
    "            a[kkk] =-1\n",
    "            \n",
    "            A.append(a)\n",
    "    return np.array(A)"
   ]
  },
  {
   "cell_type": "code",
   "execution_count": 16,
   "metadata": {},
   "outputs": [
    {
     "ename": "NameError",
     "evalue": "name 'sinkhorn' is not defined",
     "output_type": "error",
     "traceback": [
      "\u001b[0;31m---------------------------------------------------------------------------\u001b[0m",
      "\u001b[0;31mNameError\u001b[0m                                 Traceback (most recent call last)",
      "\u001b[0;32m<ipython-input-16-734fd35a6600>\u001b[0m in \u001b[0;36m<module>\u001b[0;34m()\u001b[0m\n\u001b[1;32m      4\u001b[0m \u001b[0mtau\u001b[0m\u001b[0;34m=\u001b[0m\u001b[0;36m0.5\u001b[0m\u001b[0;34m\u001b[0m\u001b[0;34m\u001b[0m\u001b[0m\n\u001b[1;32m      5\u001b[0m \u001b[0;32mfor\u001b[0m \u001b[0mp\u001b[0m \u001b[0;32min\u001b[0m \u001b[0mrange\u001b[0m\u001b[0;34m(\u001b[0m\u001b[0;36m50\u001b[0m\u001b[0;34m)\u001b[0m\u001b[0;34m:\u001b[0m\u001b[0;34m\u001b[0m\u001b[0;34m\u001b[0m\u001b[0m\n\u001b[0;32m----> 6\u001b[0;31m     \u001b[0mP\u001b[0m\u001b[0;34m=\u001b[0m\u001b[0msinkhorn\u001b[0m\u001b[0;34m(\u001b[0m\u001b[0mnp\u001b[0m\u001b[0;34m.\u001b[0m\u001b[0mmatmul\u001b[0m\u001b[0;34m(\u001b[0m\u001b[0mAA\u001b[0m\u001b[0;34m,\u001b[0m \u001b[0mnp\u001b[0m\u001b[0;34m.\u001b[0m\u001b[0mmatmul\u001b[0m\u001b[0;34m(\u001b[0m\u001b[0mP\u001b[0m\u001b[0;34m,\u001b[0m \u001b[0mXX\u001b[0m\u001b[0;34m)\u001b[0m\u001b[0;34m)\u001b[0m\u001b[0;34m/\u001b[0m\u001b[0;36m0.1\u001b[0m\u001b[0;34m)\u001b[0m\u001b[0;34m\u001b[0m\u001b[0;34m\u001b[0m\u001b[0m\n\u001b[0m",
      "\u001b[0;31mNameError\u001b[0m: name 'sinkhorn' is not defined"
     ]
    }
   ],
   "source": [
    "AA = np.matmul(ma_A(n_squares).T, ma_A(n_squares))\n",
    "P = np.eye(n_squares)\n",
    "XX = np.matmul(s, np.transpose(s, [0,2,1]))[0,:,:]\n",
    "tau=0.5\n",
    "for p in range(50):\n",
    "    P=sinkhorn(np.matmul(AA, np.matmul(P, XX))/0.1)"
   ]
  },
  {
   "cell_type": "code",
   "execution_count": null,
   "metadata": {},
   "outputs": [],
   "source": []
  },
  {
   "cell_type": "code",
   "execution_count": null,
   "metadata": {},
   "outputs": [],
   "source": [
    "AA = np.matmul(ma_A_n(n).T, ma_A_n(n))\n",
    "P = 1*np.eye(n) \n",
    "P[0,1] = 0.9\n",
    "P[0,0] = 0.1\n",
    "P[1,1] = 0.1 \n",
    "P[1,0] = 0.9\n",
    "print(P)\n",
    "P = sinkhorn(100*P + np.random.normal(0,1,[n,n]))\n",
    "from copy import deepcopy\n",
    "#perm = np.random.choice(n,n, replace=False)\n",
    "s = np.sort(np.random.uniform(0,1, [n,1])*100, axis=0)\n",
    "s2 \n",
    "print(P)\n",
    "XX = np.matmul(s, s.T)/100\n",
    "\n",
    "eps=2\n",
    "print(np.sum(P*np.matmul(AA, np.matmul(P, XX))))\n",
    "tau=1.tau\n",
    "logYt = P*0\n",
    "\n",
    "for p in range(100):\n",
    "    eps =eps*1\n",
    "    tau=tau*1.0\n",
    "    #logYt = logYt -tau*np.matmul(AA, np.matmul(P, XX)) -tau*eps*np.log(P)\n",
    "    logYt = deepcopy(-tau*np.matmul(AA, np.matmul(P, XX))+(1-tau*eps )*np.log(P))\n",
    "\n",
    "    #logYt = -tau*np.matmul(AA, np.matmul(P, XX))\n",
    "    #logYt[np.isnan(logYt)] = 0\n",
    "    \n",
    "    P= deepcopy(sinkhorn(logYt, n_iters=5000))\n",
    "    \n",
    "    print(np.sum(P*np.matmul(AA, np.matmul(P, XX))))\n",
    "\n",
    "print(np.sum(P,1))\n",
    "print(s)\n",
    "print(P)\n",
    "\n",
    "print(np.sum(P*np.matmul(AA, np.matmul(P, XX))))\n",
    "#print(np.matmul(AA, np.matmul(P0, XX)))\n",
    "print(np.sum(np.diff(s,axis=0)**2)*2)/100\n"
   ]
  },
  {
   "cell_type": "code",
   "execution_count": null,
   "metadata": {},
   "outputs": [],
   "source": [
    "n = 100\n",
    "np.random.seed(10)\n"
   ]
  },
  {
   "cell_type": "code",
   "execution_count": null,
   "metadata": {},
   "outputs": [],
   "source": [
    "P = 1*np.eye(n) \n",
    "\n",
    "print(P)\n",
    "P = sinkhorn(100*P + np.random.normal(0,1,[n,n]))\n",
    "from copy import deepcopy\n",
    "#perm = np.random.choice(n,n, replace=False)\n",
    "s = np.random.uniform(0,1, [n])\n",
    "ds = (s[:,np.newaxis] - s[np.newaxis,:])**2\n",
    "s2 = np.sort(s)\n",
    "ds2 = (s2[:,np.newaxis] - s2[np.newaxis,:])**2\n",
    "print(P)\n",
    "print(ds2.shape)\n",
    "print(ds.shape)\n",
    "eps=0.5\n",
    "tau=1./eps\n",
    "logYt = P*0\n",
    "\n",
    "for p in range(100):\n",
    "    eps =eps*1.0\n",
    "    tau=tau/1.0\n",
    "    #logYt = deepcopy(tau*np.matmul(ds, np.matmul(P, ds2))+(1-tau*eps )*np.log(P))\n",
    "    ab= np.matmul(ds, np.matmul(P, ds2))\n",
    "    a2 = np.tile(np.nansum(ds **2, axis=1, keepdims=True), [1, n])\n",
    "    b2 = np.tile(np.nansum(ds2 **2, axis=1, keepdims=True), [1, n]).T\n",
    "\n",
    "    logYt = -tau* (a2+b2 - 2 *ab)\n",
    "    \n",
    "    P= deepcopy(sinkhorn(logYt, n_iters=50))\n",
    "    a=np.sum((np.matmul(P.T,s)-s2)**2)\n",
    "    b = np.sum((np.matmul(P.T,s)+np.sort(-s2))**2)\n",
    "    print([a,b])\n",
    "\n",
    "#print(np.matmul(AA, np.matmul(P0, XX)))\n",
    "print(np.sum(np.diff(s,axis=0)**2)*2)/100\n"
   ]
  },
  {
   "cell_type": "code",
   "execution_count": null,
   "metadata": {},
   "outputs": [],
   "source": [
    "print(s)\n",
    "print(np.matmul(P,s))\n",
    "print(np.matmul(P.T,s))\n",
    "\n",
    "print(s2)\n",
    "print(P)\n",
    "plt.scatter(s2,np.matmul(P,s))\n",
    "print(np.sum(np.matmul(P,s)-s2)**2)\n",
    "print(np.matmul(P,s)-s2)\n",
    "print(np.matmul(P,s))"
   ]
  },
  {
   "cell_type": "code",
   "execution_count": null,
   "metadata": {},
   "outputs": [],
   "source": [
    "from scipy.special import logsumexp\n",
    "def sinkhorn(log_alpha, n_iters=20):\n",
    "\n",
    "    for _ in range(n_iters):\n",
    "        log_alpha -= logsumexp(log_alpha, axis=1, keepdims=True)\n",
    "        log_alpha -= logsumexp(log_alpha, axis=0, keepdims=True)\n",
    "    return np.exp(log_alpha)"
   ]
  },
  {
   "cell_type": "code",
   "execution_count": null,
   "metadata": {},
   "outputs": [],
   "source": [
    "batch_size_test=10\n",
    "np_x,np_y=data_test.next_batch(batch_size_test)\n",
    "np_x = resize_batch(np_x, side)\n",
    "real_images_split = batch_split(np_x, n_squares_side)\n",
    "scrambled_images_split = np.zeros(real_images_split.shape)\n",
    "perms =[]    \n",
    "Ps = np.zeros((batch_size_test, n_squares, n_squares))\n",
    "for i in range(batch_size_test):\n",
    "    perm = np.random.permutation(n_squares)\n",
    "    perm = np.arange(n_squares)\n",
    "    perm[0]=1\n",
    "    perm[1]=0\n",
    "    perm[7]=6\n",
    "    perm[6]=7\n",
    "    perm[4]=3\n",
    "    perm[3]=4\n",
    "    for k in range(n_squares):\n",
    "        Ps[i,k,perm[k]] =1\n",
    "    perms.append(perm)\n",
    "    scrambled_images_split[i,:, :, :] = real_images_split[i, perm, :, :]\n",
    "stacked_scrambled_images_split = stack_batch_split(scrambled_images_split)\n"
   ]
  },
  {
   "cell_type": "code",
   "execution_count": null,
   "metadata": {},
   "outputs": [],
   "source": [
    "print(scrambled_images_split.shape)\n",
    "ims = np.reshape(scrambled_images_split[0,:,:,:,0], [n_squares, -1])\n",
    "#ims = np.reshape(real_images_split[0,:,:,:,0], [n_squares, -1])\n",
    "\n",
    "im = np.reshape(real_images_split[0,:,:,:,0], [n_squares, -1])\n",
    "sqim = np.tile(np.sum(im **2, axis=1, keepdims=True), [1, n_squares])\n",
    "\n",
    "d = sqim +sqim.T - 2*np.matmul(im, im.T)\n",
    "sqims= np.tile(np.sum(ims **2, axis=1, keepdims=True), [1, n_squares])\n",
    "ds = sqims +sqims.T - 2*np.matmul(ims, ims.T)\n",
    "eps=0.01\n",
    "tau=1./eps\n",
    "logYt = P*0\n",
    "P = 1*np.eye(n_squares) \n",
    "#P = Ps[0]\n",
    "print(perm)\n",
    "print(np.sum((np.matmul(P,im)-ims)**2))\n",
    "for p in range(100):\n",
    "    eps =eps*1.0\n",
    "    tau=tau/1.0\n",
    "    #logYt = deepcopy(tau*np.matmul(ds, np.matmul(P, ds2))+(1-tau*eps )*np.log(P))\n",
    "    ab= np.matmul(ds, np.matmul(P, d))\n",
    "    a2 = np.tile(np.nansum(ds **2, axis=1, keepdims=True), [1, n_squares])\n",
    "    b2 = np.tile(np.nansum(d **2, axis=1, keepdims=True), [1, n_squares]).T\n",
    "\n",
    "    logYt = -tau* (a2+b2 - 2 *ab)\n",
    "    \n",
    "    P= deepcopy(sinkhorn(logYt, n_iters=500))\n",
    "    a=np.sum((np.matmul(P,im)-ims)**2)\n",
    "    b = np.sum((np.matmul(P,ims)-im)**2)\n",
    "    print([a,b])\n",
    "print(P)"
   ]
  },
  {
   "cell_type": "code",
   "execution_count": null,
   "metadata": {},
   "outputs": [],
   "source": [
    "plt.imshow(P)"
   ]
  },
  {
   "cell_type": "code",
   "execution_count": null,
   "metadata": {},
   "outputs": [],
   "source": [
    "plt.imshow(Ps[0])"
   ]
  },
  {
   "cell_type": "code",
   "execution_count": null,
   "metadata": {},
   "outputs": [],
   "source": []
  }
 ],
 "metadata": {
  "kernelspec": {
   "display_name": "Python 2",
   "language": "python",
   "name": "python2"
  },
  "language_info": {
   "codemirror_mode": {
    "name": "ipython",
    "version": 2
   },
   "file_extension": ".py",
   "mimetype": "text/x-python",
   "name": "python",
   "nbconvert_exporter": "python",
   "pygments_lexer": "ipython2",
   "version": "2.7.15+"
  }
 },
 "nbformat": 4,
 "nbformat_minor": 1
}
