{
 "cells": [
  {
   "cell_type": "code",
   "execution_count": 1,
   "metadata": {},
   "outputs": [],
   "source": [
    "from tensorflow.examples.tutorials.mnist import input_data\n",
    "import tensorflow as tf\n",
    "import numpy as np\n",
    "import optimizer\n",
    "import sinkhorn_ops\n",
    "import matplotlib.pyplot as plt\n",
    "from scipy.misc import imresize\n",
    "from scipy.optimize import linear_sum_assignment\n",
    "\n",
    "%matplotlib inline"
   ]
  },
  {
   "cell_type": "code",
   "execution_count": 2,
   "metadata": {},
   "outputs": [],
   "source": [
    "#Define some ad-hoc merging, splitting and mixing functions\n",
    "\n",
    "def ma_A(n_squares):\n",
    "    A=[]\n",
    "    for k in range(n_squares):\n",
    "        \n",
    "        i = k % int(np.sqrt(n_squares))\n",
    "        j = k / int(np.sqrt(n_squares))\n",
    "        ii = []\n",
    "        jj = []\n",
    "        if(i>0):\n",
    "            ii.append(i-1)\n",
    "        if(i<np.sqrt(n_squares)-1):\n",
    "            ii.append(i+1)\n",
    "        if(j>0):\n",
    "            jj.append(j-1)\n",
    "        if(j<np.sqrt(n_squares)-1):\n",
    "            jj.append(j+1)\n",
    "        for iii in ii:\n",
    "            a = np.zeros(n_squares)\n",
    "            a[k] = 1\n",
    "            kk = iii + int(np.sqrt(n_squares))*j\n",
    "            \n",
    "            a[kk] = -1\n",
    "            A.append(a)\n",
    "        for jjj in jj:\n",
    "            a = np.zeros(n_squares)\n",
    "            a[k] = 1\n",
    "            kk = i + int(np.sqrt(n_squares))*jjj\n",
    "            a[kk] = -1\n",
    "            A.append(a)\n",
    "    return np.array(A)\n",
    "\n",
    "def batch_split(batch, n_squares_side, n_channels=1):\n",
    "    \n",
    "    side = int(np.sqrt(batch.shape[1]))\n",
    "    batch_size = batch.shape[0]\n",
    "    n_squares = n_squares_side ** 2\n",
    "    \n",
    "    batch = np.reshape(batch, [-1, side, side, n_channels])\n",
    "    batch = np.reshape(batch, [batch_size, n_squares_side, side/n_squares_side, side, n_channels])\n",
    "    batch = np.transpose(batch, [0, 2, 1, 3, 4])\n",
    "    batch = np.reshape(batch, [batch_size, side/n_squares_side, n_squares, side/n_squares_side, n_channels])\n",
    "    batch = np.transpose(batch, [0, 2, 1, 3, 4])\n",
    "    return batch\n",
    "\n",
    "def stack_batch_split(batch):\n",
    "    return np.reshape(batch, [batch.shape[0]*batch.shape[1], batch.shape[2], batch.shape[3], batch.shape[4]])\n",
    "\n",
    "\n",
    "def unflatten_batch(batch, n_channels=1):\n",
    "    print(np.sqrt(batch.shape[2]/n_channels))\n",
    "    side_square = int(np.sqrt(batch.shape[2]/n_channels))\n",
    "    return np.reshape(batch, [batch.shape[0], batch.shape[1], side_square, side_square, n_channels])\n",
    "\n",
    "def join_batch_split(batch):\n",
    "    batch_size = batch.shape[0]\n",
    "    n_squares = batch.shape[1]\n",
    "    side_quare = batch.shape[2]\n",
    "    n_channels = batch.shape[4]\n",
    "    n_squares_side = int(np.sqrt(n_squares))\n",
    "    batch = np.transpose(batch, [0, 1, 3, 2, 4])\n",
    "    batch = np.reshape(batch, [batch_size, n_squares_side, side_square*n_squares_side, side_square, n_channels])\n",
    "    batch = np.transpose(batch, [0,1, 3,2,4])\n",
    "    batch = np.reshape(batch, [batch_size, 1, side_square*n_squares_side, side_square*n_squares_side, n_channels])\n",
    "    batch = np.reshape(batch, [batch_size, side_square*n_squares_side, side_square*n_squares_side, n_channels])\n",
    "    return batch\n",
    "\n",
    "def resized_dims(n_squares_side):\n",
    "    if(n_squares_side==2):\n",
    "        side = 28\n",
    "        side_square = 14\n",
    "    if(n_squares_side==3):\n",
    "        side = 27\n",
    "        side_square = 9\n",
    "    if(n_squares_side==4):\n",
    "        side = 28\n",
    "        side_square = 7\n",
    "    if(n_squares_side==5):\n",
    "        side = 30\n",
    "        side_square = 6\n",
    "    return side, side_square\n",
    "\n",
    "def resize_batch(batch, side_new):\n",
    "    batch_new = np.zeros((batch.shape[0], side_new **2))\n",
    "    side = int(np.sqrt(batch.shape[1]))\n",
    "    for i in range(batch.shape[0]):\n",
    "        a = imresize(np.reshape(batch[i,:], [side,side]), [side_new, side_new])\n",
    "        a = a.flatten()\n",
    "        a = a/255.0\n",
    "        batch_new[i,:] = a.flatten()\n",
    "    return batch_new\n",
    "\n",
    "\n",
    "def soft_to_hard(soft_perm):\n",
    "    \n",
    "    a,b = linear_sum_assignment(-soft_perm)\n",
    "    ma = np.zeros((np.shape(soft_perm)))\n",
    "    for i in range(soft_perm.shape[0]):\n",
    "        ma[i, b[i]] = 1\n",
    "    return ma\n"
   ]
  },
  {
   "cell_type": "code",
   "execution_count": 3,
   "metadata": {},
   "outputs": [],
   "source": [
    "#Define model params\n",
    "batch_size = 10\n",
    "n_iter = 1000\n",
    "samples_per_num = 1\n",
    "n_iter_sinkhorn = 20\n",
    "noise_factor = 1.0\n",
    "keep_prob =1.0\n",
    "opt = 'sgd'\n",
    "n_units = 32\n",
    "temp = 0.1\n",
    "lr = 0.1\n",
    "\n",
    "#mnist data\n",
    "rfield_size = 5\n",
    "n_squares_side = 3\n",
    "n_channels = 1\n",
    "stride = 1\n",
    "n_squares = n_squares_side **2\n",
    "n_dim = 5\n",
    "side, side_square = resized_dims(n_squares_side)\n"
   ]
  },
  {
   "cell_type": "code",
   "execution_count": 4,
   "metadata": {},
   "outputs": [],
   "source": [
    "#Main neural network definitions\n",
    "\n",
    "def create_log_alpha():\n",
    "    #create the matrix of log_alpha, that will later will converted into a soft permutation\n",
    "    #this relies on some NN processing (convolutional), see below\n",
    "    fc = tf.contrib.layers.fully_connected\n",
    "    flatten = tf.contrib.layers.flatten\n",
    "    dropout = tf.contrib.layers.dropout\n",
    "    def conv(input_image, kernel_shape, bias_shape):\n",
    "        weights = tf.get_variable(\"weights\", kernel_shape,\n",
    "                                 initializer = tf.random_normal_initializer())\n",
    "        biases = tf.get_variable(\"biases\", bias_shape, \n",
    "                                initializer=tf.constant_initializer(0.0))\n",
    "        convolutional = tf.nn.conv2d(input_image, weights, \n",
    "                                     strides = [1, 1, 1, 1],\n",
    "                                     padding=\"SAME\")\n",
    "        out_relu = tf.nn.relu(convolutional + biases)\n",
    "        out_maxpool =tf.nn.max_pool(out_relu, \n",
    "                                    ksize=[1, stride, stride, 1],\n",
    "                                   strides=[1, stride, stride, 1],\n",
    "                                   padding=\"SAME\")\n",
    "        return out_maxpool\n",
    "    def conv_and_fc(input_image):\n",
    "        with tf.variable_scope(\"conv1\"):\n",
    "            conv_output = conv(input_image, [rfield_size, rfield_size, n_channels, n_units], [n_units])\n",
    "        fully_connected_output = dropout(tf.cast(fc(flatten(conv_output), n_dim, activation_fn = None), tf.float32),\n",
    "                                        keep_prob)\n",
    "        return fully_connected_output\n",
    "    \n",
    "    with tf.variable_scope(\"model_params\"):\n",
    "        X = tf.math.l2_normalize(tf.reshape(conv_and_fc(stack_scrambled_images_split), [-1, n_squares, n_dim]))\n",
    "        #X = tf.reshape(conv_and_fc(stack_scrambled_images_split), [-1, n_squares, n_dim])\n",
    "        \n",
    "        log_alpha = tf.matmul(X, tf.transpose(X, [0, 2, 1]))/10.0\n",
    "    return log_alpha"
   ]
  },
  {
   "cell_type": "code",
   "execution_count": 5,
   "metadata": {},
   "outputs": [
    {
     "name": "stdout",
     "output_type": "stream",
     "text": [
      "WARNING:tensorflow:From /home/gomena/.local/lib/python2.7/site-packages/tensorflow/python/framework/op_def_library.py:263: colocate_with (from tensorflow.python.framework.ops) is deprecated and will be removed in a future version.\n",
      "Instructions for updating:\n",
      "Colocations handled automatically by placer.\n",
      "WARNING:tensorflow:From /home/gomena/.local/lib/python2.7/site-packages/tensorflow/contrib/layers/python/layers/layers.py:1624: flatten (from tensorflow.python.layers.core) is deprecated and will be removed in a future version.\n",
      "Instructions for updating:\n",
      "Use keras.layers.flatten instead.\n",
      "WARNING:tensorflow:From /home/gomena/.local/lib/python2.7/site-packages/tensorflow/python/keras/layers/core.py:143: calling dropout (from tensorflow.python.ops.nn_ops) with keep_prob is deprecated and will be removed in a future version.\n",
      "Instructions for updating:\n",
      "Please use `rate` instead of `keep_prob`. Rate should be set to `rate = 1 - keep_prob`.\n",
      "WARNING:tensorflow:From /home/gomena/.local/lib/python2.7/site-packages/tensorflow/python/ops/math_ops.py:3066: to_int32 (from tensorflow.python.ops.math_ops) is deprecated and will be removed in a future version.\n",
      "Instructions for updating:\n",
      "Use tf.cast instead.\n"
     ]
    }
   ],
   "source": [
    "#Now we define the main TF variables\n",
    "\n",
    "scrambled_split = tf.placeholder(tf.float32,[None, n_squares, side_square, side_square, 1])\n",
    "scrambled_split_tiled = tf.tile(scrambled_split, [samples_per_num, 1, 1, 1, 1])\n",
    "\n",
    "stack_scrambled_images_split = tf.placeholder(tf.float32,[None, side_square, side_square, 1])\n",
    "\n",
    "real_split = tf.placeholder(tf.float32,[None, n_squares, side_square, side_square, 1])\n",
    "real_split_tiled = tf.tile(real_split, [samples_per_num, 1, 1, 1, 1])\n",
    "\n",
    "\n",
    "temperature = tf.constant(temp, dtype=tf.float32)\n",
    "global_step = tf.Variable(0, trainable=False)\n",
    "fc = tf.contrib.layers.fully_connected\n",
    "AA = tf.cast(tf.tile(tf.constant(np.matmul(ma_A(n_squares).T, ma_A(n_squares)))[np.newaxis,:,:],[batch_size, 1, 1]), tf.float32)\n",
    "\n",
    "log_alpha = create_log_alpha()\n",
    "soft_perms_inf = tf.cast(tf.tile(tf.constant(np.eye(n_squares))[np.newaxis,:,:],[batch_size, 1, 1]), tf.float32)\n",
    "tau=tf.constant(1./temp,dtype=tf.float32)\n",
    "for _ in range(10):\n",
    "    P = tf.reshape(soft_perms_inf, [-1, n_squares, n_squares])\n",
    "    #ma = tf.matmul(-tau*AA, tf.matmul(P, log_alpha))\n",
    "    ma = tf.matmul(-AA, tf.matmul(P, log_alpha))\n",
    "    \n",
    "    (soft_perms_inf, _) = sinkhorn_ops.gumbel_sinkhorn(ma, temp, samples_per_num,\n",
    "                                                                       noise_factor, n_iter_sinkhorn, squeeze=False)\n",
    "\n",
    "inv_soft_perms = tf.transpose(soft_perms_inf, [0, 1, 3, 2])\n",
    "inv_soft_perms_flat = tf.reshape( tf.transpose(inv_soft_perms, [1, 0, 2, 3]), [-1, n_squares, n_squares])\n",
    "\n",
    "real_split_tiled = tf.reshape(real_split_tiled, [-1, n_squares, side_square ** 2 * n_channels])\n",
    "scrambled_split_tiled = tf.reshape(scrambled_split_tiled, [-1, n_squares, side_square ** 2* n_channels])\n",
    "ordered_inf = tf.matmul(inv_soft_perms_flat, scrambled_split_tiled)\n",
    "l2s_diff = tf.reduce_mean(tf.square(real_split_tiled - ordered_inf))\n",
    "opt = optimizer.set_optimizer(opt, lr, opt_eps=1e-8)\n",
    "train_op = tf.contrib.training.create_train_op(l2s_diff, opt, global_step=global_step)\n",
    "\n"
   ]
  },
  {
   "cell_type": "code",
   "execution_count": 6,
   "metadata": {},
   "outputs": [
    {
     "name": "stdout",
     "output_type": "stream",
     "text": [
      "WARNING:tensorflow:From <ipython-input-6-aaec4e35da18>:2: read_data_sets (from tensorflow.contrib.learn.python.learn.datasets.mnist) is deprecated and will be removed in a future version.\n",
      "Instructions for updating:\n",
      "Please use alternatives such as official/mnist/dataset.py from tensorflow/models.\n",
      "WARNING:tensorflow:From /home/gomena/.local/lib/python2.7/site-packages/tensorflow/contrib/learn/python/learn/datasets/mnist.py:260: maybe_download (from tensorflow.contrib.learn.python.learn.datasets.base) is deprecated and will be removed in a future version.\n",
      "Instructions for updating:\n",
      "Please write your own downloading logic.\n",
      "WARNING:tensorflow:From /home/gomena/.local/lib/python2.7/site-packages/tensorflow/contrib/learn/python/learn/datasets/mnist.py:262: extract_images (from tensorflow.contrib.learn.python.learn.datasets.mnist) is deprecated and will be removed in a future version.\n",
      "Instructions for updating:\n",
      "Please use tf.data to implement this functionality.\n",
      "Extracting /tmp/train-images-idx3-ubyte.gz\n",
      "WARNING:tensorflow:From /home/gomena/.local/lib/python2.7/site-packages/tensorflow/contrib/learn/python/learn/datasets/mnist.py:267: extract_labels (from tensorflow.contrib.learn.python.learn.datasets.mnist) is deprecated and will be removed in a future version.\n",
      "Instructions for updating:\n",
      "Please use tf.data to implement this functionality.\n",
      "Extracting /tmp/train-labels-idx1-ubyte.gz\n",
      "WARNING:tensorflow:From /home/gomena/.local/lib/python2.7/site-packages/tensorflow/contrib/learn/python/learn/datasets/mnist.py:110: dense_to_one_hot (from tensorflow.contrib.learn.python.learn.datasets.mnist) is deprecated and will be removed in a future version.\n",
      "Instructions for updating:\n",
      "Please use tf.one_hot on tensors.\n",
      "Extracting /tmp/t10k-images-idx3-ubyte.gz\n",
      "Extracting /tmp/t10k-labels-idx1-ubyte.gz\n",
      "WARNING:tensorflow:From /home/gomena/.local/lib/python2.7/site-packages/tensorflow/contrib/learn/python/learn/datasets/mnist.py:290: __init__ (from tensorflow.contrib.learn.python.learn.datasets.mnist) is deprecated and will be removed in a future version.\n",
      "Instructions for updating:\n",
      "Please use alternatives such as official/mnist/dataset.py from tensorflow/models.\n",
      "Extracting /tmp/train-images-idx3-ubyte.gz\n",
      "Extracting /tmp/train-labels-idx1-ubyte.gz\n",
      "Extracting /tmp/t10k-images-idx3-ubyte.gz\n",
      "Extracting /tmp/t10k-labels-idx1-ubyte.gz\n",
      "WARNING:tensorflow:From /home/gomena/.local/lib/python2.7/site-packages/tensorflow/python/util/tf_should_use.py:193: initialize_all_variables (from tensorflow.python.ops.variables) is deprecated and will be removed after 2017-03-02.\n",
      "Instructions for updating:\n",
      "Use `tf.global_variables_initializer` instead.\n"
     ]
    },
    {
     "name": "stderr",
     "output_type": "stream",
     "text": [
      "/home/gomena/.local/lib/python2.7/site-packages/ipykernel_launcher.py:88: DeprecationWarning: `imresize` is deprecated!\n",
      "`imresize` is deprecated in SciPy 1.0.0, and will be removed in 1.3.0.\n",
      "Use Pillow instead: ``numpy.array(Image.fromarray(arr).resize())``.\n"
     ]
    },
    {
     "name": "stdout",
     "output_type": "stream",
     "text": [
      "Step 1, Loss: 0.1345430\n",
      "Step 51, Loss: 0.1229140\n",
      "Step 101, Loss: 0.1097049\n",
      "Step 151, Loss: 0.1126298\n",
      "Step 201, Loss: 0.1278457\n",
      "Step 251, Loss: 0.1247047\n",
      "Step 301, Loss: 0.1266059\n",
      "Step 351, Loss: 0.1155406\n",
      "Step 401, Loss: 0.1172459\n",
      "Step 451, Loss: 0.1453274\n",
      "Step 501, Loss: 0.1176950\n",
      "Step 551, Loss: 0.1223876\n",
      "Step 601, Loss: 0.1332524\n",
      "Step 651, Loss: 0.1158091\n",
      "Step 701, Loss: 0.1047667\n",
      "Step 751, Loss: 0.1170883\n",
      "Step 801, Loss: 0.1129162\n",
      "Step 851, Loss: 0.1140345\n",
      "Step 901, Loss: 0.1324611\n",
      "Step 951, Loss: 0.1434383\n"
     ]
    }
   ],
   "source": [
    "#Lets train the model\n",
    "data_train = input_data.read_data_sets('/tmp/', one_hot=True).train \n",
    "data_test = input_data.read_data_sets('/tmp/', one_hot=True).test \n",
    "\n",
    "init_op=tf.initialize_all_variables()\n",
    "sess=tf.InteractiveSession()\n",
    "sess.run(init_op)\n",
    "\n",
    "for i in range(n_iter):\n",
    "    np_x,np_y=data_train.next_batch(batch_size)\n",
    "    np_x = resize_batch(np_x, side)\n",
    "\n",
    "    real_images_split = batch_split(np_x, n_squares_side)\n",
    "    scrambled_images_split = np.zeros(real_images_split.shape)\n",
    "    \n",
    "    for j in range(batch_size):\n",
    "        perm = np.random.permutation(n_squares)\n",
    "        scrambled_images_split[j,:, :, :] = real_images_split[j, perm, :, :]\n",
    "    stacked_scrambled_images_split = stack_batch_split(scrambled_images_split)\n",
    "    _,loss=sess.run([train_op,l2s_diff],{real_split:real_images_split,\n",
    "                                         scrambled_split:scrambled_images_split,\n",
    "                                        stack_scrambled_images_split:stacked_scrambled_images_split})\n",
    "    \n",
    "   \n",
    "    if i % 50 == 1:\n",
    "        print('Step %d, Loss: %0.7f' % (i,loss))\n"
   ]
  },
  {
   "cell_type": "code",
   "execution_count": 7,
   "metadata": {},
   "outputs": [
    {
     "name": "stderr",
     "output_type": "stream",
     "text": [
      "/home/gomena/.local/lib/python2.7/site-packages/ipykernel_launcher.py:88: DeprecationWarning: `imresize` is deprecated!\n",
      "`imresize` is deprecated in SciPy 1.0.0, and will be removed in 1.3.0.\n",
      "Use Pillow instead: ``numpy.array(Image.fromarray(arr).resize())``.\n"
     ]
    },
    {
     "name": "stdout",
     "output_type": "stream",
     "text": [
      "9.0\n"
     ]
    }
   ],
   "source": [
    "#Now let's test the model\n",
    "batch_size_test=10\n",
    "np_x,np_y=data_test.next_batch(batch_size_test)\n",
    "np_x = resize_batch(np_x, side)\n",
    "real_images_split = batch_split(np_x, n_squares_side)\n",
    "scrambled_images_split = np.zeros(real_images_split.shape)\n",
    "    \n",
    "for i in range(batch_size_test):\n",
    "    perm = np.random.permutation(n_squares)\n",
    "    scrambled_images_split[i,:, :, :] = real_images_split[i, perm, :, :]\n",
    "stacked_scrambled_images_split = stack_batch_split(scrambled_images_split)\n",
    "[unscrambled_images,loss, inv_soft_perms_np,ma_np, log_alpha_np] = sess.run([ordered_inf,l2s_diff, inv_soft_perms,ma, log_alpha],{real_split:real_images_split,\n",
    "                            scrambled_split:scrambled_images_split,\n",
    "                            stack_scrambled_images_split:stacked_scrambled_images_split})\n",
    "unscrambled_images = unscrambled_images[:batch_size_test,:,:]\n",
    "inv_hard_perms= np.zeros((batch_size_test, n_squares, n_squares))\n",
    "for i in range(batch_size_test):\n",
    "    inv_hard_perms[i,:,:] = soft_to_hard(inv_soft_perms_np[i,0,:,:])\n",
    "unflatten_inf = unflatten_batch(unscrambled_images)\n",
    "hard_inf = np.matmul(inv_hard_perms, np.reshape(scrambled_images_split, [batch_size_test,n_squares_side **2 ,-1]))\n",
    "unflatten_hard_inf =np.reshape(hard_inf, unflatten_inf.shape)\n",
    "joined_hard_inf =join_batch_split(unflatten_hard_inf)\n",
    "joined_inf = join_batch_split(unflatten_inf)\n",
    "joined_scrambled = join_batch_split(scrambled_images_split)\n",
    "joined_real = join_batch_split(real_images_split)"
   ]
  },
  {
   "cell_type": "code",
   "execution_count": 8,
   "metadata": {},
   "outputs": [
    {
     "data": {
      "image/png": "[encoded data removed]",
      "text/plain": [
       "<Figure size 1296x2160 with 40 Axes>"
      ]
     },
     "metadata": {
      "needs_background": "light"
     },
     "output_type": "display_data"
    }
   ],
   "source": [
    "#Compare reconstructions with real data\n",
    "fig, ax = plt.subplots(batch_size_test,4,figsize=(18,30))\n",
    "\n",
    "for i in range(batch_size_test):\n",
    "   \n",
    "    ax[i,0].imshow(joined_real[i,:,:,0],cmap='Greys')\n",
    "    ax[i,0].get_xaxis().set_visible(False)\n",
    "    ax[i,0].get_yaxis().set_visible(False)\n",
    "    \n",
    "    ax[i,1].imshow(joined_scrambled[i,:,:,0],cmap='Greys')\n",
    "    ax[i,1].get_xaxis().set_visible(False)\n",
    "    ax[i,1].get_yaxis().set_visible(False)\n",
    "    \n",
    "    ax[i,2].imshow(joined_inf[i,:,:,0],cmap='Greys')\n",
    "    ax[i,2].get_xaxis().set_visible(False)\n",
    "    ax[i,2].get_yaxis().set_visible(False)\n",
    "    \n",
    "    ax[i,2].imshow(joined_inf[i,:,:,0],cmap='Greys')\n",
    "    ax[i,2].get_xaxis().set_visible(False)\n",
    "    ax[i,2].get_yaxis().set_visible(False)\n",
    "   \n",
    "    ax[i,3].imshow(joined_hard_inf[i,:,:,0],cmap='Greys')\n",
    "    ax[i,3].get_xaxis().set_visible(False)\n",
    "    ax[i,3].get_yaxis().set_visible(False)\n",
    "   \n",
    "\n",
    "    if(i==0):\n",
    "        ax[i,0].set_title('Real',fontsize =25)\n",
    "        ax[i,1].set_title('Real Scrambled',fontsize =25)\n",
    "        ax[i,2].set_title('Soft Reconstructed',fontsize =25)\n",
    "        ax[i,3].set_title('Hard Reconstructed',fontsize =25)"
   ]
  },
  {
   "cell_type": "code",
   "execution_count": 9,
   "metadata": {},
   "outputs": [
    {
     "name": "stdout",
     "output_type": "stream",
     "text": [
      "(10, 9, 81)\n"
     ]
    },
    {
     "data": {
      "text/plain": [
       "<matplotlib.image.AxesImage at 0x7f1a34abef90>"
      ]
     },
     "execution_count": 9,
     "metadata": {},
     "output_type": "execute_result"
    },
    {
     "data": {
      "image/png": "[encoded data removed]",
      "text/plain": [
       "<Figure size 432x288 with 1 Axes>"
      ]
     },
     "metadata": {
      "needs_background": "light"
     },
     "output_type": "display_data"
    }
   ],
   "source": [
    "print(unscrambled_images.shape)\n",
    "plt.imshow(np.reshape(unscrambled_images[0,6,:], [9,9]))"
   ]
  },
  {
   "cell_type": "code",
   "execution_count": 10,
   "metadata": {},
   "outputs": [
    {
     "data": {
      "image/png": "[encoded data removed]",
      "text/plain": [
       "<Figure size 720x360 with 9 Axes>"
      ]
     },
     "metadata": {
      "needs_background": "light"
     },
     "output_type": "display_data"
    }
   ],
   "source": [
    "fix, ax =plt.subplots(3,3,figsize=(10,5))\n",
    "ax=ax.flatten()\n",
    "for i in range(9):\n",
    "    ax[i].imshow(scrambled_images_split[0,i,:,:,0])"
   ]
  },
  {
   "cell_type": "code",
   "execution_count": 11,
   "metadata": {},
   "outputs": [],
   "source": [
    "s=np.reshape(scrambled_images_split, [batch_size_test, n_squares, -1])"
   ]
  },
  {
   "cell_type": "code",
   "execution_count": 12,
   "metadata": {},
   "outputs": [
    {
     "name": "stdout",
     "output_type": "stream",
     "text": [
      "(10, 1, 9, 9)\n",
      "[1.1332964  1.1262511  0.9996636  0.8282085  0.9252966  0.75770897\n",
      " 1.1143792  1.0949731  1.0202228 ]\n",
      "[[ 4.0536100e-04  2.8900389e-05  2.7706460e-04 -6.5847431e-08\n",
      "   3.3742838e-04  2.0514293e-04  8.3642814e-04  2.3953561e-04\n",
      "   3.1652494e-04]\n",
      " [ 2.8900389e-05  1.8891078e-05  9.9567151e-06 -2.6666513e-08\n",
      "   8.1446422e-05  6.9957416e-05  3.8758288e-05 -9.1673819e-06\n",
      "   2.9468676e-05]\n",
      " [ 2.7706460e-04  9.9567151e-06  4.2964732e-03 -3.2752601e-07\n",
      "   2.8532988e-03  1.4996054e-03 -1.4520891e-03  6.1888929e-04\n",
      "  -1.7923627e-03]\n",
      " [-6.5847431e-08 -2.6666513e-08 -3.2752601e-07  6.1696717e-11\n",
      "  -3.4215125e-07 -2.1319013e-07  2.0744938e-08 -3.7108926e-08\n",
      "   9.1720047e-08]\n",
      " [ 3.3742838e-04  8.1446422e-05  2.8532988e-03 -3.4215125e-07\n",
      "   3.0685156e-03  1.3987671e-03 -5.6753495e-05  4.5154366e-04\n",
      "  -1.1170751e-03]\n",
      " [ 2.0514293e-04  6.9957416e-05  1.4996054e-03 -2.1319013e-07\n",
      "   1.3987671e-03  8.1062398e-04 -2.2191470e-04  1.8871923e-04\n",
      "  -5.5366330e-04]\n",
      " [ 8.3642814e-04  3.8758288e-05 -1.4520891e-03  2.0744938e-08\n",
      "  -5.6753495e-05 -2.2191470e-04  3.2330952e-03  3.4797177e-04\n",
      "   1.5452800e-03]\n",
      " [ 2.3953561e-04 -9.1673819e-06  6.1888929e-04 -3.7108926e-08\n",
      "   4.5154366e-04  1.8871923e-04  3.4797177e-04  2.3399564e-04\n",
      "  -3.9890496e-05]\n",
      " [ 3.1652494e-04  2.9468676e-05 -1.7923629e-03  9.1720047e-08\n",
      "  -1.1170751e-03 -5.5366330e-04  1.5452800e-03 -3.9890489e-05\n",
      "   1.2934802e-03]]\n",
      "[[1.5277737e-10 9.9501956e-01 1.1809618e-21 6.8154850e-11 9.4254532e-19\n",
      "  6.9706557e-06 1.3151740e-20 8.3921099e-05 4.8894156e-03]\n",
      " [5.3762279e-09 1.1626722e-18 1.9120972e-23 1.2123453e-18 1.2280129e-25\n",
      "  7.9773192e-16 8.7667608e-01 1.2164576e-01 1.6781980e-03]\n",
      " [1.1568389e-05 4.8014530e-18 5.0587558e-11 1.3041089e-04 3.6428869e-04\n",
      "  9.9820995e-01 5.9030758e-17 7.3994658e-11 1.2838434e-03]\n",
      " [1.4413193e-07 3.4048352e-02 5.0252784e-19 7.0056977e-04 9.6426666e-01\n",
      "  5.6561794e-10 4.6973432e-15 9.6815871e-05 8.8755420e-04]\n",
      " [4.2429983e-12 2.6250264e-09 6.8179406e-19 9.7824669e-01 1.4794992e-13\n",
      "  3.9391524e-12 7.7690863e-21 6.4433597e-12 2.1753367e-02]\n",
      " [1.6614027e-02 6.9576918e-06 1.2569427e-03 2.5146800e-08 5.8393255e-07\n",
      "  3.1592171e-03 3.5303088e-03 4.5756066e-01 5.1787132e-01]\n",
      " [5.3539973e-01 3.3079633e-08 3.9469650e-09 7.2882052e-08 2.9183118e-02\n",
      "  1.0013153e-07 1.1285794e-16 2.9571975e-02 4.0584490e-01]\n",
      " [3.8312699e-03 7.9352454e-18 9.6729290e-01 1.4640692e-06 4.3379925e-10\n",
      "  1.3734348e-10 1.2136332e-08 4.3726418e-06 2.8869914e-02]\n",
      " [4.4753423e-01 7.4805007e-09 1.8216793e-10 3.3670926e-07 8.4345818e-02\n",
      "  9.4551384e-02 5.0830808e-11 3.6875856e-01 4.8096566e-03]]\n",
      "[[ 1.62143151e-05 -1.34982020e-02 -3.63089712e-05 -6.26254827e-04\n",
      "  -4.04113234e-04  1.07867289e-02 -1.15177187e-03 -3.12895589e-02\n",
      "   9.05230117e-04]\n",
      " [-3.36142830e-06  8.87514278e-03  3.42206877e-05  3.32770753e-04\n",
      "   4.72341111e-04 -2.86965910e-03  1.36849389e-03  1.38657205e-02\n",
      "   2.00962450e-06]\n",
      " [-1.18515482e-06 -6.37001358e-06 -6.02826458e-06  4.78921720e-05\n",
      "   1.37422801e-04 -7.07927393e-04 -3.16891965e-04  7.11455883e-04\n",
      "  -2.28699544e-04]\n",
      " [-2.83079844e-05  1.57209870e-03 -3.22051383e-05  2.93262390e-04\n",
      "  -4.45699319e-04 -1.53879989e-02 -1.62542658e-03  2.59557478e-02\n",
      "  -1.89832994e-03]\n",
      " [ 1.35860910e-05  1.42162088e-02  7.49172468e-05  3.56444827e-04\n",
      "   1.66728464e-03  6.57504564e-03  3.62664787e-03  3.80586134e-03\n",
      "   1.43686391e-03]\n",
      " [ 2.33032029e-06  1.05303037e-03  1.68282950e-05  1.33709727e-05\n",
      "  -5.95119665e-04 -8.34250532e-05  3.03834968e-04  2.33627926e-03\n",
      "   8.12666694e-05]\n",
      " [ 1.49689349e-05  1.46433422e-02  7.85635129e-05  4.40393633e-04\n",
      "   1.37637951e-03  6.23959349e-03  3.23170866e-03  4.93793422e-03\n",
      "   1.19949901e-03]\n",
      " [-1.99821752e-05 -3.37263159e-02 -1.57326314e-04 -1.18457817e-03\n",
      "  -2.98857666e-03 -6.62312703e-03 -6.15897216e-03 -2.32219435e-02\n",
      "  -1.64856971e-03]\n",
      " [ 5.73707757e-06  6.87106559e-03  2.73389523e-05  3.26698209e-04\n",
      "   7.80080853e-04  2.07076943e-03  7.22376863e-04  2.89850496e-03\n",
      "   1.50729611e-04]]\n"
     ]
    },
    {
     "data": {
      "image/png": "[encoded data removed]",
      "text/plain": [
       "<Figure size 432x288 with 1 Axes>"
      ]
     },
     "metadata": {
      "needs_background": "light"
     },
     "output_type": "display_data"
    }
   ],
   "source": [
    "print(inv_soft_perms_np.shape)\n",
    "plt.imshow(inv_soft_perms_np[1,0,:,:])\n",
    "print(np.sum(inv_soft_perms_np[0,0,:,:], axis=0))\n",
    "plt.imshow(ma_np[0,:,:])\n",
    "print(log_alpha_np[1,:,:])\n",
    "print(inv_soft_perms_np[1,0,:,:])\n",
    "print(ma_np[0,:,:])"
   ]
  },
  {
   "cell_type": "code",
   "execution_count": 13,
   "metadata": {},
   "outputs": [
    {
     "data": {
      "text/plain": [
       "<matplotlib.image.AxesImage at 0x7f1a2bf18a90>"
      ]
     },
     "execution_count": 13,
     "metadata": {},
     "output_type": "execute_result"
    },
    {
     "data": {
      "image/png": "[encoded data removed]",
      "text/plain": [
       "<Figure size 432x288 with 1 Axes>"
      ]
     },
     "metadata": {
      "needs_background": "light"
     },
     "output_type": "display_data"
    }
   ],
   "source": [
    "plt.imshow(np.matmul(s, np.transpose(s, [0,2,1]))[0,:,:])"
   ]
  },
  {
   "cell_type": "code",
   "execution_count": 14,
   "metadata": {},
   "outputs": [],
   "source": [
    "def ma_A(n_squares):\n",
    "    A=[]\n",
    "    for k in range(n_squares):\n",
    "        \n",
    "        i = k % int(np.sqrt(n_squares))\n",
    "        j = k / int(np.sqrt(n_squares))\n",
    "        ii = []\n",
    "        jj = []\n",
    "        if(i>0):\n",
    "            ii.append(i-1)\n",
    "        if(i<np.sqrt(n_squares)-1):\n",
    "            ii.append(i+1)\n",
    "        if(j>0):\n",
    "            jj.append(j-1)\n",
    "        if(j<np.sqrt(n_squares)-1):\n",
    "            jj.append(j+1)\n",
    "        for iii in ii:\n",
    "            a = np.zeros(n_squares)\n",
    "            a[k] = 1\n",
    "            kk = iii + int(np.sqrt(n_squares))*j\n",
    "            \n",
    "            a[kk] = -1\n",
    "            A.append(a)\n",
    "        for jjj in jj:\n",
    "            a = np.zeros(n_squares)\n",
    "            a[k] = 1\n",
    "            kk = i + int(np.sqrt(n_squares))*jjj\n",
    "            a[kk] = -1\n",
    "            A.append(a)\n",
    "    return np.array(A)"
   ]
  },
  {
   "cell_type": "code",
   "execution_count": 15,
   "metadata": {},
   "outputs": [
    {
     "ename": "NameError",
     "evalue": "name 'sinkhorn' is not defined",
     "output_type": "error",
     "traceback": [
      "\u001b[0;31m---------------------------------------------------------------------------\u001b[0m",
      "\u001b[0;31mNameError\u001b[0m                                 Traceback (most recent call last)",
      "\u001b[0;32m<ipython-input-15-838658b4e904>\u001b[0m in \u001b[0;36m<module>\u001b[0;34m()\u001b[0m\n\u001b[1;32m      4\u001b[0m \u001b[0mtau\u001b[0m\u001b[0;34m=\u001b[0m\u001b[0;36m0.5\u001b[0m\u001b[0;34m\u001b[0m\u001b[0;34m\u001b[0m\u001b[0m\n\u001b[1;32m      5\u001b[0m \u001b[0;32mfor\u001b[0m \u001b[0mp\u001b[0m \u001b[0;32min\u001b[0m \u001b[0mrange\u001b[0m\u001b[0;34m(\u001b[0m\u001b[0;36m100\u001b[0m\u001b[0;34m)\u001b[0m\u001b[0;34m:\u001b[0m\u001b[0;34m\u001b[0m\u001b[0;34m\u001b[0m\u001b[0m\n\u001b[0;32m----> 6\u001b[0;31m     \u001b[0mP\u001b[0m\u001b[0;34m=\u001b[0m\u001b[0msinkhorn\u001b[0m\u001b[0;34m(\u001b[0m\u001b[0mnp\u001b[0m\u001b[0;34m.\u001b[0m\u001b[0mmatmul\u001b[0m\u001b[0;34m(\u001b[0m\u001b[0mAA\u001b[0m\u001b[0;34m,\u001b[0m \u001b[0mnp\u001b[0m\u001b[0;34m.\u001b[0m\u001b[0mmatmul\u001b[0m\u001b[0;34m(\u001b[0m\u001b[0mP\u001b[0m\u001b[0;34m,\u001b[0m \u001b[0mXX\u001b[0m\u001b[0;34m)\u001b[0m\u001b[0;34m)\u001b[0m\u001b[0;34m/\u001b[0m\u001b[0;36m0.1\u001b[0m\u001b[0;34m)\u001b[0m\u001b[0;34m\u001b[0m\u001b[0;34m\u001b[0m\u001b[0m\n\u001b[0m",
      "\u001b[0;31mNameError\u001b[0m: name 'sinkhorn' is not defined"
     ]
    }
   ],
   "source": [
    "AA = np.matmul(ma_A(n_squares).T, ma_A(n_squares))\n",
    "P = np.eye(n_squares)\n",
    "XX = np.matmul(s, np.transpose(s, [0,2,1]))[0,:,:]\n",
    "tau=0.5\n",
    "for p in range(100):\n",
    "    P=sinkhorn(np.matmul(AA, np.matmul(P, XX))/0.1)"
   ]
  },
  {
   "cell_type": "code",
   "execution_count": null,
   "metadata": {},
   "outputs": [],
   "source": [
    "plt.imshow(P)\n",
    "print(s.shape)"
   ]
  },
  {
   "cell_type": "code",
   "execution_count": null,
   "metadata": {},
   "outputs": [],
   "source": [
    "def sinkhorn(K,  n_iter=20, mu_x=None,mu_y=None,type=None):\n",
    "  if (mu_x is None):\n",
    "    mu_x = np.ones(K.shape[0])/K.shape[0]\n",
    "  if(mu_y is None):\n",
    "    mu_y = np.ones(K.shape[1])/K.shape[1]\n",
    "  if(type is not None):\n",
    "    v = np.random.uniform(0, 1, len(mu_y))\n",
    "  else:\n",
    "    v = np.ones(len(mu_y))\n",
    "  #\n",
    "  u = np.ones(len(mu_x))\n",
    "  u = np.random.uniform(0, 1, len(mu_x))\n",
    "  K_exp = np.exp(-1 * K)\n",
    "\n",
    "  for _ in range(n_iter):\n",
    "\n",
    "    u = np.divide(mu_x, np.dot(K_exp, v))\n",
    "    v = np.divide(mu_y, np.dot(K_exp.T, u))\n",
    "  u = np.divide(mu_x, np.dot(K_exp, v))\n",
    "  b=np.dot(np.diag(u), np.dot(K_exp, np.diag(v)))\n",
    "  \n",
    "  return b"
   ]
  },
  {
   "cell_type": "code",
   "execution_count": null,
   "metadata": {},
   "outputs": [],
   "source": [
    "print(temp)"
   ]
  },
  {
   "cell_type": "code",
   "execution_count": null,
   "metadata": {},
   "outputs": [],
   "source": []
  },
  {
   "cell_type": "code",
   "execution_count": null,
   "metadata": {},
   "outputs": [],
   "source": []
  },
  {
   "cell_type": "code",
   "execution_count": null,
   "metadata": {},
   "outputs": [],
   "source": []
  },
  {
   "cell_type": "code",
   "execution_count": null,
   "metadata": {},
   "outputs": [],
   "source": []
  }
 ],
 "metadata": {
  "kernelspec": {
   "display_name": "Python 2",
   "language": "python",
   "name": "python2"
  },
  "language_info": {
   "codemirror_mode": {
    "name": "ipython",
    "version": 2
   },
   "file_extension": ".py",
   "mimetype": "text/x-python",
   "name": "python",
   "nbconvert_exporter": "python",
   "pygments_lexer": "ipython2",
   "version": "2.7.15+"
  }
 },
 "nbformat": 4,
 "nbformat_minor": 1
}
