{
 "cells": [
  {
   "cell_type": "code",
   "execution_count": 1,
   "metadata": {
    "collapsed": false
   },
   "outputs": [
    {
     "name": "stderr",
     "output_type": "stream",
     "text": [
      "/Users/Cybele/anaconda/lib/python2.7/site-packages/h5py/__init__.py:36: FutureWarning: Conversion of the second argument of issubdtype from `float` to `np.floating` is deprecated. In future, it will be treated as `np.float64 == np.dtype(float).type`.\n",
      "  from ._conv import register_converters as _register_converters\n",
      "Couldn't import dot_parser, loading of dot files will not be possible.\n"
     ]
    }
   ],
   "source": [
    "from tensorflow.examples.tutorials.mnist import input_data\n",
    "import tensorflow as tf\n",
    "import numpy as np\n",
    "import optimizer\n",
    "import sinkhorn_ops\n",
    "import matplotlib.pyplot as plt\n",
    "from scipy.misc import imresize\n",
    "%matplotlib inline"
   ]
  },
  {
   "cell_type": "code",
   "execution_count": 2,
   "metadata": {
    "collapsed": true
   },
   "outputs": [],
   "source": [
    "def batch_split(batch, n_squares_side, n_channels=1):\n",
    "    \n",
    "    side = int(np.sqrt(batch.shape[1]))\n",
    "    batch_size = batch.shape[0]\n",
    "    n_squares = n_squares_side ** 2\n",
    "    \n",
    "    batch = np.reshape(batch, [-1, side, side, n_channels])\n",
    "    batch = np.reshape(batch, [batch_size, n_squares_side, side/n_squares_side, side, n_channels])\n",
    "    batch = np.transpose(batch, [0, 2, 1, 3, 4])\n",
    "    batch = np.reshape(batch, [batch_size, side/n_squares_side, n_squares, side/n_squares_side, n_channels])\n",
    "    batch = np.transpose(batch, [0, 2, 1, 3, 4])\n",
    "    return batch\n",
    "\n",
    "def stack_batch_split(batch):\n",
    "    return np.reshape(batch, [batch.shape[0]*batch.shape[1], batch.shape[2], batch.shape[3], batch.shape[4]])\n",
    "\n",
    "\n",
    "def unflatten_batch(batch, n_channels=1):\n",
    "    print(np.sqrt(batch.shape[2]/n_channels))\n",
    "    side_square = int(np.sqrt(batch.shape[2]/n_channels))\n",
    "    return np.reshape(batch, [batch.shape[0], batch.shape[1], side_square, side_square, n_channels])\n",
    "\n",
    "def join_batch_split(batch):\n",
    "    batch_size = batch.shape[0]\n",
    "    n_squares = batch.shape[1]\n",
    "    side_quare = batch.shape[2]\n",
    "    n_channels = batch.shape[4]\n",
    "    n_squares_side = int(np.sqrt(n_squares))\n",
    "    batch = np.transpose(batch, [0, 1, 3, 2, 4])\n",
    "    batch = np.reshape(batch, [batch_size, n_squares_side, side_square*n_squares_side, side_square, n_channels])\n",
    "    batch = np.transpose(batch, [0,1, 3,2,4])\n",
    "    batch = np.reshape(batch, [batch_size, 1, side_square*n_squares_side, side_square*n_squares_side, n_channels])\n",
    "    batch = np.reshape(batch, [batch_size, side_square*n_squares_side, side_square*n_squares_side, n_channels])\n",
    "    return batch\n",
    "\n",
    "def resized_dims(n_squares_side):\n",
    "    if(n_squares_side==2):\n",
    "        side = 28\n",
    "        side_square = 14\n",
    "    if(n_squares_side==3):\n",
    "        side = 27\n",
    "        side_square = 9\n",
    "    if(n_squares_side==4):\n",
    "        side = 28\n",
    "        side_square = 7\n",
    "    if(n_squares_side==5):\n",
    "        side = 30\n",
    "        side_square = 6\n",
    "    return side, side_square\n",
    "\n",
    "def resize_batch(batch, side_new):\n",
    "    batch_new = np.zeros((batch.shape[0], side_new **2))\n",
    "    side = int(np.sqrt(batch.shape[1]))\n",
    "    for i in range(batch.shape[0]):\n",
    "        a = imresize(np.reshape(batch[i,:], [side,side]), [side_new, side_new])\n",
    "        a = a.flatten()\n",
    "        a = a/255.0\n",
    "        batch_new[i,:] = a.flatten()\n",
    "    return batch_new"
   ]
  },
  {
   "cell_type": "code",
   "execution_count": 3,
   "metadata": {
    "collapsed": false
   },
   "outputs": [],
   "source": [
    "batch_size = 10\n",
    "n_iter = 2000\n",
    "samples_per_num = 5\n",
    "n_iter_sinkhorn = 20\n",
    "noise_factor = 1.0\n",
    "keep_prob =1.0\n",
    "opt = 'adam'\n",
    "n_units = 32\n",
    "temp = 2.0\n",
    "lr = 0.01\n",
    "\n",
    "#mnist data\n",
    "rfield_size = 5\n",
    "n_squares_side = 3\n",
    "n_channels = 1\n",
    "stride = 1\n",
    "n_squares = n_squares_side **2\n",
    "\n",
    "side, side_square = resized_dims(n_squares_side)\n"
   ]
  },
  {
   "cell_type": "code",
   "execution_count": 4,
   "metadata": {
    "collapsed": true
   },
   "outputs": [],
   "source": [
    "def create_log_alpha():\n",
    "    fc = tf.contrib.layers.fully_connected\n",
    "    flatten = tf.contrib.layers.flatten\n",
    "    dropout = tf.contrib.layers.dropout\n",
    "    def conv(input_image, kernel_shape, bias_shape):\n",
    "        weights = tf.get_variable(\"weights\", kernel_shape,\n",
    "                                 initializer = tf.random_normal_initializer())\n",
    "        biases = tf.get_variable(\"biases\", bias_shape, \n",
    "                                initializer=tf.constant_initializer(0.0))\n",
    "        convolutional = tf.nn.conv2d(input_image, weights, \n",
    "                                     strides = [1, 1, 1, 1],\n",
    "                                     padding=\"SAME\")\n",
    "        out_relu = tf.nn.relu(convolutional + biases)\n",
    "        out_maxpool =tf.nn.max_pool(out_relu, \n",
    "                                    ksize=[1, stride, stride, 1],\n",
    "                                   strides=[1, stride, stride, 1],\n",
    "                                   padding=\"SAME\")\n",
    "        return out_maxpool\n",
    "    def conv_and_fc(input_image):\n",
    "        with tf.variable_scope(\"conv1\"):\n",
    "            conv_output = conv(input_image, [rfield_size, rfield_size, n_channels, n_units], [n_units])\n",
    "        fully_connected_output = dropout(tf.cast(fc(flatten(conv_output), n_squares, activation_fn = None), tf.float32),\n",
    "                                        keep_prob)\n",
    "        return fully_connected_output\n",
    "    \n",
    "    with tf.variable_scope(\"model_params\"):\n",
    "        log_alpha = tf.reshape(conv_and_fc(stack_scrambled_images_split), [-1, n_squares, n_squares])\n",
    "    return log_alpha"
   ]
  },
  {
   "cell_type": "code",
   "execution_count": 5,
   "metadata": {
    "collapsed": false
   },
   "outputs": [],
   "source": [
    "scrambled_split = tf.placeholder(tf.float32,[None, n_squares, side_square, side_square, 1])\n",
    "scrambled_split_tiled = tf.tile(scrambled_split, [samples_per_num, 1, 1, 1, 1])\n",
    "\n",
    "stack_scrambled_images_split = tf.placeholder(tf.float32,[None, side_square, side_square, 1])\n",
    "\n",
    "real_split = tf.placeholder(tf.float32,[None, n_squares, side_square, side_square, 1])\n",
    "real_split_tiled = tf.tile(real_split, [samples_per_num, 1, 1, 1, 1])\n",
    "\n",
    "\n",
    "temperature = tf.constant(temp, dtype=tf.float32)\n",
    "global_step = tf.Variable(0, trainable=False)\n",
    "fc = tf.contrib.layers.fully_connected\n",
    "\n",
    "\n",
    "\n",
    "log_alpha = create_log_alpha()\n",
    "(soft_perms_inf, log_alpha_w_noise) = sinkhorn_ops.gumbel_sinkhorn(log_alpha, temp, samples_per_num,\n",
    "                                                                   noise_factor, n_iter_sinkhorn, squeeze=False)\n",
    "\n",
    "inv_soft_perms = tf.transpose(soft_perms_inf, [0, 1, 3, 2])\n",
    "inv_soft_perms_flat = tf.reshape( tf.transpose(inv_soft_perms, [1, 0, 2, 3]), [-1, n_squares, n_squares])\n",
    "\n",
    "real_split_tiled = tf.reshape(real_split_tiled, [-1, n_squares, side_square ** 2 * n_channels])\n",
    "scrambled_split_tiled = tf.reshape(scrambled_split_tiled, [-1, n_squares, side_square ** 2* n_channels])\n",
    "ordered_inf = tf.matmul(inv_soft_perms_flat, scrambled_split_tiled)\n",
    "l2s_diff = tf.reduce_mean(tf.square(real_split_tiled - ordered_inf))\n",
    "opt = optimizer.set_optimizer(opt, lr, opt_eps=1e-8)\n",
    "train_op = tf.contrib.training.create_train_op(l2s_diff, opt, global_step=global_step)\n",
    "\n"
   ]
  },
  {
   "cell_type": "code",
   "execution_count": 6,
   "metadata": {
    "collapsed": false
   },
   "outputs": [
    {
     "name": "stdout",
     "output_type": "stream",
     "text": [
      "Extracting /tmp/train-images-idx3-ubyte.gz\n",
      "Extracting /tmp/train-labels-idx1-ubyte.gz\n",
      "Extracting /tmp/t10k-images-idx3-ubyte.gz\n",
      "Extracting /tmp/t10k-labels-idx1-ubyte.gz\n",
      "Extracting /tmp/train-images-idx3-ubyte.gz\n",
      "Extracting /tmp/train-labels-idx1-ubyte.gz\n",
      "Extracting /tmp/t10k-images-idx3-ubyte.gz\n",
      "Extracting /tmp/t10k-labels-idx1-ubyte.gz\n",
      "WARNING:tensorflow:From /Users/Cybele/anaconda/lib/python2.7/site-packages/tensorflow/python/util/tf_should_use.py:175: initialize_all_variables (from tensorflow.python.ops.variables) is deprecated and will be removed after 2017-03-02.\n",
      "Instructions for updating:\n",
      "Use `tf.global_variables_initializer` instead.\n"
     ]
    },
    {
     "name": "stderr",
     "output_type": "stream",
     "text": [
      "WARNING:tensorflow:From /Users/Cybele/anaconda/lib/python2.7/site-packages/tensorflow/python/util/tf_should_use.py:175: initialize_all_variables (from tensorflow.python.ops.variables) is deprecated and will be removed after 2017-03-02.\n",
      "Instructions for updating:\n",
      "Use `tf.global_variables_initializer` instead.\n"
     ]
    },
    {
     "name": "stdout",
     "output_type": "stream",
     "text": [
      "Step 1, Loss: 0.0198453\n",
      "Step 51, Loss: 0.0132292\n",
      "Step 101, Loss: 0.0062677\n",
      "Step 151, Loss: 0.0040735\n",
      "Step 201, Loss: 0.0049108\n",
      "Step 251, Loss: 0.0081816\n",
      "Step 301, Loss: 0.0070003\n",
      "Step 351, Loss: 0.0068405\n",
      "Step 401, Loss: 0.0083016\n",
      "Step 451, Loss: 0.0103484\n",
      "Step 501, Loss: 0.0016441\n",
      "Step 551, Loss: 0.0014518\n",
      "Step 601, Loss: 0.0027684\n",
      "Step 651, Loss: 0.0039187\n",
      "Step 701, Loss: 0.0046059\n",
      "Step 751, Loss: 0.0049550\n",
      "Step 801, Loss: 0.0026623\n",
      "Step 851, Loss: 0.0018590\n",
      "Step 901, Loss: 0.0008047\n",
      "Step 951, Loss: 0.0036600\n",
      "Step 1001, Loss: 0.0012847\n",
      "Step 1051, Loss: 0.0018433\n",
      "Step 1101, Loss: 0.0014844\n",
      "Step 1151, Loss: 0.0061072\n",
      "Step 1201, Loss: 0.0068858\n",
      "Step 1251, Loss: 0.0035159\n",
      "Step 1301, Loss: 0.0076312\n",
      "Step 1351, Loss: 0.0009590\n",
      "Step 1401, Loss: 0.0093961\n",
      "Step 1451, Loss: 0.0052645\n",
      "Step 1501, Loss: 0.0023024\n",
      "Step 1551, Loss: 0.0011134\n",
      "Step 1601, Loss: 0.0005774\n",
      "Step 1651, Loss: 0.0107499\n",
      "Step 1701, Loss: 0.0064147\n",
      "Step 1751, Loss: 0.0020487\n",
      "Step 1801, Loss: 0.0016216\n",
      "Step 1851, Loss: 0.0060973\n",
      "Step 1901, Loss: 0.0033281\n",
      "Step 1951, Loss: 0.0045226\n"
     ]
    },
    {
     "name": "stderr",
     "output_type": "stream",
     "text": [
      "/Users/Cybele/anaconda/lib/python2.7/site-packages/ipykernel/__main__.py:55: DeprecationWarning: `imresize` is deprecated!\n",
      "`imresize` is deprecated in SciPy 1.0.0, and will be removed in 1.2.0.\n",
      "Use ``skimage.transform.resize`` instead.\n"
     ]
    }
   ],
   "source": [
    "data_train = input_data.read_data_sets('/tmp/', one_hot=True).train \n",
    "data_test = input_data.read_data_sets('/tmp/', one_hot=True).test \n",
    "\n",
    "init_op=tf.initialize_all_variables()\n",
    "sess=tf.InteractiveSession()\n",
    "sess.run(init_op)\n",
    "\n",
    "for i in range(n_iter):\n",
    "    np_x,np_y=data_train.next_batch(batch_size)\n",
    "    np_x = resize_batch(np_x, side)\n",
    "\n",
    "    real_images_split = batch_split(np_x, n_squares_side)\n",
    "    scrambled_images_split = np.zeros(real_images_split.shape)\n",
    "    \n",
    "    for j in range(batch_size):\n",
    "        perm = np.random.permutation(n_squares)\n",
    "        scrambled_images_split[j,:, :, :] = real_images_split[j, perm, :, :]\n",
    "    stacked_scrambled_images_split = stack_batch_split(scrambled_images_split)\n",
    "    _,loss=sess.run([train_op,l2s_diff],{real_split:real_images_split,\n",
    "                                         scrambled_split:scrambled_images_split,\n",
    "                                        stack_scrambled_images_split:stacked_scrambled_images_split})\n",
    "    \n",
    "   \n",
    "    if i % 50 == 1:\n",
    "        print('Step %d, Loss: %0.7f' % (i,loss))\n"
   ]
  },
  {
   "cell_type": "code",
   "execution_count": 7,
   "metadata": {
    "collapsed": false
   },
   "outputs": [
    {
     "name": "stdout",
     "output_type": "stream",
     "text": [
      "9.0\n"
     ]
    },
    {
     "name": "stderr",
     "output_type": "stream",
     "text": [
      "/Users/Cybele/anaconda/lib/python2.7/site-packages/ipykernel/__main__.py:55: DeprecationWarning: `imresize` is deprecated!\n",
      "`imresize` is deprecated in SciPy 1.0.0, and will be removed in 1.2.0.\n",
      "Use ``skimage.transform.resize`` instead.\n"
     ]
    }
   ],
   "source": [
    "batch_size_test=10\n",
    "np_x,np_y=data_test.next_batch(batch_size_test)\n",
    "np_x = resize_batch(np_x, side)\n",
    "real_images_split = batch_split(np_x, n_squares_side)\n",
    "scrambled_images_split = np.zeros(real_images_split.shape)\n",
    "    \n",
    "for i in range(batch_size_test):\n",
    "    perm = np.random.permutation(n_squares)\n",
    "    scrambled_images_split[i,:, :, :] = real_images_split[i, perm, :, :]\n",
    "stacked_scrambled_images_split = stack_batch_split(scrambled_images_split)\n",
    "[unscrambled_images,loss] = sess.run([ordered_inf,l2s_diff],{real_split:real_images_split,\n",
    "                            scrambled_split:scrambled_images_split,\n",
    "                            stack_scrambled_images_split:stacked_scrambled_images_split})\n",
    "unscrambled_images = unscrambled_images[:batch_size_test,:,:]\n",
    "unflatten_inf = unflatten_batch(unscrambled_images)\n",
    "joined_inf = join_batch_split(unflatten_inf)\n",
    "joined_scrambled = join_batch_split(scrambled_images_split)\n",
    "joined_real = join_batch_split(real_images_split)"
   ]
  },
  {
   "cell_type": "code",
   "execution_count": 8,
   "metadata": {
    "collapsed": false
   },
   "outputs": [
    {
     "data": {
      "image/png": "[encoded data removed]",
      "text/plain": [
       "<Figure size 1000x3000 with 30 Axes>"
      ]
     },
     "metadata": {},
     "output_type": "display_data"
    }
   ],
   "source": [
    "fig, ax = plt.subplots(batch_size_test,3,figsize=(10,30))\n",
    "\n",
    "for i in range(batch_size_test):\n",
    "   \n",
    "    ax[i,0].imshow(joined_real[i,:,:,0],cmap='Greys')\n",
    "    ax[i,0].get_xaxis().set_visible(False)\n",
    "    ax[i,0].get_yaxis().set_visible(False)\n",
    "    \n",
    "    ax[i,1].imshow(joined_scrambled[i,:,:,0],cmap='Greys')\n",
    "    ax[i,1].get_xaxis().set_visible(False)\n",
    "    ax[i,1].get_yaxis().set_visible(False)\n",
    "    \n",
    "    ax[i,2].imshow(joined_inf[i,:,:,0],cmap='Greys')\n",
    "    ax[i,2].get_xaxis().set_visible(False)\n",
    "    ax[i,2].get_yaxis().set_visible(False)\n",
    "    if(i==0):\n",
    "        ax[i,0].set_title('Real',fontsize =25)\n",
    "        ax[i,1].set_title('Real Scrambled',fontsize =25)\n",
    "        ax[i,2].set_title('Reconstructed',fontsize =25)"
   ]
  },
  {
   "cell_type": "code",
   "execution_count": null,
   "metadata": {
    "collapsed": false
   },
   "outputs": [],
   "source": []
  }
 ],
 "metadata": {
  "kernelspec": {
   "display_name": "Python 2",
   "language": "python",
   "name": "python2"
  },
  "language_info": {
   "codemirror_mode": {
    "name": "ipython",
    "version": 2
   },
   "file_extension": ".py",
   "mimetype": "text/x-python",
   "name": "python",
   "nbconvert_exporter": "python",
   "pygments_lexer": "ipython2",
   "version": "2.7.12"
  }
 },
 "nbformat": 4,
 "nbformat_minor": 0
}
