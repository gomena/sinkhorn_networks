{
 "cells": [
  {
   "cell_type": "code",
   "execution_count": 1,
   "metadata": {},
   "outputs": [],
   "source": [
    "from tensorflow.examples.tutorials.mnist import input_data\n",
    "import tensorflow as tf\n",
    "import numpy as np\n",
    "import optimizer\n",
    "import sinkhorn_ops\n",
    "import matplotlib.pyplot as plt\n",
    "from scipy.misc import imresize\n",
    "from scipy.optimize import linear_sum_assignment\n",
    "\n",
    "%matplotlib inline"
   ]
  },
  {
   "cell_type": "code",
   "execution_count": 2,
   "metadata": {},
   "outputs": [],
   "source": [
    "#Define some ad-hoc merging, splitting and mixing functions\n",
    "\n",
    "def ma_A(n_squares):\n",
    "    A=[]\n",
    "    for k in range(n_squares):\n",
    "        \n",
    "        i = k % int(np.sqrt(n_squares))\n",
    "        j = k / int(np.sqrt(n_squares))\n",
    "        ii = []\n",
    "        jj = []\n",
    "        if(i>0):\n",
    "            ii.append(i-1)\n",
    "        if(i<np.sqrt(n_squares)-1):\n",
    "            ii.append(i+1)\n",
    "        if(j>0):\n",
    "            jj.append(j-1)\n",
    "        if(j<np.sqrt(n_squares)-1):\n",
    "            jj.append(j+1)\n",
    "        for iii in ii:\n",
    "            a = np.zeros(n_squares)\n",
    "            a[k] = 1\n",
    "            kk = iii + int(np.sqrt(n_squares))*j\n",
    "            \n",
    "            a[kk] = -1\n",
    "            A.append(a)\n",
    "        for jjj in jj:\n",
    "            a = np.zeros(n_squares)\n",
    "            a[k] = 1\n",
    "            kk = i + int(np.sqrt(n_squares))*jjj\n",
    "            a[kk] = -1\n",
    "            A.append(a)\n",
    "    return np.array(A)\n",
    "\n",
    "def batch_split(batch, n_squares_side, n_channels=1):\n",
    "    \n",
    "    side = int(np.sqrt(batch.shape[1]))\n",
    "    batch_size = batch.shape[0]\n",
    "    n_squares = n_squares_side ** 2\n",
    "    \n",
    "    batch = np.reshape(batch, [-1, side, side, n_channels])\n",
    "    batch = np.reshape(batch, [batch_size, n_squares_side, side/n_squares_side, side, n_channels])\n",
    "    batch = np.transpose(batch, [0, 2, 1, 3, 4])\n",
    "    batch = np.reshape(batch, [batch_size, side/n_squares_side, n_squares, side/n_squares_side, n_channels])\n",
    "    batch = np.transpose(batch, [0, 2, 1, 3, 4])\n",
    "    return batch\n",
    "\n",
    "def stack_batch_split(batch):\n",
    "    return np.reshape(batch, [batch.shape[0]*batch.shape[1], batch.shape[2], batch.shape[3], batch.shape[4]])\n",
    "\n",
    "\n",
    "def unflatten_batch(batch, n_channels=1):\n",
    "    print(np.sqrt(batch.shape[2]/n_channels))\n",
    "    side_square = int(np.sqrt(batch.shape[2]/n_channels))\n",
    "    return np.reshape(batch, [batch.shape[0], batch.shape[1], side_square, side_square, n_channels])\n",
    "\n",
    "def join_batch_split(batch):\n",
    "    batch_size = batch.shape[0]\n",
    "    n_squares = batch.shape[1]\n",
    "    side_quare = batch.shape[2]\n",
    "    n_channels = batch.shape[4]\n",
    "    n_squares_side = int(np.sqrt(n_squares))\n",
    "    batch = np.transpose(batch, [0, 1, 3, 2, 4])\n",
    "    batch = np.reshape(batch, [batch_size, n_squares_side, side_square*n_squares_side, side_square, n_channels])\n",
    "    batch = np.transpose(batch, [0,1, 3,2,4])\n",
    "    batch = np.reshape(batch, [batch_size, 1, side_square*n_squares_side, side_square*n_squares_side, n_channels])\n",
    "    batch = np.reshape(batch, [batch_size, side_square*n_squares_side, side_square*n_squares_side, n_channels])\n",
    "    return batch\n",
    "\n",
    "def resized_dims(n_squares_side):\n",
    "    if(n_squares_side==2):\n",
    "        side = 28\n",
    "        side_square = 14\n",
    "    if(n_squares_side==3):\n",
    "        side = 27\n",
    "        side_square = 9\n",
    "    if(n_squares_side==4):\n",
    "        side = 28\n",
    "        side_square = 7\n",
    "    if(n_squares_side==5):\n",
    "        side = 30\n",
    "        side_square = 6\n",
    "    return side, side_square\n",
    "\n",
    "def resize_batch(batch, side_new):\n",
    "    batch_new = np.zeros((batch.shape[0], side_new **2))\n",
    "    side = int(np.sqrt(batch.shape[1]))\n",
    "    for i in range(batch.shape[0]):\n",
    "        a = imresize(np.reshape(batch[i,:], [side,side]), [side_new, side_new])\n",
    "        a = a.flatten()\n",
    "        a = a/255.0\n",
    "        batch_new[i,:] = a.flatten()\n",
    "    return batch_new\n",
    "\n",
    "\n",
    "def soft_to_hard(soft_perm):\n",
    "    \n",
    "    a,b = linear_sum_assignment(-soft_perm)\n",
    "    ma = np.zeros((np.shape(soft_perm)))\n",
    "    for i in range(soft_perm.shape[0]):\n",
    "        ma[i, b[i]] = 1\n",
    "    return ma\n"
   ]
  },
  {
   "cell_type": "code",
   "execution_count": 16,
   "metadata": {},
   "outputs": [],
   "source": [
    "#Define model params\n",
    "batch_size = 10\n",
    "n_iter = 1000\n",
    "samples_per_num = 1\n",
    "n_iter_sinkhorn = 20\n",
    "noise_factor = 1.0\n",
    "keep_prob =1.0\n",
    "opt = 'adam'\n",
    "n_units = 32\n",
    "temp = 0.1\n",
    "lr = 1\n",
    "\n",
    "#mnist data\n",
    "rfield_size = 5\n",
    "n_squares_side = 3\n",
    "n_channels = 1\n",
    "stride = 1\n",
    "n_squares = n_squares_side **2\n",
    "n_dim = 5\n",
    "side, side_square = resized_dims(n_squares_side)\n"
   ]
  },
  {
   "cell_type": "code",
   "execution_count": 4,
   "metadata": {},
   "outputs": [],
   "source": [
    "#Main neural network definitions\n",
    "\n",
    "def create_log_alpha():\n",
    "    #create the matrix of log_alpha, that will later will converted into a soft permutation\n",
    "    #this relies on some NN processing (convolutional), see below\n",
    "    fc = tf.contrib.layers.fully_connected\n",
    "    flatten = tf.contrib.layers.flatten\n",
    "    dropout = tf.contrib.layers.dropout\n",
    "    def conv(input_image, kernel_shape, bias_shape):\n",
    "        weights = tf.get_variable(\"weights\", kernel_shape,\n",
    "                                 initializer = tf.random_normal_initializer())\n",
    "        biases = tf.get_variable(\"biases\", bias_shape, \n",
    "                                initializer=tf.constant_initializer(0.0))\n",
    "        convolutional = tf.nn.conv2d(input_image, weights, \n",
    "                                     strides = [1, 1, 1, 1],\n",
    "                                     padding=\"SAME\")\n",
    "        out_relu = tf.nn.relu(convolutional + biases)\n",
    "        out_maxpool =tf.nn.max_pool(out_relu, \n",
    "                                    ksize=[1, stride, stride, 1],\n",
    "                                   strides=[1, stride, stride, 1],\n",
    "                                   padding=\"SAME\")\n",
    "        return out_maxpool\n",
    "    def conv_and_fc(input_image):\n",
    "        with tf.variable_scope(\"conv1\"):\n",
    "            conv_output = conv(input_image, [rfield_size, rfield_size, n_channels, n_units], [n_units])\n",
    "        fully_connected_output = dropout(tf.cast(fc(flatten(conv_output), n_dim, activation_fn = None), tf.float32),\n",
    "                                        keep_prob)\n",
    "        return fully_connected_output\n",
    "    \n",
    "    with tf.variable_scope(\"model_params\"):\n",
    "        X = tf.math.l2_normalize(tf.reshape(conv_and_fc(stack_scrambled_images_split), [-1, n_squares, n_dim]))\n",
    "        #X = tf.reshape(conv_and_fc(stack_scrambled_images_split), [-1, n_squares, n_dim])\n",
    "        \n",
    "        log_alpha = tf.matmul(X, tf.transpose(X, [0, 2, 1]))/10.0\n",
    "    return log_alpha"
   ]
  },
  {
   "cell_type": "code",
   "execution_count": 5,
   "metadata": {},
   "outputs": [
    {
     "name": "stdout",
     "output_type": "stream",
     "text": [
      "WARNING:tensorflow:From /home/gomena/.local/lib/python2.7/site-packages/tensorflow/python/framework/op_def_library.py:263: colocate_with (from tensorflow.python.framework.ops) is deprecated and will be removed in a future version.\n",
      "Instructions for updating:\n",
      "Colocations handled automatically by placer.\n",
      "WARNING:tensorflow:From /home/gomena/.local/lib/python2.7/site-packages/tensorflow/contrib/layers/python/layers/layers.py:1624: flatten (from tensorflow.python.layers.core) is deprecated and will be removed in a future version.\n",
      "Instructions for updating:\n",
      "Use keras.layers.flatten instead.\n",
      "WARNING:tensorflow:From /home/gomena/.local/lib/python2.7/site-packages/tensorflow/python/keras/layers/core.py:143: calling dropout (from tensorflow.python.ops.nn_ops) with keep_prob is deprecated and will be removed in a future version.\n",
      "Instructions for updating:\n",
      "Please use `rate` instead of `keep_prob`. Rate should be set to `rate = 1 - keep_prob`.\n",
      "WARNING:tensorflow:From /home/gomena/.local/lib/python2.7/site-packages/tensorflow/python/ops/math_ops.py:3066: to_int32 (from tensorflow.python.ops.math_ops) is deprecated and will be removed in a future version.\n",
      "Instructions for updating:\n",
      "Use tf.cast instead.\n"
     ]
    }
   ],
   "source": [
    "#Now we define the main TF variables\n",
    "\n",
    "scrambled_split = tf.placeholder(tf.float32,[None, n_squares, side_square, side_square, 1])\n",
    "scrambled_split_tiled = tf.tile(scrambled_split, [samples_per_num, 1, 1, 1, 1])\n",
    "\n",
    "stack_scrambled_images_split = tf.placeholder(tf.float32,[None, side_square, side_square, 1])\n",
    "\n",
    "real_split = tf.placeholder(tf.float32,[None, n_squares, side_square, side_square, 1])\n",
    "real_split_tiled = tf.tile(real_split, [samples_per_num, 1, 1, 1, 1])\n",
    "\n",
    "\n",
    "temperature = tf.constant(temp, dtype=tf.float32)\n",
    "global_step = tf.Variable(0, trainable=False)\n",
    "fc = tf.contrib.layers.fully_connected\n",
    "AA = tf.cast(tf.tile(tf.constant(np.matmul(ma_A(n_squares).T, ma_A(n_squares)))[np.newaxis,:,:],[batch_size, 1, 1]), tf.float32)\n",
    "\n",
    "log_alpha = create_log_alpha()\n",
    "soft_perms_inf = tf.cast(tf.tile(tf.constant(np.eye(n_squares))[np.newaxis,:,:],[batch_size, 1, 1]), tf.float32)\n",
    "tau=tf.constant(1./temp,dtype=tf.float32)\n",
    "for _ in range(10):\n",
    "    P = tf.reshape(soft_perms_inf, [-1, n_squares, n_squares])\n",
    "    #ma = tf.matmul(-tau*AA, tf.matmul(P, log_alpha))\n",
    "    ma = tf.matmul(-AA, tf.matmul(P, log_alpha))\n",
    "    \n",
    "    (soft_perms_inf, _) = sinkhorn_ops.gumbel_sinkhorn(ma, temp, samples_per_num,\n",
    "                                                                       noise_factor, n_iter_sinkhorn, squeeze=False)\n",
    "\n",
    "inv_soft_perms = tf.transpose(soft_perms_inf, [0, 1, 3, 2])\n",
    "inv_soft_perms_flat = tf.reshape( tf.transpose(inv_soft_perms, [1, 0, 2, 3]), [-1, n_squares, n_squares])\n",
    "\n",
    "real_split_tiled = tf.reshape(real_split_tiled, [-1, n_squares, side_square ** 2 * n_channels])\n",
    "scrambled_split_tiled = tf.reshape(scrambled_split_tiled, [-1, n_squares, side_square ** 2* n_channels])\n",
    "ordered_inf = tf.matmul(inv_soft_perms_flat, scrambled_split_tiled)\n",
    "l2s_diff = tf.reduce_mean(tf.square(real_split_tiled - ordered_inf))\n",
    "opt = optimizer.set_optimizer(opt, lr, opt_eps=1e-8)\n",
    "train_op = tf.contrib.training.create_train_op(l2s_diff, opt, global_step=global_step)\n",
    "\n"
   ]
  },
  {
   "cell_type": "code",
   "execution_count": 6,
   "metadata": {},
   "outputs": [
    {
     "name": "stdout",
     "output_type": "stream",
     "text": [
      "WARNING:tensorflow:From <ipython-input-6-aaec4e35da18>:2: read_data_sets (from tensorflow.contrib.learn.python.learn.datasets.mnist) is deprecated and will be removed in a future version.\n",
      "Instructions for updating:\n",
      "Please use alternatives such as official/mnist/dataset.py from tensorflow/models.\n",
      "WARNING:tensorflow:From /home/gomena/.local/lib/python2.7/site-packages/tensorflow/contrib/learn/python/learn/datasets/mnist.py:260: maybe_download (from tensorflow.contrib.learn.python.learn.datasets.base) is deprecated and will be removed in a future version.\n",
      "Instructions for updating:\n",
      "Please write your own downloading logic.\n",
      "WARNING:tensorflow:From /home/gomena/.local/lib/python2.7/site-packages/tensorflow/contrib/learn/python/learn/datasets/mnist.py:262: extract_images (from tensorflow.contrib.learn.python.learn.datasets.mnist) is deprecated and will be removed in a future version.\n",
      "Instructions for updating:\n",
      "Please use tf.data to implement this functionality.\n",
      "Extracting /tmp/train-images-idx3-ubyte.gz\n",
      "WARNING:tensorflow:From /home/gomena/.local/lib/python2.7/site-packages/tensorflow/contrib/learn/python/learn/datasets/mnist.py:267: extract_labels (from tensorflow.contrib.learn.python.learn.datasets.mnist) is deprecated and will be removed in a future version.\n",
      "Instructions for updating:\n",
      "Please use tf.data to implement this functionality.\n",
      "Extracting /tmp/train-labels-idx1-ubyte.gz\n",
      "WARNING:tensorflow:From /home/gomena/.local/lib/python2.7/site-packages/tensorflow/contrib/learn/python/learn/datasets/mnist.py:110: dense_to_one_hot (from tensorflow.contrib.learn.python.learn.datasets.mnist) is deprecated and will be removed in a future version.\n",
      "Instructions for updating:\n",
      "Please use tf.one_hot on tensors.\n",
      "Extracting /tmp/t10k-images-idx3-ubyte.gz\n",
      "Extracting /tmp/t10k-labels-idx1-ubyte.gz\n",
      "WARNING:tensorflow:From /home/gomena/.local/lib/python2.7/site-packages/tensorflow/contrib/learn/python/learn/datasets/mnist.py:290: __init__ (from tensorflow.contrib.learn.python.learn.datasets.mnist) is deprecated and will be removed in a future version.\n",
      "Instructions for updating:\n",
      "Please use alternatives such as official/mnist/dataset.py from tensorflow/models.\n",
      "Extracting /tmp/train-images-idx3-ubyte.gz\n",
      "Extracting /tmp/train-labels-idx1-ubyte.gz\n",
      "Extracting /tmp/t10k-images-idx3-ubyte.gz\n",
      "Extracting /tmp/t10k-labels-idx1-ubyte.gz\n",
      "WARNING:tensorflow:From /home/gomena/.local/lib/python2.7/site-packages/tensorflow/python/util/tf_should_use.py:193: initialize_all_variables (from tensorflow.python.ops.variables) is deprecated and will be removed after 2017-03-02.\n",
      "Instructions for updating:\n",
      "Use `tf.global_variables_initializer` instead.\n"
     ]
    },
    {
     "name": "stderr",
     "output_type": "stream",
     "text": [
      "/home/gomena/.local/lib/python2.7/site-packages/ipykernel_launcher.py:88: DeprecationWarning: `imresize` is deprecated!\n",
      "`imresize` is deprecated in SciPy 1.0.0, and will be removed in 1.3.0.\n",
      "Use Pillow instead: ``numpy.array(Image.fromarray(arr).resize())``.\n"
     ]
    },
    {
     "name": "stdout",
     "output_type": "stream",
     "text": [
      "Step 1, Loss: 0.1095490\n",
      "Step 51, Loss: 0.1215949\n",
      "Step 101, Loss: 0.1458096\n",
      "Step 151, Loss: 0.1217813\n",
      "Step 201, Loss: 0.1013651\n",
      "Step 251, Loss: 0.1522020\n",
      "Step 301, Loss: 0.1256400\n",
      "Step 351, Loss: 0.1313551\n",
      "Step 401, Loss: 0.1441307\n",
      "Step 451, Loss: 0.1235830\n",
      "Step 501, Loss: 0.1273976\n",
      "Step 551, Loss: 0.1235337\n",
      "Step 601, Loss: 0.1295349\n",
      "Step 651, Loss: 0.1261673\n",
      "Step 701, Loss: 0.1486478\n",
      "Step 751, Loss: 0.1332262\n",
      "Step 801, Loss: 0.1410559\n",
      "Step 851, Loss: 0.1273063\n",
      "Step 901, Loss: 0.1303058\n",
      "Step 951, Loss: 0.1433931\n"
     ]
    }
   ],
   "source": [
    "#Lets train the model\n",
    "data_train = input_data.read_data_sets('/tmp/', one_hot=True).train \n",
    "data_test = input_data.read_data_sets('/tmp/', one_hot=True).test \n",
    "\n",
    "init_op=tf.initialize_all_variables()\n",
    "sess=tf.InteractiveSession()\n",
    "sess.run(init_op)\n",
    "\n",
    "for i in range(n_iter):\n",
    "    np_x,np_y=data_train.next_batch(batch_size)\n",
    "    np_x = resize_batch(np_x, side)\n",
    "\n",
    "    real_images_split = batch_split(np_x, n_squares_side)\n",
    "    scrambled_images_split = np.zeros(real_images_split.shape)\n",
    "    \n",
    "    for j in range(batch_size):\n",
    "        perm = np.random.permutation(n_squares)\n",
    "        scrambled_images_split[j,:, :, :] = real_images_split[j, perm, :, :]\n",
    "    stacked_scrambled_images_split = stack_batch_split(scrambled_images_split)\n",
    "    _,loss=sess.run([train_op,l2s_diff],{real_split:real_images_split,\n",
    "                                         scrambled_split:scrambled_images_split,\n",
    "                                        stack_scrambled_images_split:stacked_scrambled_images_split})\n",
    "    \n",
    "   \n",
    "    if i % 50 == 1:\n",
    "        print('Step %d, Loss: %0.7f' % (i,loss))\n"
   ]
  },
  {
   "cell_type": "code",
   "execution_count": 7,
   "metadata": {},
   "outputs": [
    {
     "name": "stderr",
     "output_type": "stream",
     "text": [
      "/home/gomena/.local/lib/python2.7/site-packages/ipykernel_launcher.py:88: DeprecationWarning: `imresize` is deprecated!\n",
      "`imresize` is deprecated in SciPy 1.0.0, and will be removed in 1.3.0.\n",
      "Use Pillow instead: ``numpy.array(Image.fromarray(arr).resize())``.\n"
     ]
    },
    {
     "name": "stdout",
     "output_type": "stream",
     "text": [
      "9.0\n"
     ]
    }
   ],
   "source": [
    "#Now let's test the model\n",
    "batch_size_test=10\n",
    "np_x,np_y=data_test.next_batch(batch_size_test)\n",
    "np_x = resize_batch(np_x, side)\n",
    "real_images_split = batch_split(np_x, n_squares_side)\n",
    "scrambled_images_split = np.zeros(real_images_split.shape)\n",
    "    \n",
    "for i in range(batch_size_test):\n",
    "    perm = np.random.permutation(n_squares)\n",
    "    scrambled_images_split[i,:, :, :] = real_images_split[i, perm, :, :]\n",
    "stacked_scrambled_images_split = stack_batch_split(scrambled_images_split)\n",
    "[unscrambled_images,loss, inv_soft_perms_np,ma_np, log_alpha_np] = sess.run([ordered_inf,l2s_diff, inv_soft_perms,ma, log_alpha],{real_split:real_images_split,\n",
    "                            scrambled_split:scrambled_images_split,\n",
    "                            stack_scrambled_images_split:stacked_scrambled_images_split})\n",
    "unscrambled_images = unscrambled_images[:batch_size_test,:,:]\n",
    "inv_hard_perms= np.zeros((batch_size_test, n_squares, n_squares))\n",
    "for i in range(batch_size_test):\n",
    "    inv_hard_perms[i,:,:] = soft_to_hard(inv_soft_perms_np[i,0,:,:])\n",
    "unflatten_inf = unflatten_batch(unscrambled_images)\n",
    "hard_inf = np.matmul(inv_hard_perms, np.reshape(scrambled_images_split, [batch_size_test,n_squares_side **2 ,-1]))\n",
    "unflatten_hard_inf =np.reshape(hard_inf, unflatten_inf.shape)\n",
    "joined_hard_inf =join_batch_split(unflatten_hard_inf)\n",
    "joined_inf = join_batch_split(unflatten_inf)\n",
    "joined_scrambled = join_batch_split(scrambled_images_split)\n",
    "joined_real = join_batch_split(real_images_split)"
   ]
  },
  {
   "cell_type": "code",
   "execution_count": 8,
   "metadata": {},
   "outputs": [
    {
     "data": {
      "image/png": "[encoded data removed]",
      "text/plain": [
       "<Figure size 1296x2160 with 40 Axes>"
      ]
     },
     "metadata": {
      "needs_background": "light"
     },
     "output_type": "display_data"
    }
   ],
   "source": [
    "#Compare reconstructions with real data\n",
    "fig, ax = plt.subplots(batch_size_test,4,figsize=(18,30))\n",
    "\n",
    "for i in range(batch_size_test):\n",
    "   \n",
    "    ax[i,0].imshow(joined_real[i,:,:,0],cmap='Greys')\n",
    "    ax[i,0].get_xaxis().set_visible(False)\n",
    "    ax[i,0].get_yaxis().set_visible(False)\n",
    "    \n",
    "    ax[i,1].imshow(joined_scrambled[i,:,:,0],cmap='Greys')\n",
    "    ax[i,1].get_xaxis().set_visible(False)\n",
    "    ax[i,1].get_yaxis().set_visible(False)\n",
    "    \n",
    "    ax[i,2].imshow(joined_inf[i,:,:,0],cmap='Greys')\n",
    "    ax[i,2].get_xaxis().set_visible(False)\n",
    "    ax[i,2].get_yaxis().set_visible(False)\n",
    "    \n",
    "    ax[i,2].imshow(joined_inf[i,:,:,0],cmap='Greys')\n",
    "    ax[i,2].get_xaxis().set_visible(False)\n",
    "    ax[i,2].get_yaxis().set_visible(False)\n",
    "   \n",
    "    ax[i,3].imshow(joined_hard_inf[i,:,:,0],cmap='Greys')\n",
    "    ax[i,3].get_xaxis().set_visible(False)\n",
    "    ax[i,3].get_yaxis().set_visible(False)\n",
    "   \n",
    "\n",
    "    if(i==0):\n",
    "        ax[i,0].set_title('Real',fontsize =25)\n",
    "        ax[i,1].set_title('Real Scrambled',fontsize =25)\n",
    "        ax[i,2].set_title('Soft Reconstructed',fontsize =25)\n",
    "        ax[i,3].set_title('Hard Reconstructed',fontsize =25)"
   ]
  },
  {
   "cell_type": "code",
   "execution_count": 9,
   "metadata": {},
   "outputs": [
    {
     "name": "stdout",
     "output_type": "stream",
     "text": [
      "(10, 9, 81)\n"
     ]
    },
    {
     "data": {
      "text/plain": [
       "<matplotlib.image.AxesImage at 0x7f9328b68410>"
      ]
     },
     "execution_count": 9,
     "metadata": {},
     "output_type": "execute_result"
    },
    {
     "data": {
      "image/png": "[encoded data removed]",
      "text/plain": [
       "<Figure size 432x288 with 1 Axes>"
      ]
     },
     "metadata": {
      "needs_background": "light"
     },
     "output_type": "display_data"
    }
   ],
   "source": [
    "print(unscrambled_images.shape)\n",
    "plt.imshow(np.reshape(unscrambled_images[0,6,:], [9,9]))"
   ]
  },
  {
   "cell_type": "code",
   "execution_count": 10,
   "metadata": {},
   "outputs": [
    {
     "data": {
      "image/png": "[encoded data removed]",
      "text/plain": [
       "<Figure size 720x360 with 9 Axes>"
      ]
     },
     "metadata": {
      "needs_background": "light"
     },
     "output_type": "display_data"
    }
   ],
   "source": [
    "fix, ax =plt.subplots(3,3,figsize=(10,5))\n",
    "ax=ax.flatten()\n",
    "for i in range(9):\n",
    "    ax[i].imshow(scrambled_images_split[0,i,:,:,0])"
   ]
  },
  {
   "cell_type": "code",
   "execution_count": 11,
   "metadata": {},
   "outputs": [],
   "source": [
    "s=np.reshape(scrambled_images_split, [batch_size_test, n_squares, -1])"
   ]
  },
  {
   "cell_type": "code",
   "execution_count": 12,
   "metadata": {},
   "outputs": [
    {
     "name": "stdout",
     "output_type": "stream",
     "text": [
      "(10, 1, 9, 9)\n",
      "[0.98735684 0.9957201  0.98794055 1.0123329  0.97800946 1.0191121\n",
      " 1.0649397  0.9355775  1.0190111 ]\n",
      "[[ 3.2762414e-06 -3.6547648e-05  3.2762414e-06  3.2762414e-06\n",
      "   3.2762414e-06  3.2762414e-06 -1.3431223e-04 -7.2801864e-05\n",
      "   3.2762414e-06]\n",
      " [-3.6547648e-05  4.2687994e-04 -3.6547648e-05 -3.6547648e-05\n",
      "  -3.6547648e-05 -3.6547648e-05  1.6355254e-03  9.0129796e-04\n",
      "  -3.6547648e-05]\n",
      " [ 3.2762414e-06 -3.6547648e-05  3.2762414e-06  3.2762414e-06\n",
      "   3.2762414e-06  3.2762414e-06 -1.3431223e-04 -7.2801864e-05\n",
      "   3.2762414e-06]\n",
      " [ 3.2762414e-06 -3.6547648e-05  3.2762414e-06  3.2762414e-06\n",
      "   3.2762414e-06  3.2762414e-06 -1.3431223e-04 -7.2801864e-05\n",
      "   3.2762414e-06]\n",
      " [ 3.2762414e-06 -3.6547648e-05  3.2762414e-06  3.2762414e-06\n",
      "   3.2762414e-06  3.2762414e-06 -1.3431223e-04 -7.2801864e-05\n",
      "   3.2762414e-06]\n",
      " [ 3.2762414e-06 -3.6547648e-05  3.2762414e-06  3.2762414e-06\n",
      "   3.2762414e-06  3.2762414e-06 -1.3431223e-04 -7.2801864e-05\n",
      "   3.2762414e-06]\n",
      " [-1.3431223e-04  1.6355254e-03 -1.3431223e-04 -1.3431223e-04\n",
      "  -1.3431223e-04 -1.3431223e-04  6.9640987e-03  3.9684060e-03\n",
      "  -1.3431224e-04]\n",
      " [-7.2801864e-05  9.0129796e-04 -7.2801864e-05 -7.2801864e-05\n",
      "  -7.2801864e-05 -7.2801864e-05  3.9684060e-03  2.2856314e-03\n",
      "  -7.2801864e-05]\n",
      " [ 3.2762414e-06 -3.6547648e-05  3.2762414e-06  3.2762414e-06\n",
      "   3.2762414e-06  3.2762414e-06 -1.3431223e-04 -7.2801864e-05\n",
      "   3.2762414e-06]]\n",
      "[[7.2194425e-08 6.0795480e-10 7.8133805e-11 1.3774615e-03 3.1467237e-16\n",
      "  9.3848367e-12 2.8377665e-17 3.7150676e-03 9.9490732e-01]\n",
      " [3.0484820e-02 3.2756492e-05 9.6230531e-01 6.8964963e-03 4.2402933e-17\n",
      "  1.5914085e-06 1.1911214e-17 2.7896682e-04 4.5066237e-08]\n",
      " [4.9210966e-01 1.1960173e-11 2.3314841e-21 1.7945387e-10 3.6935591e-31\n",
      "  4.2299150e-20 5.0789040e-01 5.8451638e-13 2.0206263e-22]\n",
      " [5.0688192e-15 9.3034691e-01 1.0552866e-02 5.4585282e-04 2.4663391e-11\n",
      "  7.5691989e-20 1.6776483e-19 5.8554370e-02 4.8901589e-19]\n",
      " [1.6021052e-20 3.6204509e-02 3.2984829e-22 2.9416856e-16 9.6379548e-01\n",
      "  2.2890497e-22 2.8025708e-29 5.5111110e-11 1.3033589e-10]\n",
      " [1.1760699e-07 1.6399222e-06 2.5910487e-11 9.9999785e-01 2.1886536e-16\n",
      "  3.7096827e-17 6.4476249e-16 4.1368850e-07 3.0739940e-16]\n",
      " [1.3929635e-09 7.7959726e-07 2.2945839e-03 2.7321337e-06 7.6642989e-12\n",
      "  3.0896685e-10 2.5912327e-14 5.1027993e-03 9.9259913e-01]\n",
      " [1.2956957e-07 7.7103891e-14 1.8717628e-15 2.2165186e-07 7.9176687e-07\n",
      "  9.9999881e-01 2.2565547e-22 1.9352462e-11 5.1961716e-12]\n",
      " [1.3524552e-08 3.6869778e-03 5.3645927e-03 4.6967201e-02 1.6053236e-12\n",
      "  1.8069413e-06 6.1140541e-05 9.4391769e-01 5.2790148e-07]]\n",
      "[[ 1.56652275e-02  6.31659105e-03  9.13909171e-04 -2.43585440e-04\n",
      "  -1.87951286e-04 -2.16163602e-03 -2.43585440e-04 -2.60697934e-03\n",
      "   1.89005781e-03]\n",
      " [-4.85270396e-02 -1.96600631e-02 -2.85858545e-03  7.61216681e-04\n",
      "   5.87947143e-04  6.81369938e-03  7.61216681e-04  8.28410219e-03\n",
      "  -5.89278806e-03]\n",
      " [ 1.96448769e-02  7.99031742e-03  1.14039879e-03 -3.12826131e-04\n",
      "  -2.42470356e-04 -2.77245045e-03 -3.12826131e-04 -3.38107650e-03\n",
      "   2.37464788e-03]\n",
      " [ 1.78795401e-02  7.42806168e-03  1.04656152e-03 -2.98112864e-04\n",
      "  -2.32711303e-04 -2.67936103e-03 -2.98112864e-04 -3.35692661e-03\n",
      "   2.18928605e-03]\n",
      " [-1.07153142e-02 -4.57376754e-03 -5.49896213e-04  1.95186571e-04\n",
      "   1.55333430e-04  1.64010318e-03  1.95186571e-04  2.08930718e-03\n",
      "  -1.25639630e-03]\n",
      " [ 2.98994500e-03  1.26572757e-03  1.31736568e-04 -5.37804954e-05\n",
      "  -4.29300744e-05 -4.21421544e-04 -5.37804954e-05 -5.29969460e-04\n",
      "   3.28489987e-04]\n",
      " [-6.29532617e-03 -2.61579431e-03 -3.65255837e-04  1.05191473e-04\n",
      "   8.21790818e-05  9.40284983e-04  1.05191473e-04  1.17737975e-03\n",
      "  -7.67895253e-04]\n",
      " [ 9.50328913e-03  3.89147876e-03  5.37324289e-04 -1.54346271e-04\n",
      "  -1.20176606e-04 -1.34970678e-03 -1.54346271e-04 -1.65493786e-03\n",
      "   1.13855314e-03]\n",
      " [-1.45199243e-04 -4.25525359e-05  3.80701385e-06  1.05645267e-06\n",
      "   7.79981747e-07 -9.51209222e-06  1.05645267e-06 -2.08991405e-05\n",
      "  -3.95529787e-06]]\n"
     ]
    },
    {
     "data": {
      "image/png": "[encoded data removed]",
      "text/plain": [
       "<Figure size 432x288 with 1 Axes>"
      ]
     },
     "metadata": {
      "needs_background": "light"
     },
     "output_type": "display_data"
    }
   ],
   "source": [
    "print(inv_soft_perms_np.shape)\n",
    "plt.imshow(inv_soft_perms_np[1,0,:,:])\n",
    "print(np.sum(inv_soft_perms_np[0,0,:,:], axis=0))\n",
    "plt.imshow(ma_np[0,:,:])\n",
    "print(log_alpha_np[1,:,:])\n",
    "print(inv_soft_perms_np[1,0,:,:])\n",
    "print(ma_np[0,:,:])"
   ]
  },
  {
   "cell_type": "code",
   "execution_count": 13,
   "metadata": {},
   "outputs": [
    {
     "data": {
      "text/plain": [
       "<matplotlib.image.AxesImage at 0x7f931ff46dd0>"
      ]
     },
     "execution_count": 13,
     "metadata": {},
     "output_type": "execute_result"
    },
    {
     "data": {
      "image/png": "[encoded data removed]",
      "text/plain": [
       "<Figure size 432x288 with 1 Axes>"
      ]
     },
     "metadata": {
      "needs_background": "light"
     },
     "output_type": "display_data"
    }
   ],
   "source": [
    "plt.imshow(np.matmul(s, np.transpose(s, [0,2,1]))[0,:,:])"
   ]
  },
  {
   "cell_type": "code",
   "execution_count": 14,
   "metadata": {},
   "outputs": [],
   "source": [
    "def ma_A(n_squares):\n",
    "    A=[]\n",
    "    for k in range(n_squares):\n",
    "        \n",
    "        i = k % int(np.sqrt(n_squares))\n",
    "        j = k / int(np.sqrt(n_squares))\n",
    "        ii = []\n",
    "        jj = []\n",
    "        if(i>0):\n",
    "            ii.append(i-1)\n",
    "        if(i<np.sqrt(n_squares)-1):\n",
    "            ii.append(i+1)\n",
    "        if(j>0):\n",
    "            jj.append(j-1)\n",
    "        if(j<np.sqrt(n_squares)-1):\n",
    "            jj.append(j+1)\n",
    "        for iii in ii:\n",
    "            a = np.zeros(n_squares)\n",
    "            a[k] = 1\n",
    "            kk = iii + int(np.sqrt(n_squares))*j\n",
    "            \n",
    "            a[kk] = -1\n",
    "            A.append(a)\n",
    "        for jjj in jj:\n",
    "            a = np.zeros(n_squares)\n",
    "            a[k] = 1\n",
    "            kk = i + int(np.sqrt(n_squares))*jjj\n",
    "            a[kk] = -1\n",
    "            A.append(a)\n",
    "    return np.array(A)"
   ]
  },
  {
   "cell_type": "code",
   "execution_count": 15,
   "metadata": {},
   "outputs": [
    {
     "ename": "NameError",
     "evalue": "name 'sinkhorn' is not defined",
     "output_type": "error",
     "traceback": [
      "\u001b[0;31m---------------------------------------------------------------------------\u001b[0m",
      "\u001b[0;31mNameError\u001b[0m                                 Traceback (most recent call last)",
      "\u001b[0;32m<ipython-input-15-838658b4e904>\u001b[0m in \u001b[0;36m<module>\u001b[0;34m()\u001b[0m\n\u001b[1;32m      4\u001b[0m \u001b[0mtau\u001b[0m\u001b[0;34m=\u001b[0m\u001b[0;36m0.5\u001b[0m\u001b[0;34m\u001b[0m\u001b[0;34m\u001b[0m\u001b[0m\n\u001b[1;32m      5\u001b[0m \u001b[0;32mfor\u001b[0m \u001b[0mp\u001b[0m \u001b[0;32min\u001b[0m \u001b[0mrange\u001b[0m\u001b[0;34m(\u001b[0m\u001b[0;36m100\u001b[0m\u001b[0;34m)\u001b[0m\u001b[0;34m:\u001b[0m\u001b[0;34m\u001b[0m\u001b[0;34m\u001b[0m\u001b[0m\n\u001b[0;32m----> 6\u001b[0;31m     \u001b[0mP\u001b[0m\u001b[0;34m=\u001b[0m\u001b[0msinkhorn\u001b[0m\u001b[0;34m(\u001b[0m\u001b[0mnp\u001b[0m\u001b[0;34m.\u001b[0m\u001b[0mmatmul\u001b[0m\u001b[0;34m(\u001b[0m\u001b[0mAA\u001b[0m\u001b[0;34m,\u001b[0m \u001b[0mnp\u001b[0m\u001b[0;34m.\u001b[0m\u001b[0mmatmul\u001b[0m\u001b[0;34m(\u001b[0m\u001b[0mP\u001b[0m\u001b[0;34m,\u001b[0m \u001b[0mXX\u001b[0m\u001b[0;34m)\u001b[0m\u001b[0;34m)\u001b[0m\u001b[0;34m/\u001b[0m\u001b[0;36m0.1\u001b[0m\u001b[0;34m)\u001b[0m\u001b[0;34m\u001b[0m\u001b[0;34m\u001b[0m\u001b[0m\n\u001b[0m",
      "\u001b[0;31mNameError\u001b[0m: name 'sinkhorn' is not defined"
     ]
    }
   ],
   "source": [
    "AA = np.matmul(ma_A(n_squares).T, ma_A(n_squares))\n",
    "P = np.eye(n_squares)\n",
    "XX = np.matmul(s, np.transpose(s, [0,2,1]))[0,:,:]\n",
    "tau=0.5\n",
    "for p in range(100):\n",
    "    P=sinkhorn(np.matmul(AA, np.matmul(P, XX))/0.1)"
   ]
  },
  {
   "cell_type": "code",
   "execution_count": null,
   "metadata": {},
   "outputs": [],
   "source": [
    "plt.imshow(P)\n",
    "print(s.shape)"
   ]
  },
  {
   "cell_type": "code",
   "execution_count": null,
   "metadata": {},
   "outputs": [],
   "source": [
    "def sinkhorn(K,  n_iter=20, mu_x=None,mu_y=None,type=None):\n",
    "  if (mu_x is None):\n",
    "    mu_x = np.ones(K.shape[0])/K.shape[0]\n",
    "  if(mu_y is None):\n",
    "    mu_y = np.ones(K.shape[1])/K.shape[1]\n",
    "  if(type is not None):\n",
    "    v = np.random.uniform(0, 1, len(mu_y))\n",
    "  else:\n",
    "    v = np.ones(len(mu_y))\n",
    "  #\n",
    "  u = np.ones(len(mu_x))\n",
    "  u = np.random.uniform(0, 1, len(mu_x))\n",
    "  K_exp = np.exp(-1 * K)\n",
    "\n",
    "  for _ in range(n_iter):\n",
    "\n",
    "    u = np.divide(mu_x, np.dot(K_exp, v))\n",
    "    v = np.divide(mu_y, np.dot(K_exp.T, u))\n",
    "  u = np.divide(mu_x, np.dot(K_exp, v))\n",
    "  b=np.dot(np.diag(u), np.dot(K_exp, np.diag(v)))\n",
    "  \n",
    "  return b"
   ]
  },
  {
   "cell_type": "code",
   "execution_count": null,
   "metadata": {},
   "outputs": [],
   "source": [
    "print(temp)"
   ]
  },
  {
   "cell_type": "code",
   "execution_count": null,
   "metadata": {},
   "outputs": [],
   "source": []
  },
  {
   "cell_type": "code",
   "execution_count": null,
   "metadata": {},
   "outputs": [],
   "source": []
  },
  {
   "cell_type": "code",
   "execution_count": null,
   "metadata": {},
   "outputs": [],
   "source": []
  },
  {
   "cell_type": "code",
   "execution_count": null,
   "metadata": {},
   "outputs": [],
   "source": []
  }
 ],
 "metadata": {
  "kernelspec": {
   "display_name": "Python 2",
   "language": "python",
   "name": "python2"
  },
  "language_info": {
   "codemirror_mode": {
    "name": "ipython",
    "version": 2
   },
   "file_extension": ".py",
   "mimetype": "text/x-python",
   "name": "python",
   "nbconvert_exporter": "python",
   "pygments_lexer": "ipython2",
   "version": "2.7.15+"
  }
 },
 "nbformat": 4,
 "nbformat_minor": 1
}
