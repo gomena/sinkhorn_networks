{
 "cells": [
  {
   "cell_type": "code",
   "execution_count": 1,
   "metadata": {},
   "outputs": [],
   "source": [
    "from tensorflow.examples.tutorials.mnist import input_data\n",
    "import tensorflow as tf\n",
    "import numpy as np\n",
    "import optimizer\n",
    "import sinkhorn_ops\n",
    "import matplotlib.pyplot as plt\n",
    "from scipy.misc import imresize\n",
    "from scipy.optimize import linear_sum_assignment\n",
    "\n",
    "%matplotlib inline"
   ]
  },
  {
   "cell_type": "code",
   "execution_count": 2,
   "metadata": {},
   "outputs": [],
   "source": [
    "#Define some ad-hoc merging, splitting and mixing functions\n",
    "\n",
    "\n",
    "def batch_split(batch, n_squares_side, n_channels=1):\n",
    "    \n",
    "    side = int(np.sqrt(batch.shape[1]))\n",
    "    batch_size = batch.shape[0]\n",
    "    n_squares = n_squares_side ** 2\n",
    "    \n",
    "    batch = np.reshape(batch, [-1, side, side, n_channels])\n",
    "    batch = np.reshape(batch, [batch_size, n_squares_side, side/n_squares_side, side, n_channels])\n",
    "    batch = np.transpose(batch, [0, 2, 1, 3, 4])\n",
    "    batch = np.reshape(batch, [batch_size, side/n_squares_side, n_squares, side/n_squares_side, n_channels])\n",
    "    batch = np.transpose(batch, [0, 2, 1, 3, 4])\n",
    "    return batch\n",
    "\n",
    "def stack_batch_split(batch):\n",
    "    return np.reshape(batch, [batch.shape[0]*batch.shape[1], batch.shape[2], batch.shape[3], batch.shape[4]])\n",
    "\n",
    "\n",
    "def unflatten_batch(batch, n_channels=1):\n",
    "    print(np.sqrt(batch.shape[2]/n_channels))\n",
    "    side_square = int(np.sqrt(batch.shape[2]/n_channels))\n",
    "    return np.reshape(batch, [batch.shape[0], batch.shape[1], side_square, side_square, n_channels])\n",
    "\n",
    "def join_batch_split(batch):\n",
    "    batch_size = batch.shape[0]\n",
    "    n_squares = batch.shape[1]\n",
    "    side_quare = batch.shape[2]\n",
    "    n_channels = batch.shape[4]\n",
    "    n_squares_side = int(np.sqrt(n_squares))\n",
    "    batch = np.transpose(batch, [0, 1, 3, 2, 4])\n",
    "    batch = np.reshape(batch, [batch_size, n_squares_side, side_square*n_squares_side, side_square, n_channels])\n",
    "    batch = np.transpose(batch, [0,1, 3,2,4])\n",
    "    batch = np.reshape(batch, [batch_size, 1, side_square*n_squares_side, side_square*n_squares_side, n_channels])\n",
    "    batch = np.reshape(batch, [batch_size, side_square*n_squares_side, side_square*n_squares_side, n_channels])\n",
    "    return batch\n",
    "\n",
    "def resized_dims(n_squares_side):\n",
    "    if(n_squares_side==2):\n",
    "        side = 28\n",
    "        side_square = 14\n",
    "    if(n_squares_side==3):\n",
    "        side = 27\n",
    "        side_square = 9\n",
    "    if(n_squares_side==4):\n",
    "        side = 28\n",
    "        side_square = 7\n",
    "    if(n_squares_side==5):\n",
    "        side = 30\n",
    "        side_square = 6\n",
    "    return side, side_square\n",
    "\n",
    "def resize_batch(batch, side_new):\n",
    "    batch_new = np.zeros((batch.shape[0], side_new **2))\n",
    "    side = int(np.sqrt(batch.shape[1]))\n",
    "    for i in range(batch.shape[0]):\n",
    "        a = imresize(np.reshape(batch[i,:], [side,side]), [side_new, side_new])\n",
    "        a = a.flatten()\n",
    "        a = a/255.0\n",
    "        batch_new[i,:] = a.flatten()\n",
    "    return batch_new\n",
    "\n",
    "\n",
    "def soft_to_hard(soft_perm):\n",
    "    \n",
    "    a,b = linear_sum_assignment(-soft_perm)\n",
    "    ma = np.zeros((np.shape(soft_perm)))\n",
    "    for i in range(soft_perm.shape[0]):\n",
    "        ma[i, b[i]] = 1\n",
    "    return ma\n"
   ]
  },
  {
   "cell_type": "code",
   "execution_count": 3,
   "metadata": {},
   "outputs": [],
   "source": [
    "#Define model params\n",
    "batch_size = 100\n",
    "n_iter = 500\n",
    "samples_per_num = 1\n",
    "n_iter_sinkhorn = 20\n",
    "noise_factor = 1.0\n",
    "keep_prob =1.0\n",
    "opt = 'sgd'\n",
    "n_units = 32\n",
    "temp = 0.1\n",
    "lr = 0.01\n",
    "\n",
    "#mnist data\n",
    "rfield_size = 5\n",
    "n_squares_side = 3\n",
    "n_channels = 1\n",
    "stride = 1\n",
    "n_squares = n_squares_side **2\n",
    "\n",
    "side, side_square = resized_dims(n_squares_side)\n"
   ]
  },
  {
   "cell_type": "code",
   "execution_count": 4,
   "metadata": {},
   "outputs": [],
   "source": [
    "#Main neural network definitions\n",
    "\n",
    "def create_log_alpha():\n",
    "    #create the matrix of log_alpha, that will later will converted into a soft permutation\n",
    "    #this relies on some NN processing (convolutional), see below\n",
    "    fc = tf.contrib.layers.fully_connected\n",
    "    flatten = tf.contrib.layers.flatten\n",
    "    dropout = tf.contrib.layers.dropout\n",
    "    def conv(input_image, kernel_shape, bias_shape):\n",
    "        weights = tf.get_variable(\"weights\", kernel_shape,\n",
    "                                 initializer = tf.random_normal_initializer())\n",
    "        biases = tf.get_variable(\"biases\", bias_shape, \n",
    "                                initializer=tf.constant_initializer(0.0))\n",
    "        convolutional = tf.nn.conv2d(input_image, weights, \n",
    "                                     strides = [1, 1, 1, 1],\n",
    "                                     padding=\"SAME\")\n",
    "        out_relu = tf.nn.relu(convolutional + biases)\n",
    "        out_maxpool =tf.nn.max_pool(out_relu, \n",
    "                                    ksize=[1, stride, stride, 1],\n",
    "                                   strides=[1, stride, stride, 1],\n",
    "                                   padding=\"SAME\")\n",
    "        return out_maxpool\n",
    "    def conv_and_fc(input_image):\n",
    "        with tf.variable_scope(\"conv1\"):\n",
    "            conv_output = conv(input_image, [rfield_size, rfield_size, n_channels, n_units], [n_units])\n",
    "        fully_connected_output = dropout(tf.cast(fc(flatten(conv_output), n_squares, activation_fn = None), tf.float32),\n",
    "                                        keep_prob)\n",
    "        return fully_connected_output\n",
    "    \n",
    "    with tf.variable_scope(\"model_params\"):\n",
    "        log_alpha = tf.reshape(conv_and_fc(stack_scrambled_images_split), [-1, n_squares, n_squares])\n",
    "    return log_alpha"
   ]
  },
  {
   "cell_type": "code",
   "execution_count": 5,
   "metadata": {},
   "outputs": [
    {
     "name": "stdout",
     "output_type": "stream",
     "text": [
      "WARNING:tensorflow:From /home/gomena/.local/lib/python2.7/site-packages/tensorflow/python/framework/op_def_library.py:263: colocate_with (from tensorflow.python.framework.ops) is deprecated and will be removed in a future version.\n",
      "Instructions for updating:\n",
      "Colocations handled automatically by placer.\n",
      "WARNING:tensorflow:From /home/gomena/.local/lib/python2.7/site-packages/tensorflow/contrib/layers/python/layers/layers.py:1624: flatten (from tensorflow.python.layers.core) is deprecated and will be removed in a future version.\n",
      "Instructions for updating:\n",
      "Use keras.layers.flatten instead.\n",
      "WARNING:tensorflow:From /home/gomena/.local/lib/python2.7/site-packages/tensorflow/python/keras/layers/core.py:143: calling dropout (from tensorflow.python.ops.nn_ops) with keep_prob is deprecated and will be removed in a future version.\n",
      "Instructions for updating:\n",
      "Please use `rate` instead of `keep_prob`. Rate should be set to `rate = 1 - keep_prob`.\n",
      "WARNING:tensorflow:From /home/gomena/.local/lib/python2.7/site-packages/tensorflow/python/ops/math_ops.py:3066: to_int32 (from tensorflow.python.ops.math_ops) is deprecated and will be removed in a future version.\n",
      "Instructions for updating:\n",
      "Use tf.cast instead.\n"
     ]
    }
   ],
   "source": [
    "#Now we define the main TF variables\n",
    "\n",
    "scrambled_split = tf.placeholder(tf.float32,[None, n_squares, side_square, side_square, 1])\n",
    "scrambled_split_tiled = tf.tile(scrambled_split, [samples_per_num, 1, 1, 1, 1])\n",
    "\n",
    "stack_scrambled_images_split = tf.placeholder(tf.float32,[None, side_square, side_square, 1])\n",
    "\n",
    "real_split = tf.placeholder(tf.float32,[None, n_squares, side_square, side_square, 1])\n",
    "real_split_tiled = tf.tile(real_split, [samples_per_num, 1, 1, 1, 1])\n",
    "\n",
    "\n",
    "temperature = tf.constant(temp, dtype=tf.float32)\n",
    "global_step = tf.Variable(0, trainable=False)\n",
    "fc = tf.contrib.layers.fully_connected\n",
    "\n",
    "\n",
    "\n",
    "log_alpha = create_log_alpha()\n",
    "(soft_perms_inf, log_alpha_w_noise) = sinkhorn_ops.gumbel_sinkhorn(log_alpha, temp, samples_per_num,\n",
    "                                                                   noise_factor, n_iter_sinkhorn, squeeze=False)\n",
    "\n",
    "inv_soft_perms = tf.transpose(soft_perms_inf, [0, 1, 3, 2])\n",
    "inv_soft_perms_flat = tf.reshape( tf.transpose(inv_soft_perms, [1, 0, 2, 3]), [-1, n_squares, n_squares])\n",
    "\n",
    "real_split_tiled = tf.reshape(real_split_tiled, [-1, n_squares, side_square ** 2 * n_channels])\n",
    "scrambled_split_tiled = tf.reshape(scrambled_split_tiled, [-1, n_squares, side_square ** 2* n_channels])\n",
    "ordered_inf = tf.matmul(inv_soft_perms_flat, scrambled_split_tiled)\n",
    "l2s_diff = tf.reduce_mean(tf.square(real_split_tiled - ordered_inf))\n",
    "opt = optimizer.set_optimizer(opt, lr, opt_eps=1e-8)\n",
    "train_op = tf.contrib.training.create_train_op(l2s_diff, opt, global_step=global_step)\n",
    "\n"
   ]
  },
  {
   "cell_type": "code",
   "execution_count": 6,
   "metadata": {},
   "outputs": [
    {
     "name": "stdout",
     "output_type": "stream",
     "text": [
      "WARNING:tensorflow:From <ipython-input-6-aaec4e35da18>:2: read_data_sets (from tensorflow.contrib.learn.python.learn.datasets.mnist) is deprecated and will be removed in a future version.\n",
      "Instructions for updating:\n",
      "Please use alternatives such as official/mnist/dataset.py from tensorflow/models.\n",
      "WARNING:tensorflow:From /home/gomena/.local/lib/python2.7/site-packages/tensorflow/contrib/learn/python/learn/datasets/mnist.py:260: maybe_download (from tensorflow.contrib.learn.python.learn.datasets.base) is deprecated and will be removed in a future version.\n",
      "Instructions for updating:\n",
      "Please write your own downloading logic.\n",
      "WARNING:tensorflow:From /home/gomena/.local/lib/python2.7/site-packages/tensorflow/contrib/learn/python/learn/datasets/mnist.py:262: extract_images (from tensorflow.contrib.learn.python.learn.datasets.mnist) is deprecated and will be removed in a future version.\n",
      "Instructions for updating:\n",
      "Please use tf.data to implement this functionality.\n",
      "Extracting /tmp/train-images-idx3-ubyte.gz\n",
      "WARNING:tensorflow:From /home/gomena/.local/lib/python2.7/site-packages/tensorflow/contrib/learn/python/learn/datasets/mnist.py:267: extract_labels (from tensorflow.contrib.learn.python.learn.datasets.mnist) is deprecated and will be removed in a future version.\n",
      "Instructions for updating:\n",
      "Please use tf.data to implement this functionality.\n",
      "Extracting /tmp/train-labels-idx1-ubyte.gz\n",
      "WARNING:tensorflow:From /home/gomena/.local/lib/python2.7/site-packages/tensorflow/contrib/learn/python/learn/datasets/mnist.py:110: dense_to_one_hot (from tensorflow.contrib.learn.python.learn.datasets.mnist) is deprecated and will be removed in a future version.\n",
      "Instructions for updating:\n",
      "Please use tf.one_hot on tensors.\n",
      "Extracting /tmp/t10k-images-idx3-ubyte.gz\n",
      "Extracting /tmp/t10k-labels-idx1-ubyte.gz\n",
      "WARNING:tensorflow:From /home/gomena/.local/lib/python2.7/site-packages/tensorflow/contrib/learn/python/learn/datasets/mnist.py:290: __init__ (from tensorflow.contrib.learn.python.learn.datasets.mnist) is deprecated and will be removed in a future version.\n",
      "Instructions for updating:\n",
      "Please use alternatives such as official/mnist/dataset.py from tensorflow/models.\n",
      "Extracting /tmp/train-images-idx3-ubyte.gz\n",
      "Extracting /tmp/train-labels-idx1-ubyte.gz\n",
      "Extracting /tmp/t10k-images-idx3-ubyte.gz\n",
      "Extracting /tmp/t10k-labels-idx1-ubyte.gz\n",
      "WARNING:tensorflow:From /home/gomena/.local/lib/python2.7/site-packages/tensorflow/python/util/tf_should_use.py:193: initialize_all_variables (from tensorflow.python.ops.variables) is deprecated and will be removed after 2017-03-02.\n",
      "Instructions for updating:\n",
      "Use `tf.global_variables_initializer` instead.\n"
     ]
    },
    {
     "name": "stderr",
     "output_type": "stream",
     "text": [
      "/home/gomena/.local/lib/python2.7/site-packages/ipykernel_launcher.py:58: DeprecationWarning: `imresize` is deprecated!\n",
      "`imresize` is deprecated in SciPy 1.0.0, and will be removed in 1.3.0.\n",
      "Use Pillow instead: ``numpy.array(Image.fromarray(arr).resize())``.\n"
     ]
    },
    {
     "name": "stdout",
     "output_type": "stream",
     "text": [
      "Step 1, Loss: 0.1238706\n",
      "Step 51, Loss: 0.0694685\n",
      "Step 101, Loss: 0.0567365\n",
      "Step 151, Loss: 0.0394566\n",
      "Step 201, Loss: 0.0430685\n",
      "Step 251, Loss: 0.0389834\n",
      "Step 301, Loss: 0.0368651\n",
      "Step 351, Loss: 0.0373503\n",
      "Step 401, Loss: 0.0339479\n",
      "Step 451, Loss: 0.0319438\n"
     ]
    }
   ],
   "source": [
    "#Lets train the model\n",
    "data_train = input_data.read_data_sets('/tmp/', one_hot=True).train \n",
    "data_test = input_data.read_data_sets('/tmp/', one_hot=True).test \n",
    "\n",
    "init_op=tf.initialize_all_variables()\n",
    "sess=tf.InteractiveSession()\n",
    "sess.run(init_op)\n",
    "\n",
    "for i in range(n_iter):\n",
    "    np_x,np_y=data_train.next_batch(batch_size)\n",
    "    np_x = resize_batch(np_x, side)\n",
    "\n",
    "    real_images_split = batch_split(np_x, n_squares_side)\n",
    "    scrambled_images_split = np.zeros(real_images_split.shape)\n",
    "    \n",
    "    for j in range(batch_size):\n",
    "        perm = np.random.permutation(n_squares)\n",
    "        scrambled_images_split[j,:, :, :] = real_images_split[j, perm, :, :]\n",
    "    stacked_scrambled_images_split = stack_batch_split(scrambled_images_split)\n",
    "    _,loss=sess.run([train_op,l2s_diff],{real_split:real_images_split,\n",
    "                                         scrambled_split:scrambled_images_split,\n",
    "                                        stack_scrambled_images_split:stacked_scrambled_images_split})\n",
    "    \n",
    "   \n",
    "    if i % 50 == 1:\n",
    "        print('Step %d, Loss: %0.7f' % (i,loss))\n"
   ]
  },
  {
   "cell_type": "code",
   "execution_count": 7,
   "metadata": {},
   "outputs": [
    {
     "name": "stdout",
     "output_type": "stream",
     "text": [
      "9.0\n"
     ]
    },
    {
     "name": "stderr",
     "output_type": "stream",
     "text": [
      "/home/gomena/.local/lib/python2.7/site-packages/ipykernel_launcher.py:58: DeprecationWarning: `imresize` is deprecated!\n",
      "`imresize` is deprecated in SciPy 1.0.0, and will be removed in 1.3.0.\n",
      "Use Pillow instead: ``numpy.array(Image.fromarray(arr).resize())``.\n"
     ]
    }
   ],
   "source": [
    "#Now let's test the model\n",
    "batch_size_test=10\n",
    "np_x,np_y=data_test.next_batch(batch_size_test)\n",
    "np_x = resize_batch(np_x, side)\n",
    "real_images_split = batch_split(np_x, n_squares_side)\n",
    "scrambled_images_split = np.zeros(real_images_split.shape)\n",
    "    \n",
    "for i in range(batch_size_test):\n",
    "    perm = np.random.permutation(n_squares)\n",
    "    scrambled_images_split[i,:, :, :] = real_images_split[i, perm, :, :]\n",
    "stacked_scrambled_images_split = stack_batch_split(scrambled_images_split)\n",
    "[unscrambled_images,loss, inv_soft_perms_np] = sess.run([ordered_inf,l2s_diff, inv_soft_perms],{real_split:real_images_split,\n",
    "                            scrambled_split:scrambled_images_split,\n",
    "                            stack_scrambled_images_split:stacked_scrambled_images_split})\n",
    "unscrambled_images = unscrambled_images[:batch_size_test,:,:]\n",
    "inv_hard_perms= np.zeros((batch_size_test, n_squares, n_squares))\n",
    "for i in range(batch_size_test):\n",
    "    inv_hard_perms[i,:,:] = soft_to_hard(inv_soft_perms_np[i,0,:,:])\n",
    "unflatten_inf = unflatten_batch(unscrambled_images)\n",
    "hard_inf = np.matmul(inv_hard_perms, np.reshape(scrambled_images_split, [batch_size_test,n_squares_side **2 ,-1]))\n",
    "unflatten_hard_inf =np.reshape(hard_inf, unflatten_inf.shape)\n",
    "joined_hard_inf =join_batch_split(unflatten_hard_inf)\n",
    "joined_inf = join_batch_split(unflatten_inf)\n",
    "joined_scrambled = join_batch_split(scrambled_images_split)\n",
    "joined_real = join_batch_split(real_images_split)"
   ]
  },
  {
   "cell_type": "code",
   "execution_count": 8,
   "metadata": {},
   "outputs": [
    {
     "data": {
      "image/png": "[encoded data removed]",
      "text/plain": [
       "<Figure size 1296x2160 with 40 Axes>"
      ]
     },
     "metadata": {
      "needs_background": "light"
     },
     "output_type": "display_data"
    }
   ],
   "source": [
    "#Compare reconstructions with real data\n",
    "fig, ax = plt.subplots(batch_size_test,4,figsize=(18,30))\n",
    "\n",
    "for i in range(batch_size_test):\n",
    "   \n",
    "    ax[i,0].imshow(joined_real[i,:,:,0],cmap='Greys')\n",
    "    ax[i,0].get_xaxis().set_visible(False)\n",
    "    ax[i,0].get_yaxis().set_visible(False)\n",
    "    \n",
    "    ax[i,1].imshow(joined_scrambled[i,:,:,0],cmap='Greys')\n",
    "    ax[i,1].get_xaxis().set_visible(False)\n",
    "    ax[i,1].get_yaxis().set_visible(False)\n",
    "    \n",
    "    ax[i,2].imshow(joined_inf[i,:,:,0],cmap='Greys')\n",
    "    ax[i,2].get_xaxis().set_visible(False)\n",
    "    ax[i,2].get_yaxis().set_visible(False)\n",
    "    \n",
    "    ax[i,2].imshow(joined_inf[i,:,:,0],cmap='Greys')\n",
    "    ax[i,2].get_xaxis().set_visible(False)\n",
    "    ax[i,2].get_yaxis().set_visible(False)\n",
    "   \n",
    "    ax[i,3].imshow(joined_hard_inf[i,:,:,0],cmap='Greys')\n",
    "    ax[i,3].get_xaxis().set_visible(False)\n",
    "    ax[i,3].get_yaxis().set_visible(False)\n",
    "   \n",
    "\n",
    "    if(i==0):\n",
    "        ax[i,0].set_title('Real',fontsize =25)\n",
    "        ax[i,1].set_title('Real Scrambled',fontsize =25)\n",
    "        ax[i,2].set_title('Soft Reconstructed',fontsize =25)\n",
    "        ax[i,3].set_title('Hard Reconstructed',fontsize =25)"
   ]
  },
  {
   "cell_type": "code",
   "execution_count": 9,
   "metadata": {},
   "outputs": [
    {
     "data": {
      "text/plain": [
       "(10, 9, 9, 9, 1)"
      ]
     },
     "execution_count": 9,
     "metadata": {},
     "output_type": "execute_result"
    }
   ],
   "source": [
    "scrambled_images_split.shape"
   ]
  },
  {
   "cell_type": "code",
   "execution_count": 10,
   "metadata": {},
   "outputs": [
    {
     "data": {
      "image/png": "[encoded data removed]",
      "text/plain": [
       "<Figure size 720x360 with 9 Axes>"
      ]
     },
     "metadata": {
      "needs_background": "light"
     },
     "output_type": "display_data"
    }
   ],
   "source": [
    "fix, ax =plt.subplots(3,3,figsize=(10,5))\n",
    "ax=ax.flatten()\n",
    "for i in range(9):\n",
    "    ax[i].imshow(scrambled_images_split[0,i,:,:,0])"
   ]
  },
  {
   "cell_type": "code",
   "execution_count": 11,
   "metadata": {},
   "outputs": [],
   "source": [
    "s=np.reshape(scrambled_images_split, [batch_size_test, n_squares, -1])"
   ]
  },
  {
   "cell_type": "code",
   "execution_count": 12,
   "metadata": {},
   "outputs": [
    {
     "data": {
      "text/plain": [
       "<matplotlib.image.AxesImage at 0x7fd03d85dcd0>"
      ]
     },
     "execution_count": 12,
     "metadata": {},
     "output_type": "execute_result"
    },
    {
     "data": {
      "image/png": "[encoded data removed]",
      "text/plain": [
       "<Figure size 432x288 with 1 Axes>"
      ]
     },
     "metadata": {
      "needs_background": "light"
     },
     "output_type": "display_data"
    }
   ],
   "source": [
    "plt.imshow(joined_scrambled[0,:,:,0])"
   ]
  },
  {
   "cell_type": "code",
   "execution_count": 13,
   "metadata": {},
   "outputs": [
    {
     "data": {
      "text/plain": [
       "<matplotlib.image.AxesImage at 0x7fd03d7e21d0>"
      ]
     },
     "execution_count": 13,
     "metadata": {},
     "output_type": "execute_result"
    },
    {
     "data": {
      "image/png": "[encoded data removed]",
      "text/plain": [
       "<Figure size 432x288 with 1 Axes>"
      ]
     },
     "metadata": {
      "needs_background": "light"
     },
     "output_type": "display_data"
    }
   ],
   "source": [
    "plt.imshow(np.matmul(s, np.transpose(s, [0,2,1]))[0,:,:])"
   ]
  },
  {
   "cell_type": "code",
   "execution_count": 14,
   "metadata": {},
   "outputs": [],
   "source": [
    "def ma_A(n_squares):\n",
    "    A=[]\n",
    "    for k in range(n_squares):\n",
    "        \n",
    "        i = k % int(np.sqrt(n_squares))\n",
    "        j = k / int(np.sqrt(n_squares))\n",
    "        ii = []\n",
    "        jj = []\n",
    "        if(i>0):\n",
    "            ii.append(i-1)\n",
    "        if(i<np.sqrt(n_squares)-1):\n",
    "            ii.append(i+1)\n",
    "        if(j>0):\n",
    "            jj.append(j-1)\n",
    "        if(j<np.sqrt(n_squares)-1):\n",
    "            jj.append(j+1)\n",
    "        for iii in ii:\n",
    "            a = np.zeros(n_squares)\n",
    "            a[k] = 1\n",
    "            kk = iii + int(np.sqrt(n_squares))*j\n",
    "            \n",
    "            a[kk] = -1\n",
    "            A.append(a)\n",
    "        for jjj in jj:\n",
    "            a = np.zeros(n_squares)\n",
    "            a[k] = 1\n",
    "            kk = i + int(np.sqrt(n_squares))*jjj\n",
    "            a[kk] = -1\n",
    "            A.append(a)\n",
    "    return np.array(A)"
   ]
  },
  {
   "cell_type": "code",
   "execution_count": 15,
   "metadata": {},
   "outputs": [],
   "source": [
    "def ma_A_n(n):\n",
    "    A=[]\n",
    "    for k in range(n):\n",
    "        kk=[]\n",
    "        if(k>0):\n",
    "            kk.append(k-1)\n",
    "        if(k<n-1):\n",
    "            kk.append(k+1)\n",
    "        \n",
    "        for kkk in kk:\n",
    "            \n",
    "            a = np.zeros(n)\n",
    "            a[k] = 1\n",
    "            a[kkk] =-1\n",
    "            \n",
    "            A.append(a)\n",
    "    return np.array(A)"
   ]
  },
  {
   "cell_type": "code",
   "execution_count": 16,
   "metadata": {},
   "outputs": [
    {
     "ename": "NameError",
     "evalue": "name 'sinkhorn' is not defined",
     "output_type": "error",
     "traceback": [
      "\u001b[0;31m---------------------------------------------------------------------------\u001b[0m",
      "\u001b[0;31mNameError\u001b[0m                                 Traceback (most recent call last)",
      "\u001b[0;32m<ipython-input-16-734fd35a6600>\u001b[0m in \u001b[0;36m<module>\u001b[0;34m()\u001b[0m\n\u001b[1;32m      4\u001b[0m \u001b[0mtau\u001b[0m\u001b[0;34m=\u001b[0m\u001b[0;36m0.5\u001b[0m\u001b[0;34m\u001b[0m\u001b[0;34m\u001b[0m\u001b[0m\n\u001b[1;32m      5\u001b[0m \u001b[0;32mfor\u001b[0m \u001b[0mp\u001b[0m \u001b[0;32min\u001b[0m \u001b[0mrange\u001b[0m\u001b[0;34m(\u001b[0m\u001b[0;36m50\u001b[0m\u001b[0;34m)\u001b[0m\u001b[0;34m:\u001b[0m\u001b[0;34m\u001b[0m\u001b[0;34m\u001b[0m\u001b[0m\n\u001b[0;32m----> 6\u001b[0;31m     \u001b[0mP\u001b[0m\u001b[0;34m=\u001b[0m\u001b[0msinkhorn\u001b[0m\u001b[0;34m(\u001b[0m\u001b[0mnp\u001b[0m\u001b[0;34m.\u001b[0m\u001b[0mmatmul\u001b[0m\u001b[0;34m(\u001b[0m\u001b[0mAA\u001b[0m\u001b[0;34m,\u001b[0m \u001b[0mnp\u001b[0m\u001b[0;34m.\u001b[0m\u001b[0mmatmul\u001b[0m\u001b[0;34m(\u001b[0m\u001b[0mP\u001b[0m\u001b[0;34m,\u001b[0m \u001b[0mXX\u001b[0m\u001b[0;34m)\u001b[0m\u001b[0;34m)\u001b[0m\u001b[0;34m/\u001b[0m\u001b[0;36m0.1\u001b[0m\u001b[0;34m)\u001b[0m\u001b[0;34m\u001b[0m\u001b[0;34m\u001b[0m\u001b[0m\n\u001b[0m",
      "\u001b[0;31mNameError\u001b[0m: name 'sinkhorn' is not defined"
     ]
    }
   ],
   "source": [
    "AA = np.matmul(ma_A(n_squares).T, ma_A(n_squares))\n",
    "P = np.eye(n_squares)\n",
    "XX = np.matmul(s, np.transpose(s, [0,2,1]))[0,:,:]\n",
    "tau=0.5\n",
    "for p in range(50):\n",
    "    P=sinkhorn(np.matmul(AA, np.matmul(P, XX))/0.1)"
   ]
  },
  {
   "cell_type": "code",
   "execution_count": null,
   "metadata": {},
   "outputs": [],
   "source": []
  },
  {
   "cell_type": "code",
   "execution_count": null,
   "metadata": {},
   "outputs": [],
   "source": [
    "AA = np.matmul(ma_A_n(n).T, ma_A_n(n))\n",
    "P = 1*np.eye(n) \n",
    "P[0,1] = 0.9\n",
    "P[0,0] = 0.1\n",
    "P[1,1] = 0.1 \n",
    "P[1,0] = 0.9\n",
    "print(P)\n",
    "P = sinkhorn(100*P + np.random.normal(0,1,[n,n]))\n",
    "from copy import deepcopy\n",
    "#perm = np.random.choice(n,n, replace=False)\n",
    "s = np.sort(np.random.uniform(0,1, [n,1])*100, axis=0)\n",
    "s2 \n",
    "print(P)\n",
    "XX = np.matmul(s, s.T)/100\n",
    "\n",
    "eps=2\n",
    "print(np.sum(P*np.matmul(AA, np.matmul(P, XX))))\n",
    "tau=1.tau\n",
    "logYt = P*0\n",
    "\n",
    "for p in range(100):\n",
    "    eps =eps*1\n",
    "    tau=tau*1.0\n",
    "    #logYt = logYt -tau*np.matmul(AA, np.matmul(P, XX)) -tau*eps*np.log(P)\n",
    "    logYt = deepcopy(-tau*np.matmul(AA, np.matmul(P, XX))+(1-tau*eps )*np.log(P))\n",
    "\n",
    "    #logYt = -tau*np.matmul(AA, np.matmul(P, XX))\n",
    "    #logYt[np.isnan(logYt)] = 0\n",
    "    \n",
    "    P= deepcopy(sinkhorn(logYt, n_iters=5000))\n",
    "    \n",
    "    print(np.sum(P*np.matmul(AA, np.matmul(P, XX))))\n",
    "\n",
    "print(np.sum(P,1))\n",
    "print(s)\n",
    "print(P)\n",
    "\n",
    "print(np.sum(P*np.matmul(AA, np.matmul(P, XX))))\n",
    "#print(np.matmul(AA, np.matmul(P0, XX)))\n",
    "print(np.sum(np.diff(s,axis=0)**2)*2)/100\n"
   ]
  },
  {
   "cell_type": "code",
   "execution_count": 61,
   "metadata": {},
   "outputs": [],
   "source": [
    "n = 100\n",
    "np.random.seed(10)\n"
   ]
  },
  {
   "cell_type": "code",
   "execution_count": 63,
   "metadata": {},
   "outputs": [
    {
     "name": "stdout",
     "output_type": "stream",
     "text": [
      "[[1. 0. 0. ... 0. 0. 0.]\n",
      " [0. 1. 0. ... 0. 0. 0.]\n",
      " [0. 0. 1. ... 0. 0. 0.]\n",
      " ...\n",
      " [0. 0. 0. ... 1. 0. 0.]\n",
      " [0. 0. 0. ... 0. 1. 0.]\n",
      " [0. 0. 0. ... 0. 0. 1.]]\n",
      "[[1.00000000e+00 4.95584981e-44 3.81724925e-44 ... 4.95025535e-44\n",
      "  6.12179153e-44 1.76223891e-44]\n",
      " [3.31895462e-43 1.00000000e+00 5.24809288e-44 ... 1.83469503e-44\n",
      "  3.49672094e-44 1.65970176e-44]\n",
      " [6.91094249e-45 7.00308993e-44 1.00000000e+00 ... 1.03167763e-43\n",
      "  5.55939569e-45 4.16417293e-44]\n",
      " ...\n",
      " [1.24281847e-43 1.46459319e-43 1.70405975e-44 ... 1.00000000e+00\n",
      "  7.74987689e-44 3.72550920e-44]\n",
      " [8.93737911e-44 1.35455234e-43 9.99794869e-44 ... 8.42470021e-44\n",
      "  1.00000000e+00 1.94827686e-44]\n",
      " [4.72786056e-44 2.13869606e-45 1.85371395e-43 ... 1.44219319e-44\n",
      "  4.45428213e-44 1.00000000e+00]]\n",
      "(100, 100)\n",
      "(100, 100)\n",
      "[27.33750559207423, 0.36964923057676174]\n",
      "[30.167527475907, 0.04471121135382593]\n",
      "[30.249730381745394, 0.041765513069685734]\n",
      "[30.251725606460592, 0.04169755820084476]\n",
      "[30.251773839658778, 0.041695927778289926]\n",
      "[30.251775005936125, 0.04169588862665751]\n",
      "[30.251775034139836, 0.041695887685935976]\n",
      "[30.251775034821893, 0.04169588766331515]\n",
      "[30.251775034838396, 0.04169588766277078]\n",
      "[30.251775034838793, 0.04169588766275751]\n",
      "[30.251775034838804, 0.04169588766275737]\n",
      "[30.2517750348388, 0.0416958876627575]\n",
      "[30.2517750348388, 0.04169588766275739]\n",
      "[30.2517750348388, 0.041695887662757454]\n",
      "[30.251775034838804, 0.04169588766275736]\n",
      "[30.2517750348388, 0.0416958876627575]\n",
      "[30.251775034838804, 0.04169588766275743]\n",
      "[30.2517750348388, 0.04169588766275741]\n",
      "[30.2517750348388, 0.041695887662757336]\n",
      "[30.2517750348388, 0.041695887662757454]\n",
      "[30.2517750348388, 0.0416958876627574]\n",
      "[30.2517750348388, 0.04169588766275743]\n",
      "[30.2517750348388, 0.04169588766275737]\n",
      "[30.2517750348388, 0.04169588766275745]\n",
      "[30.251775034838804, 0.04169588766275742]\n",
      "[30.2517750348388, 0.04169588766275747]\n",
      "[30.2517750348388, 0.041695887662757475]\n",
      "[30.2517750348388, 0.04169588766275736]\n",
      "[30.2517750348388, 0.041695887662757454]\n",
      "[30.2517750348388, 0.041695887662757385]\n",
      "[30.251775034838797, 0.04169588766275746]\n",
      "[30.2517750348388, 0.04169588766275747]\n",
      "[30.2517750348388, 0.041695887662757544]\n",
      "[30.2517750348388, 0.041695887662757426]\n",
      "[30.251775034838804, 0.04169588766275747]\n",
      "[30.2517750348388, 0.041695887662757516]\n",
      "[30.2517750348388, 0.04169588766275758]\n",
      "[30.2517750348388, 0.04169588766275746]\n",
      "[30.2517750348388, 0.04169588766275753]\n",
      "[30.251775034838804, 0.04169588766275727]\n",
      "[30.2517750348388, 0.041695887662757336]\n",
      "[30.2517750348388, 0.04169588766275751]\n",
      "[30.2517750348388, 0.04169588766275735]\n",
      "[30.2517750348388, 0.04169588766275744]\n",
      "[30.251775034838804, 0.04169588766275744]\n",
      "[30.251775034838808, 0.04169588766275738]\n",
      "[30.2517750348388, 0.04169588766275755]\n",
      "[30.2517750348388, 0.041695887662757496]\n",
      "[30.2517750348388, 0.04169588766275754]\n",
      "[30.2517750348388, 0.04169588766275738]\n",
      "[30.2517750348388, 0.04169588766275726]\n",
      "[30.2517750348388, 0.041695887662757405]\n",
      "[30.251775034838804, 0.041695887662757475]\n",
      "[30.2517750348388, 0.04169588766275742]\n",
      "[30.2517750348388, 0.04169588766275742]\n",
      "[30.251775034838804, 0.04169588766275746]\n",
      "[30.2517750348388, 0.04169588766275749]\n",
      "[30.251775034838808, 0.041695887662757315]\n",
      "[30.2517750348388, 0.041695887662757426]\n",
      "[30.2517750348388, 0.041695887662757454]\n",
      "[30.2517750348388, 0.0416958876627575]\n",
      "[30.2517750348388, 0.041695887662757475]\n",
      "[30.2517750348388, 0.0416958876627574]\n",
      "[30.251775034838804, 0.041695887662757405]\n",
      "[30.251775034838797, 0.04169588766275745]\n",
      "[30.2517750348388, 0.041695887662757516]\n",
      "[30.251775034838804, 0.041695887662757385]\n",
      "[30.2517750348388, 0.041695887662757336]\n",
      "[30.2517750348388, 0.04169588766275756]\n",
      "[30.251775034838804, 0.041695887662757426]\n",
      "[30.2517750348388, 0.04169588766275749]\n",
      "[30.2517750348388, 0.041695887662757385]\n",
      "[30.2517750348388, 0.04169588766275743]\n",
      "[30.251775034838804, 0.04169588766275744]\n",
      "[30.2517750348388, 0.04169588766275744]\n",
      "[30.251775034838804, 0.041695887662757385]\n",
      "[30.251775034838804, 0.04169588766275734]\n",
      "[30.2517750348388, 0.04169588766275753]\n",
      "[30.2517750348388, 0.04169588766275744]\n",
      "[30.2517750348388, 0.04169588766275742]\n",
      "[30.251775034838804, 0.04169588766275743]\n",
      "[30.251775034838804, 0.041695887662757496]\n",
      "[30.2517750348388, 0.041695887662757426]\n",
      "[30.2517750348388, 0.04169588766275756]\n",
      "[30.2517750348388, 0.04169588766275754]\n",
      "[30.2517750348388, 0.04169588766275745]\n",
      "[30.2517750348388, 0.041695887662757385]\n",
      "[30.2517750348388, 0.04169588766275736]\n",
      "[30.2517750348388, 0.04169588766275742]\n",
      "[30.251775034838804, 0.04169588766275748]\n",
      "[30.2517750348388, 0.04169588766275751]\n",
      "[30.2517750348388, 0.04169588766275737]\n",
      "[30.2517750348388, 0.04169588766275748]\n",
      "[30.2517750348388, 0.04169588766275739]\n",
      "[30.251775034838804, 0.04169588766275735]\n",
      "[30.251775034838804, 0.04169588766275736]\n",
      "[30.2517750348388, 0.041695887662757405]\n",
      "[30.2517750348388, 0.04169588766275737]\n",
      "[30.2517750348388, 0.04169588766275738]\n",
      "[30.2517750348388, 0.041695887662757426]\n",
      "0.27594997581342134\n"
     ]
    }
   ],
   "source": [
    "P = 1*np.eye(n) \n",
    "\n",
    "print(P)\n",
    "P = sinkhorn(100*P + np.random.normal(0,1,[n,n]))\n",
    "from copy import deepcopy\n",
    "#perm = np.random.choice(n,n, replace=False)\n",
    "s = np.random.uniform(0,1, [n])\n",
    "ds = (s[:,np.newaxis] - s[np.newaxis,:])**2\n",
    "s2 = np.sort(s)\n",
    "ds2 = (s2[:,np.newaxis] - s2[np.newaxis,:])**2\n",
    "print(P)\n",
    "print(ds2.shape)\n",
    "print(ds.shape)\n",
    "eps=0.5\n",
    "tau=1./eps\n",
    "logYt = P*0\n",
    "\n",
    "for p in range(100):\n",
    "    eps =eps*1.0\n",
    "    tau=tau/1.0\n",
    "    #logYt = deepcopy(tau*np.matmul(ds, np.matmul(P, ds2))+(1-tau*eps )*np.log(P))\n",
    "    ab= np.matmul(ds, np.matmul(P, ds2))\n",
    "    a2 = np.tile(np.nansum(ds **2, axis=1, keepdims=True), [1, n])\n",
    "    b2 = np.tile(np.nansum(ds2 **2, axis=1, keepdims=True), [1, n]).T\n",
    "\n",
    "    logYt = -tau* (a2+b2 - 2 *ab)\n",
    "    \n",
    "    P= deepcopy(sinkhorn(logYt, n_iters=50))\n",
    "    a=np.sum((np.matmul(P.T,s)-s2)**2)\n",
    "    b = np.sum((np.matmul(P.T,s)+np.sort(-s2))**2)\n",
    "    print([a,b])\n",
    "\n",
    "#print(np.matmul(AA, np.matmul(P0, XX)))\n",
    "print(np.sum(np.diff(s,axis=0)**2)*2)/100\n"
   ]
  },
  {
   "cell_type": "code",
   "execution_count": 50,
   "metadata": {},
   "outputs": [
    {
     "name": "stdout",
     "output_type": "stream",
     "text": [
      "[0.45649549 0.37737219 0.92605973 0.16038416 0.92331326 0.98586433\n",
      " 0.03340832 0.39514351 0.02085545 0.95976931 0.13456971 0.02830328\n",
      " 0.1856555  0.00713556 0.5813029  0.03914317 0.32958371 0.24748686\n",
      " 0.20775306 0.92340363 0.00813408 0.47503825 0.47315051 0.32506145\n",
      " 0.80236962 0.2932498  0.11909163 0.90652986 0.56650973 0.36196373\n",
      " 0.57705577 0.75255869 0.60172526 0.30220567 0.98584292 0.0320433\n",
      " 0.31439194 0.83454767 0.63455559 0.22049273 0.31853774 0.98081875\n",
      " 0.13680965 0.81599549 0.11422811 0.69358765 0.96095272 0.68045171\n",
      " 0.1064331  0.37351714 0.53410549 0.33852761 0.11006575 0.71313431\n",
      " 0.14650152 0.44672507 0.69268483 0.68872757 0.6140423  0.45241348\n",
      " 0.54961537 0.2037632  0.95147832 0.81834988 0.43883214 0.86548792\n",
      " 0.09340932 0.97187375 0.5139887  0.94025177 0.10183331 0.25849282\n",
      " 0.12876607 0.90934337 0.02265287 0.78127659 0.17608896 0.65410183\n",
      " 0.82764991 0.99223275 0.88122656 0.09247394 0.34341778 0.03936014\n",
      " 0.32466617 0.00616611 0.92851351 0.98850595 0.12734349 0.20403377\n",
      " 0.92989642 0.11858043 0.2224016  0.07929714 0.39883336 0.7625076\n",
      " 0.780122   0.29571006 0.53522467 0.95854655]\n",
      "[0.03155612 0.03195551 0.03237674 0.03870068 0.03974891 0.04331193\n",
      " 0.04589775 0.04688683 0.05130299 0.05147817 0.09014237 0.10330143\n",
      " 0.10420833 0.11220024 0.11644022 0.11973732 0.12347135 0.12734122\n",
      " 0.12779425 0.13509991 0.13636335 0.14155414 0.1435792  0.15254556\n",
      " 0.1661763  0.18297066 0.1939264  0.21587947 0.21621637 0.22086462\n",
      " 0.2369114  0.23931489 0.26998784 0.2825158  0.31733118 0.31955768\n",
      " 0.32532855 0.33583938 0.33935565 0.34452896 0.3448622  0.34867598\n",
      " 0.35625646 0.36044355 0.37678472 0.38743957 0.39108456 0.40845193\n",
      " 0.41216467 0.45383202 0.46215812 0.46813881 0.47241448 0.48965901\n",
      " 0.49158897 0.53007405 0.54903145 0.55007264 0.56337614 0.57888806\n",
      " 0.58857186 0.59247906 0.61135264 0.62279875 0.64190246 0.66009152\n",
      " 0.68466718 0.69243589 0.69616052 0.69701103 0.71543402 0.75092834\n",
      " 0.75910536 0.77278676 0.77365791 0.78953782 0.80035723 0.80231943\n",
      " 0.81040482 0.81676583 0.8477772  0.8628922  0.88285722 0.88473423\n",
      " 0.89323949 0.89329064 0.89477457 0.89611358 0.8968554  0.90214531\n",
      " 0.90741598 0.91050907 0.9110268  0.91152298 0.91587142 0.9191135\n",
      " 0.92080396 0.92081096 0.92166132 0.92281602]\n",
      "[0.47063092 0.49624685 0.43572264 0.40405645 0.43647845 0.49702157\n",
      " 0.45424852 0.48868773 0.47775441 0.45777848 0.36644344 0.46427006\n",
      " 0.44545557 0.49869054 0.55214645 0.44237047 0.51186823 0.51062237\n",
      " 0.47709456 0.43644601 0.49733865 0.4726077  0.47218757 0.51287624\n",
      " 0.51643488 0.51743465 0.35159902 0.45165571 0.53880856 0.50221883\n",
      " 0.54842695 0.49725858 0.56807435 0.51664231 0.4969865  0.45698438\n",
      " 0.51491885 0.54553371 0.58283362 0.49138832 0.51418186 0.48882712\n",
      " 0.36919918 0.53102146 0.34877265 0.55719682 0.45931251 0.56907443\n",
      " 0.34646987 0.49780891 0.50856846 0.50962807 0.34718358 0.53534009\n",
      " 0.38244714 0.4714052  0.55810501 0.56193662 0.57550935 0.47081266\n",
      " 0.52287002 0.47196186 0.44809976 0.53339285 0.47282784 0.52987552\n",
      " 0.34955398 0.47482652 0.49206072 0.43881178 0.34652204 0.51458767\n",
      " 0.35995298 0.44785955 0.47463234 0.49825171 0.42997917 0.58247512\n",
      " 0.5414878  0.50751925 0.50050388 0.3501323  0.50826472 0.44191056\n",
      " 0.51296035 0.49997802 0.43544191 0.50136196 0.35851898 0.47231916\n",
      " 0.43544299 0.35125545 0.49324099 0.36339191 0.48709302 0.49401893\n",
      " 0.4976114  0.51726173 0.50956857 0.45622988]\n",
      "[0.00616611 0.00713556 0.00813408 0.02085545 0.02265287 0.02830328\n",
      " 0.0320433  0.03340832 0.03914317 0.03936014 0.07929714 0.09247394\n",
      " 0.09340932 0.10183331 0.1064331  0.11006575 0.11422811 0.11858043\n",
      " 0.11909163 0.12734349 0.12876607 0.13456971 0.13680965 0.14650152\n",
      " 0.16038416 0.17608896 0.1856555  0.2037632  0.20403377 0.20775306\n",
      " 0.22049273 0.2224016  0.24748686 0.25849282 0.2932498  0.29571006\n",
      " 0.30220567 0.31439194 0.31853774 0.32466617 0.32506145 0.32958371\n",
      " 0.33852761 0.34341778 0.36196373 0.37351714 0.37737219 0.39514351\n",
      " 0.39883336 0.43883214 0.44672507 0.45241348 0.45649549 0.47315051\n",
      " 0.47503825 0.5139887  0.53410549 0.53522467 0.54961537 0.56650973\n",
      " 0.57705577 0.5813029  0.60172526 0.6140423  0.63455559 0.65410183\n",
      " 0.68045171 0.68872757 0.69268483 0.69358765 0.71313431 0.75255869\n",
      " 0.7625076  0.780122   0.78127659 0.80236962 0.81599549 0.81834988\n",
      " 0.82764991 0.83454767 0.86548792 0.88122656 0.90652986 0.90934337\n",
      " 0.92331326 0.92340363 0.92605973 0.92851351 0.92989642 0.94025177\n",
      " 0.95147832 0.95854655 0.95976931 0.96095272 0.97187375 0.98081875\n",
      " 0.98584292 0.98586433 0.98850595 0.99223275]\n",
      "[[6.84756079e-13 2.54867155e-10 1.44290185e-31 ... 1.16552762e-07\n",
      "  1.89339691e-15 8.21593973e-34]\n",
      " [7.87408433e-13 2.88391227e-10 1.66492051e-31 ... 1.29101258e-07\n",
      "  2.20260341e-15 9.42721491e-34]\n",
      " [9.08933901e-13 3.27424999e-10 1.92899854e-31 ... 1.43393763e-07\n",
      "  2.57306547e-15 1.08599728e-33]\n",
      " ...\n",
      " [9.55383265e-19 1.12105617e-21 2.62660437e-02 ... 1.43790849e-24\n",
      "  1.03472538e-15 5.76077892e-02]\n",
      " [5.87270440e-19 6.72510952e-22 2.47565656e-02 ... 8.53361280e-25\n",
      "  6.60609108e-16 5.69368865e-02]\n",
      " [2.94226111e-19 3.25568909e-22 2.27122528e-02 ... 4.06988205e-25\n",
      "  3.49156859e-16 5.58694700e-02]]\n",
      "7.703719777548943e-30\n",
      "[ 0.02539001  0.02481995  0.02424266  0.01784523  0.01709605  0.01500865\n",
      "  0.01385445  0.01347851  0.01215981  0.01211803  0.01084524  0.01082749\n",
      "  0.01079901  0.01036693  0.01000712  0.00967157  0.00924325  0.00876078\n",
      "  0.00870262  0.00775642  0.00759728  0.00698444  0.00676955  0.00604404\n",
      "  0.00579214  0.0068817   0.0082709   0.01211627  0.0121826   0.01311156\n",
      "  0.01641867  0.01691329  0.02250099  0.02402298  0.02408138  0.02384762\n",
      "  0.02312288  0.02144745  0.02081791  0.01986278  0.01980075  0.01909228\n",
      "  0.01772885  0.01702576  0.01482099  0.01392243  0.01371238  0.01330842\n",
      "  0.0133313   0.01499988  0.01543305  0.01572533  0.01591899  0.0165085\n",
      "  0.01655072  0.01608535  0.01492596  0.01484798  0.01376077  0.01237834\n",
      "  0.01151609  0.01117616  0.00962738  0.00875645  0.00734688  0.0059897\n",
      "  0.00421547  0.00370832  0.0034757   0.00342339  0.00229971 -0.00163035\n",
      " -0.00340224 -0.00733525 -0.00761868 -0.0128318  -0.01563826 -0.01603045\n",
      " -0.01724509 -0.01778184 -0.01771073 -0.01833436 -0.02367264 -0.02460914\n",
      " -0.03007376 -0.03011299 -0.03128516 -0.03239994 -0.03304101 -0.03810646\n",
      " -0.04406233 -0.04803749 -0.04874251 -0.04942974 -0.05600233 -0.06170525\n",
      " -0.06503896 -0.06505337 -0.06684462 -0.06941672]\n",
      "[0.03155612 0.03195551 0.03237674 0.03870068 0.03974891 0.04331193\n",
      " 0.04589775 0.04688683 0.05130299 0.05147817 0.09014237 0.10330143\n",
      " 0.10420833 0.11220024 0.11644022 0.11973732 0.12347135 0.12734122\n",
      " 0.12779425 0.13509991 0.13636335 0.14155414 0.1435792  0.15254556\n",
      " 0.1661763  0.18297066 0.1939264  0.21587947 0.21621637 0.22086462\n",
      " 0.2369114  0.23931489 0.26998784 0.2825158  0.31733118 0.31955768\n",
      " 0.32532855 0.33583938 0.33935565 0.34452896 0.3448622  0.34867598\n",
      " 0.35625646 0.36044355 0.37678472 0.38743957 0.39108456 0.40845193\n",
      " 0.41216467 0.45383202 0.46215812 0.46813881 0.47241448 0.48965901\n",
      " 0.49158897 0.53007405 0.54903145 0.55007264 0.56337614 0.57888806\n",
      " 0.58857186 0.59247906 0.61135264 0.62279875 0.64190246 0.66009152\n",
      " 0.68466718 0.69243589 0.69616052 0.69701103 0.71543402 0.75092834\n",
      " 0.75910536 0.77278676 0.77365791 0.78953782 0.80035723 0.80231943\n",
      " 0.81040482 0.81676583 0.8477772  0.8628922  0.88285722 0.88473423\n",
      " 0.89323949 0.89329064 0.89477457 0.89611358 0.8968554  0.90214531\n",
      " 0.90741598 0.91050907 0.9110268  0.91152298 0.91587142 0.9191135\n",
      " 0.92080396 0.92081096 0.92166132 0.92281602]\n"
     ]
    },
    {
     "data": {
      "image/png": "[encoded data removed]",
      "text/plain": [
       "<Figure size 432x288 with 1 Axes>"
      ]
     },
     "metadata": {
      "needs_background": "light"
     },
     "output_type": "display_data"
    }
   ],
   "source": [
    "print(s)\n",
    "print(np.matmul(P,s))\n",
    "print(np.matmul(P.T,s))\n",
    "\n",
    "print(s2)\n",
    "print(P)\n",
    "plt.scatter(s2,np.matmul(P,s))\n",
    "print(np.sum(np.matmul(P,s)-s2)**2)\n",
    "print(np.matmul(P,s)-s2)\n",
    "print(np.matmul(P,s))"
   ]
  },
  {
   "cell_type": "code",
   "execution_count": 59,
   "metadata": {},
   "outputs": [],
   "source": [
    "from scipy.special import logsumexp\n",
    "def sinkhorn(log_alpha, n_iters=20):\n",
    "\n",
    "    for _ in range(n_iters):\n",
    "        log_alpha -= logsumexp(log_alpha, axis=1, keepdims=True)\n",
    "        log_alpha -= logsumexp(log_alpha, axis=0, keepdims=True)\n",
    "    return np.exp(log_alpha)"
   ]
  },
  {
   "cell_type": "code",
   "execution_count": 226,
   "metadata": {},
   "outputs": [
    {
     "name": "stderr",
     "output_type": "stream",
     "text": [
      "/home/gomena/.local/lib/python2.7/site-packages/ipykernel_launcher.py:58: DeprecationWarning: `imresize` is deprecated!\n",
      "`imresize` is deprecated in SciPy 1.0.0, and will be removed in 1.3.0.\n",
      "Use Pillow instead: ``numpy.array(Image.fromarray(arr).resize())``.\n"
     ]
    }
   ],
   "source": [
    "batch_size_test=10\n",
    "np_x,np_y=data_test.next_batch(batch_size_test)\n",
    "np_x = resize_batch(np_x, side)\n",
    "real_images_split = batch_split(np_x, n_squares_side)\n",
    "scrambled_images_split = np.zeros(real_images_split.shape)\n",
    "perms =[]    \n",
    "Ps = np.zeros((batch_size_test, n_squares, n_squares))\n",
    "for i in range(batch_size_test):\n",
    "    perm = np.random.permutation(n_squares)\n",
    "    perm = np.arange(n_squares)\n",
    "    perm[0]=1\n",
    "    perm[1]=0\n",
    "    perm[7]=6\n",
    "    perm[6]=7\n",
    "    perm[4]=3\n",
    "    perm[3]=4\n",
    "    for k in range(n_squares):\n",
    "        Ps[i,k,perm[k]] =1\n",
    "    perms.append(perm)\n",
    "    scrambled_images_split[i,:, :, :] = real_images_split[i, perm, :, :]\n",
    "stacked_scrambled_images_split = stack_batch_split(scrambled_images_split)\n"
   ]
  },
  {
   "cell_type": "code",
   "execution_count": 229,
   "metadata": {},
   "outputs": [
    {
     "name": "stdout",
     "output_type": "stream",
     "text": [
      "(10, 9, 9, 9, 1)\n",
      "[1 0 2 4 3 5 7 6 8]\n",
      "122.49823913879277\n",
      "[35.58065359477125, 179.96570549788547]\n",
      "[6.239863174928548, 44.673870482120094]\n",
      "[1.7669819300270302e-06, 4.3516186082280886e-05]\n",
      "[1.2010173891069191e-34, 1.1067829725408898e-32]\n",
      "[1.0129254271136496e-34, 9.334491118540266e-33]\n",
      "[1.0129254271136496e-34, 9.334491118540266e-33]\n",
      "[1.0129254271136496e-34, 9.334491118540266e-33]\n",
      "[1.0129254271136496e-34, 9.334491118540266e-33]\n",
      "[1.0129254271136496e-34, 9.334491118540266e-33]\n",
      "[1.0129254271136496e-34, 9.334491118540266e-33]\n",
      "[1.0129254271136496e-34, 9.334491118540266e-33]\n",
      "[1.0129254271136496e-34, 9.334491118540266e-33]\n",
      "[1.0129254271136496e-34, 9.334491118540266e-33]\n",
      "[1.0129254271136496e-34, 9.334491118540266e-33]\n",
      "[1.0129254271136496e-34, 9.334491118540266e-33]\n",
      "[1.0129254271136496e-34, 9.334491118540266e-33]\n",
      "[1.0129254271136496e-34, 9.334491118540266e-33]\n",
      "[1.0129254271136496e-34, 9.334491118540266e-33]\n",
      "[1.0129254271136496e-34, 9.334491118540266e-33]\n",
      "[1.0129254271136496e-34, 9.334491118540266e-33]\n",
      "[1.0129254271136496e-34, 9.334491118540266e-33]\n",
      "[1.0129254271136496e-34, 9.334491118540266e-33]\n",
      "[1.0129254271136496e-34, 9.334491118540266e-33]\n",
      "[1.0129254271136496e-34, 9.334491118540266e-33]\n",
      "[1.0129254271136496e-34, 9.334491118540266e-33]\n",
      "[1.0129254271136496e-34, 9.334491118540266e-33]\n",
      "[1.0129254271136496e-34, 9.334491118540266e-33]\n",
      "[1.0129254271136496e-34, 9.334491118540266e-33]\n",
      "[1.0129254271136496e-34, 9.334491118540266e-33]\n",
      "[1.0129254271136496e-34, 9.334491118540266e-33]\n",
      "[1.0129254271136496e-34, 9.334491118540266e-33]\n",
      "[1.0129254271136496e-34, 9.334491118540266e-33]\n",
      "[1.0129254271136496e-34, 9.334491118540266e-33]\n",
      "[1.0129254271136496e-34, 9.334491118540266e-33]\n",
      "[1.0129254271136496e-34, 9.334491118540266e-33]\n",
      "[1.0129254271136496e-34, 9.334491118540266e-33]\n",
      "[1.0129254271136496e-34, 9.334491118540266e-33]\n",
      "[1.0129254271136496e-34, 9.334491118540266e-33]\n",
      "[1.0129254271136496e-34, 9.334491118540266e-33]\n",
      "[1.0129254271136496e-34, 9.334491118540266e-33]\n",
      "[1.0129254271136496e-34, 9.334491118540266e-33]\n",
      "[1.0129254271136496e-34, 9.334491118540266e-33]\n",
      "[1.0129254271136496e-34, 9.334491118540266e-33]\n",
      "[1.0129254271136496e-34, 9.334491118540266e-33]\n",
      "[1.0129254271136496e-34, 9.334491118540266e-33]\n",
      "[1.0129254271136496e-34, 9.334491118540266e-33]\n",
      "[1.0129254271136496e-34, 9.334491118540266e-33]\n",
      "[1.0129254271136496e-34, 9.334491118540266e-33]\n",
      "[1.0129254271136496e-34, 9.334491118540266e-33]\n",
      "[1.0129254271136496e-34, 9.334491118540266e-33]\n",
      "[1.0129254271136496e-34, 9.334491118540266e-33]\n",
      "[1.0129254271136496e-34, 9.334491118540266e-33]\n",
      "[1.0129254271136496e-34, 9.334491118540266e-33]\n",
      "[1.0129254271136496e-34, 9.334491118540266e-33]\n",
      "[1.0129254271136496e-34, 9.334491118540266e-33]\n",
      "[1.0129254271136496e-34, 9.334491118540266e-33]\n",
      "[1.0129254271136496e-34, 9.334491118540266e-33]\n",
      "[1.0129254271136496e-34, 9.334491118540266e-33]\n",
      "[1.0129254271136496e-34, 9.334491118540266e-33]\n",
      "[1.0129254271136496e-34, 9.334491118540266e-33]\n",
      "[1.0129254271136496e-34, 9.334491118540266e-33]\n",
      "[1.0129254271136496e-34, 9.334491118540266e-33]\n",
      "[1.0129254271136496e-34, 9.334491118540266e-33]\n",
      "[1.0129254271136496e-34, 9.334491118540266e-33]\n",
      "[1.0129254271136496e-34, 9.334491118540266e-33]\n",
      "[1.0129254271136496e-34, 9.334491118540266e-33]\n",
      "[1.0129254271136496e-34, 9.334491118540266e-33]\n",
      "[1.0129254271136496e-34, 9.334491118540266e-33]\n",
      "[1.0129254271136496e-34, 9.334491118540266e-33]\n",
      "[1.0129254271136496e-34, 9.334491118540266e-33]\n",
      "[1.0129254271136496e-34, 9.334491118540266e-33]\n",
      "[1.0129254271136496e-34, 9.334491118540266e-33]\n",
      "[1.0129254271136496e-34, 9.334491118540266e-33]\n",
      "[1.0129254271136496e-34, 9.334491118540266e-33]\n",
      "[1.0129254271136496e-34, 9.334491118540266e-33]\n",
      "[1.0129254271136496e-34, 9.334491118540266e-33]\n",
      "[1.0129254271136496e-34, 9.334491118540266e-33]\n",
      "[1.0129254271136496e-34, 9.334491118540266e-33]\n",
      "[1.0129254271136496e-34, 9.334491118540266e-33]\n",
      "[1.0129254271136496e-34, 9.334491118540266e-33]\n",
      "[1.0129254271136496e-34, 9.334491118540266e-33]\n",
      "[1.0129254271136496e-34, 9.334491118540266e-33]\n",
      "[1.0129254271136496e-34, 9.334491118540266e-33]\n",
      "[1.0129254271136496e-34, 9.334491118540266e-33]\n",
      "[1.0129254271136496e-34, 9.334491118540266e-33]\n",
      "[1.0129254271136496e-34, 9.334491118540266e-33]\n",
      "[1.0129254271136496e-34, 9.334491118540266e-33]\n",
      "[1.0129254271136496e-34, 9.334491118540266e-33]\n",
      "[1.0129254271136496e-34, 9.334491118540266e-33]\n",
      "[1.0129254271136496e-34, 9.334491118540266e-33]\n",
      "[1.0129254271136496e-34, 9.334491118540266e-33]\n",
      "[1.0129254271136496e-34, 9.334491118540266e-33]\n",
      "[1.0129254271136496e-34, 9.334491118540266e-33]\n",
      "[1.0129254271136496e-34, 9.334491118540266e-33]\n",
      "[1.0129254271136496e-34, 9.334491118540266e-33]\n",
      "[1.0129254271136496e-34, 9.334491118540266e-33]\n",
      "[1.0129254271136496e-34, 9.334491118540266e-33]\n",
      "[1.0129254271136496e-34, 9.334491118540266e-33]\n",
      "[1.0129254271136496e-34, 9.334491118540266e-33]\n",
      "[1.0129254271136496e-34, 9.334491118540266e-33]\n",
      "[[0.00000000e+000 1.00000000e+000 0.00000000e+000 0.00000000e+000\n",
      "  0.00000000e+000 0.00000000e+000 0.00000000e+000 0.00000000e+000\n",
      "  0.00000000e+000]\n",
      " [1.00000000e+000 0.00000000e+000 0.00000000e+000 0.00000000e+000\n",
      "  0.00000000e+000 0.00000000e+000 0.00000000e+000 0.00000000e+000\n",
      "  0.00000000e+000]\n",
      " [0.00000000e+000 0.00000000e+000 1.00000000e+000 2.10313420e-017\n",
      "  0.00000000e+000 9.05703465e-233 0.00000000e+000 0.00000000e+000\n",
      "  0.00000000e+000]\n",
      " [0.00000000e+000 0.00000000e+000 0.00000000e+000 0.00000000e+000\n",
      "  1.00000000e+000 0.00000000e+000 0.00000000e+000 0.00000000e+000\n",
      "  0.00000000e+000]\n",
      " [0.00000000e+000 0.00000000e+000 2.10313420e-017 1.00000000e+000\n",
      "  0.00000000e+000 7.72167647e-218 0.00000000e+000 0.00000000e+000\n",
      "  0.00000000e+000]\n",
      " [0.00000000e+000 0.00000000e+000 9.05703465e-233 7.72167647e-218\n",
      "  0.00000000e+000 1.00000000e+000 0.00000000e+000 0.00000000e+000\n",
      "  0.00000000e+000]\n",
      " [0.00000000e+000 0.00000000e+000 0.00000000e+000 0.00000000e+000\n",
      "  0.00000000e+000 0.00000000e+000 0.00000000e+000 1.00000000e+000\n",
      "  0.00000000e+000]\n",
      " [0.00000000e+000 0.00000000e+000 0.00000000e+000 0.00000000e+000\n",
      "  0.00000000e+000 0.00000000e+000 1.00000000e+000 0.00000000e+000\n",
      "  0.00000000e+000]\n",
      " [0.00000000e+000 0.00000000e+000 0.00000000e+000 0.00000000e+000\n",
      "  0.00000000e+000 0.00000000e+000 0.00000000e+000 0.00000000e+000\n",
      "  1.00000000e+000]]\n"
     ]
    }
   ],
   "source": [
    "print(scrambled_images_split.shape)\n",
    "ims = np.reshape(scrambled_images_split[0,:,:,:,0], [n_squares, -1])\n",
    "#ims = np.reshape(real_images_split[0,:,:,:,0], [n_squares, -1])\n",
    "\n",
    "im = np.reshape(real_images_split[0,:,:,:,0], [n_squares, -1])\n",
    "sqim = np.tile(np.sum(im **2, axis=1, keepdims=True), [1, n_squares])\n",
    "\n",
    "d = sqim +sqim.T - 2*np.matmul(im, im.T)\n",
    "sqims= np.tile(np.sum(ims **2, axis=1, keepdims=True), [1, n_squares])\n",
    "ds = sqims +sqims.T - 2*np.matmul(ims, ims.T)\n",
    "eps=0.01\n",
    "tau=1./eps\n",
    "logYt = P*0\n",
    "P = 1*np.eye(n_squares) \n",
    "#P = Ps[0]\n",
    "print(perm)\n",
    "print(np.sum((np.matmul(P,im)-ims)**2))\n",
    "for p in range(100):\n",
    "    eps =eps*1.0\n",
    "    tau=tau/1.0\n",
    "    #logYt = deepcopy(tau*np.matmul(ds, np.matmul(P, ds2))+(1-tau*eps )*np.log(P))\n",
    "    ab= np.matmul(ds, np.matmul(P, d))\n",
    "    a2 = np.tile(np.nansum(ds **2, axis=1, keepdims=True), [1, n_squares])\n",
    "    b2 = np.tile(np.nansum(d **2, axis=1, keepdims=True), [1, n_squares]).T\n",
    "\n",
    "    logYt = -tau* (a2+b2 - 2 *ab)\n",
    "    \n",
    "    P= deepcopy(sinkhorn(logYt, n_iters=500))\n",
    "    a=np.sum((np.matmul(P,im)-ims)**2)\n",
    "    b = np.sum((np.matmul(P,ims)-im)**2)\n",
    "    print([a,b])\n",
    "print(P)"
   ]
  },
  {
   "cell_type": "code",
   "execution_count": 230,
   "metadata": {},
   "outputs": [
    {
     "data": {
      "text/plain": [
       "<matplotlib.image.AxesImage at 0x7fcfec497d10>"
      ]
     },
     "execution_count": 230,
     "metadata": {},
     "output_type": "execute_result"
    },
    {
     "data": {
      "image/png": "[encoded data removed]",
      "text/plain": [
       "<Figure size 432x288 with 1 Axes>"
      ]
     },
     "metadata": {
      "needs_background": "light"
     },
     "output_type": "display_data"
    }
   ],
   "source": [
    "plt.imshow(P)"
   ]
  },
  {
   "cell_type": "code",
   "execution_count": 222,
   "metadata": {},
   "outputs": [
    {
     "data": {
      "text/plain": [
       "<matplotlib.image.AxesImage at 0x7fcfec62b590>"
      ]
     },
     "execution_count": 222,
     "metadata": {},
     "output_type": "execute_result"
    },
    {
     "data": {
      "image/png": "[encoded data removed]",
      "text/plain": [
       "<Figure size 432x288 with 1 Axes>"
      ]
     },
     "metadata": {
      "needs_background": "light"
     },
     "output_type": "display_data"
    }
   ],
   "source": [
    "plt.imshow(Ps[0])"
   ]
  },
  {
   "cell_type": "code",
   "execution_count": null,
   "metadata": {},
   "outputs": [],
   "source": []
  }
 ],
 "metadata": {
  "kernelspec": {
   "display_name": "Python 2",
   "language": "python",
   "name": "python2"
  },
  "language_info": {
   "codemirror_mode": {
    "name": "ipython",
    "version": 2
   },
   "file_extension": ".py",
   "mimetype": "text/x-python",
   "name": "python",
   "nbconvert_exporter": "python",
   "pygments_lexer": "ipython2",
   "version": "2.7.15+"
  }
 },
 "nbformat": 4,
 "nbformat_minor": 1
}
